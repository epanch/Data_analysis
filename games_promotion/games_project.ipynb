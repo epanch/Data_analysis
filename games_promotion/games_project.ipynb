{
 "cells": [
  {
   "cell_type": "markdown",
   "id": "085ff416",
   "metadata": {},
   "source": [
    "## Описание данных:\n",
    "**Name** — название игры  \n",
    "**Platform** — платформа   \n",
    "**Year_of_Release** — год выпуска  \n",
    "**Genre** — жанр игры  \n",
    "**NA_sales** — продажи в Северной Америке (миллионы проданных копий)  \n",
    "**EU_sales** — продажи в Европе (миллионы проданных копий)  \n",
    "**JP_sales** — продажи в Японии (миллионы проданных копий)  \n",
    "**Other_sales** — продажи в других странах (миллионы проданных копий)  \n",
    "**Critic_Score** — оценка критиков (максимум 100)  \n",
    "**User_Score** — оценка пользователей (максимум 10) Rating — рейтинг от организации ESRB (англ. Entertainment Software Rating Board). Эта ассоциация определяет рейтинг компьютерных игр и присваивает им подходящую возрастную категорию. Данные за 2016 год могут быть неполными."
   ]
  },
  {
   "cell_type": "markdown",
   "id": "81f8be9a",
   "metadata": {},
   "source": [
    "___"
   ]
  },
  {
   "cell_type": "markdown",
   "id": "e58c45f3",
   "metadata": {},
   "source": [
    "## Шаг 1. Откройте файл с данными и изучите общую информацию"
   ]
  },
  {
   "cell_type": "code",
   "execution_count": 9,
   "id": "1b8d2cd7",
   "metadata": {},
   "outputs": [],
   "source": [
    "import pandas as pd\n",
    "import numpy as np\n",
    "import matplotlib.pyplot as plt\n",
    "import seaborn as sns\n",
    "from scipy import stats as st"
   ]
  },
  {
   "cell_type": "code",
   "execution_count": 10,
   "id": "5fb28594",
   "metadata": {},
   "outputs": [
    {
     "data": {
      "text/html": [
       "<div>\n",
       "<style scoped>\n",
       "    .dataframe tbody tr th:only-of-type {\n",
       "        vertical-align: middle;\n",
       "    }\n",
       "\n",
       "    .dataframe tbody tr th {\n",
       "        vertical-align: top;\n",
       "    }\n",
       "\n",
       "    .dataframe thead th {\n",
       "        text-align: right;\n",
       "    }\n",
       "</style>\n",
       "<table border=\"1\" class=\"dataframe\">\n",
       "  <thead>\n",
       "    <tr style=\"text-align: right;\">\n",
       "      <th></th>\n",
       "      <th>Name</th>\n",
       "      <th>Platform</th>\n",
       "      <th>Year_of_Release</th>\n",
       "      <th>Genre</th>\n",
       "      <th>NA_sales</th>\n",
       "      <th>EU_sales</th>\n",
       "      <th>JP_sales</th>\n",
       "      <th>Other_sales</th>\n",
       "      <th>Critic_Score</th>\n",
       "      <th>User_Score</th>\n",
       "      <th>Rating</th>\n",
       "    </tr>\n",
       "  </thead>\n",
       "  <tbody>\n",
       "    <tr>\n",
       "      <th>0</th>\n",
       "      <td>Wii Sports</td>\n",
       "      <td>Wii</td>\n",
       "      <td>2006.0</td>\n",
       "      <td>Sports</td>\n",
       "      <td>41.36</td>\n",
       "      <td>28.96</td>\n",
       "      <td>3.77</td>\n",
       "      <td>8.45</td>\n",
       "      <td>76.0</td>\n",
       "      <td>8</td>\n",
       "      <td>E</td>\n",
       "    </tr>\n",
       "    <tr>\n",
       "      <th>1</th>\n",
       "      <td>Super Mario Bros.</td>\n",
       "      <td>NES</td>\n",
       "      <td>1985.0</td>\n",
       "      <td>Platform</td>\n",
       "      <td>29.08</td>\n",
       "      <td>3.58</td>\n",
       "      <td>6.81</td>\n",
       "      <td>0.77</td>\n",
       "      <td>NaN</td>\n",
       "      <td>NaN</td>\n",
       "      <td>NaN</td>\n",
       "    </tr>\n",
       "    <tr>\n",
       "      <th>2</th>\n",
       "      <td>Mario Kart Wii</td>\n",
       "      <td>Wii</td>\n",
       "      <td>2008.0</td>\n",
       "      <td>Racing</td>\n",
       "      <td>15.68</td>\n",
       "      <td>12.76</td>\n",
       "      <td>3.79</td>\n",
       "      <td>3.29</td>\n",
       "      <td>82.0</td>\n",
       "      <td>8.3</td>\n",
       "      <td>E</td>\n",
       "    </tr>\n",
       "    <tr>\n",
       "      <th>3</th>\n",
       "      <td>Wii Sports Resort</td>\n",
       "      <td>Wii</td>\n",
       "      <td>2009.0</td>\n",
       "      <td>Sports</td>\n",
       "      <td>15.61</td>\n",
       "      <td>10.93</td>\n",
       "      <td>3.28</td>\n",
       "      <td>2.95</td>\n",
       "      <td>80.0</td>\n",
       "      <td>8</td>\n",
       "      <td>E</td>\n",
       "    </tr>\n",
       "    <tr>\n",
       "      <th>4</th>\n",
       "      <td>Pokemon Red/Pokemon Blue</td>\n",
       "      <td>GB</td>\n",
       "      <td>1996.0</td>\n",
       "      <td>Role-Playing</td>\n",
       "      <td>11.27</td>\n",
       "      <td>8.89</td>\n",
       "      <td>10.22</td>\n",
       "      <td>1.00</td>\n",
       "      <td>NaN</td>\n",
       "      <td>NaN</td>\n",
       "      <td>NaN</td>\n",
       "    </tr>\n",
       "  </tbody>\n",
       "</table>\n",
       "</div>"
      ],
      "text/plain": [
       "                       Name Platform  Year_of_Release         Genre  NA_sales  \\\n",
       "0                Wii Sports      Wii           2006.0        Sports     41.36   \n",
       "1         Super Mario Bros.      NES           1985.0      Platform     29.08   \n",
       "2            Mario Kart Wii      Wii           2008.0        Racing     15.68   \n",
       "3         Wii Sports Resort      Wii           2009.0        Sports     15.61   \n",
       "4  Pokemon Red/Pokemon Blue       GB           1996.0  Role-Playing     11.27   \n",
       "\n",
       "   EU_sales  JP_sales  Other_sales  Critic_Score User_Score Rating  \n",
       "0     28.96      3.77         8.45          76.0          8      E  \n",
       "1      3.58      6.81         0.77           NaN        NaN    NaN  \n",
       "2     12.76      3.79         3.29          82.0        8.3      E  \n",
       "3     10.93      3.28         2.95          80.0          8      E  \n",
       "4      8.89     10.22         1.00           NaN        NaN    NaN  "
      ]
     },
     "execution_count": 10,
     "metadata": {},
     "output_type": "execute_result"
    }
   ],
   "source": [
    "df = pd.read_csv('/Users/nonadoinjashvili/Desktop/DA/data/games.csv')\n",
    "df.head(5)"
   ]
  },
  {
   "cell_type": "code",
   "execution_count": 11,
   "id": "1b11b1fc",
   "metadata": {},
   "outputs": [
    {
     "name": "stdout",
     "output_type": "stream",
     "text": [
      "<class 'pandas.core.frame.DataFrame'>\n",
      "RangeIndex: 16715 entries, 0 to 16714\n",
      "Data columns (total 11 columns):\n",
      " #   Column           Non-Null Count  Dtype  \n",
      "---  ------           --------------  -----  \n",
      " 0   Name             16713 non-null  object \n",
      " 1   Platform         16715 non-null  object \n",
      " 2   Year_of_Release  16446 non-null  float64\n",
      " 3   Genre            16713 non-null  object \n",
      " 4   NA_sales         16715 non-null  float64\n",
      " 5   EU_sales         16715 non-null  float64\n",
      " 6   JP_sales         16715 non-null  float64\n",
      " 7   Other_sales      16715 non-null  float64\n",
      " 8   Critic_Score     8137 non-null   float64\n",
      " 9   User_Score       10014 non-null  object \n",
      " 10  Rating           9949 non-null   object \n",
      "dtypes: float64(6), object(5)\n",
      "memory usage: 1.4+ MB\n"
     ]
    }
   ],
   "source": [
    "df.info()"
   ]
  },
  {
   "cell_type": "code",
   "execution_count": 12,
   "id": "e6e881c3",
   "metadata": {},
   "outputs": [
    {
     "data": {
      "text/plain": [
       "Index(['Name', 'Platform', 'Year_of_Release', 'Genre', 'NA_sales', 'EU_sales',\n",
       "       'JP_sales', 'Other_sales', 'Critic_Score', 'User_Score', 'Rating'],\n",
       "      dtype='object')"
      ]
     },
     "execution_count": 12,
     "metadata": {},
     "output_type": "execute_result"
    }
   ],
   "source": [
    "df.columns"
   ]
  },
  {
   "cell_type": "markdown",
   "id": "85a50176",
   "metadata": {},
   "source": [
    "Столбцы необходимо привести к нижнему регистру."
   ]
  },
  {
   "cell_type": "code",
   "execution_count": 13,
   "id": "c4320214",
   "metadata": {},
   "outputs": [
    {
     "data": {
      "text/plain": [
       "0"
      ]
     },
     "execution_count": 13,
     "metadata": {},
     "output_type": "execute_result"
    }
   ],
   "source": [
    "df.duplicated().sum()"
   ]
  },
  {
   "cell_type": "markdown",
   "id": "031a7443",
   "metadata": {},
   "source": [
    "Явных дубликатов нет."
   ]
  },
  {
   "cell_type": "code",
   "execution_count": 14,
   "id": "a644fecf",
   "metadata": {},
   "outputs": [
    {
     "data": {
      "text/plain": [
       "Name                  2\n",
       "Platform              0\n",
       "Year_of_Release     269\n",
       "Genre                 2\n",
       "NA_sales              0\n",
       "EU_sales              0\n",
       "JP_sales              0\n",
       "Other_sales           0\n",
       "Critic_Score       8578\n",
       "User_Score         6701\n",
       "Rating             6766\n",
       "dtype: int64"
      ]
     },
     "execution_count": 14,
     "metadata": {},
     "output_type": "execute_result"
    }
   ],
   "source": [
    "df.isna().sum()"
   ]
  },
  {
   "cell_type": "markdown",
   "id": "8c6b8918",
   "metadata": {},
   "source": [
    "1) Пропуски в Name и Year_of_Release можем удалить, в виду незначительного количества записей.  \n",
    "2) Пропуски в Critic_Score и User_Score заполнять не будем, так как любое заполнение исказит результаты стат-тестов.  \n",
    "3) Пропуски в rating заполним значением 'unknown', так как переменная категориальная."
   ]
  },
  {
   "cell_type": "markdown",
   "id": "d4843542",
   "metadata": {},
   "source": [
    "___"
   ]
  },
  {
   "cell_type": "markdown",
   "id": "4fe70c40",
   "metadata": {},
   "source": [
    "## Шаг 2. Готовим данные для анализа"
   ]
  },
  {
   "cell_type": "code",
   "execution_count": 15,
   "id": "b87f09f4",
   "metadata": {},
   "outputs": [
    {
     "data": {
      "text/html": [
       "<div>\n",
       "<style scoped>\n",
       "    .dataframe tbody tr th:only-of-type {\n",
       "        vertical-align: middle;\n",
       "    }\n",
       "\n",
       "    .dataframe tbody tr th {\n",
       "        vertical-align: top;\n",
       "    }\n",
       "\n",
       "    .dataframe thead th {\n",
       "        text-align: right;\n",
       "    }\n",
       "</style>\n",
       "<table border=\"1\" class=\"dataframe\">\n",
       "  <thead>\n",
       "    <tr style=\"text-align: right;\">\n",
       "      <th></th>\n",
       "      <th>name</th>\n",
       "      <th>platform</th>\n",
       "      <th>year_of_release</th>\n",
       "      <th>genre</th>\n",
       "      <th>na_sales</th>\n",
       "      <th>eu_sales</th>\n",
       "      <th>jp_sales</th>\n",
       "      <th>other_sales</th>\n",
       "      <th>critic_score</th>\n",
       "      <th>user_score</th>\n",
       "      <th>rating</th>\n",
       "    </tr>\n",
       "  </thead>\n",
       "  <tbody>\n",
       "    <tr>\n",
       "      <th>0</th>\n",
       "      <td>Wii Sports</td>\n",
       "      <td>Wii</td>\n",
       "      <td>2006.0</td>\n",
       "      <td>Sports</td>\n",
       "      <td>41.36</td>\n",
       "      <td>28.96</td>\n",
       "      <td>3.77</td>\n",
       "      <td>8.45</td>\n",
       "      <td>76.0</td>\n",
       "      <td>8</td>\n",
       "      <td>E</td>\n",
       "    </tr>\n",
       "    <tr>\n",
       "      <th>1</th>\n",
       "      <td>Super Mario Bros.</td>\n",
       "      <td>NES</td>\n",
       "      <td>1985.0</td>\n",
       "      <td>Platform</td>\n",
       "      <td>29.08</td>\n",
       "      <td>3.58</td>\n",
       "      <td>6.81</td>\n",
       "      <td>0.77</td>\n",
       "      <td>NaN</td>\n",
       "      <td>NaN</td>\n",
       "      <td>NaN</td>\n",
       "    </tr>\n",
       "    <tr>\n",
       "      <th>2</th>\n",
       "      <td>Mario Kart Wii</td>\n",
       "      <td>Wii</td>\n",
       "      <td>2008.0</td>\n",
       "      <td>Racing</td>\n",
       "      <td>15.68</td>\n",
       "      <td>12.76</td>\n",
       "      <td>3.79</td>\n",
       "      <td>3.29</td>\n",
       "      <td>82.0</td>\n",
       "      <td>8.3</td>\n",
       "      <td>E</td>\n",
       "    </tr>\n",
       "    <tr>\n",
       "      <th>3</th>\n",
       "      <td>Wii Sports Resort</td>\n",
       "      <td>Wii</td>\n",
       "      <td>2009.0</td>\n",
       "      <td>Sports</td>\n",
       "      <td>15.61</td>\n",
       "      <td>10.93</td>\n",
       "      <td>3.28</td>\n",
       "      <td>2.95</td>\n",
       "      <td>80.0</td>\n",
       "      <td>8</td>\n",
       "      <td>E</td>\n",
       "    </tr>\n",
       "    <tr>\n",
       "      <th>4</th>\n",
       "      <td>Pokemon Red/Pokemon Blue</td>\n",
       "      <td>GB</td>\n",
       "      <td>1996.0</td>\n",
       "      <td>Role-Playing</td>\n",
       "      <td>11.27</td>\n",
       "      <td>8.89</td>\n",
       "      <td>10.22</td>\n",
       "      <td>1.00</td>\n",
       "      <td>NaN</td>\n",
       "      <td>NaN</td>\n",
       "      <td>NaN</td>\n",
       "    </tr>\n",
       "  </tbody>\n",
       "</table>\n",
       "</div>"
      ],
      "text/plain": [
       "                       name platform  year_of_release         genre  na_sales  \\\n",
       "0                Wii Sports      Wii           2006.0        Sports     41.36   \n",
       "1         Super Mario Bros.      NES           1985.0      Platform     29.08   \n",
       "2            Mario Kart Wii      Wii           2008.0        Racing     15.68   \n",
       "3         Wii Sports Resort      Wii           2009.0        Sports     15.61   \n",
       "4  Pokemon Red/Pokemon Blue       GB           1996.0  Role-Playing     11.27   \n",
       "\n",
       "   eu_sales  jp_sales  other_sales  critic_score user_score rating  \n",
       "0     28.96      3.77         8.45          76.0          8      E  \n",
       "1      3.58      6.81         0.77           NaN        NaN    NaN  \n",
       "2     12.76      3.79         3.29          82.0        8.3      E  \n",
       "3     10.93      3.28         2.95          80.0          8      E  \n",
       "4      8.89     10.22         1.00           NaN        NaN    NaN  "
      ]
     },
     "execution_count": 15,
     "metadata": {},
     "output_type": "execute_result"
    }
   ],
   "source": [
    "df.columns = df.columns.str.lower()\n",
    "df.head(5)"
   ]
  },
  {
   "cell_type": "markdown",
   "id": "7a94a876",
   "metadata": {},
   "source": [
    "### 2.1 обратавываем пропуски"
   ]
  },
  {
   "cell_type": "code",
   "execution_count": 17,
   "id": "38088be0",
   "metadata": {},
   "outputs": [
    {
     "data": {
      "text/plain": [
       "name                  0\n",
       "platform              0\n",
       "year_of_release       0\n",
       "genre                 0\n",
       "na_sales              0\n",
       "eu_sales              0\n",
       "jp_sales              0\n",
       "other_sales           0\n",
       "critic_score       8461\n",
       "user_score         6605\n",
       "rating                0\n",
       "dtype: int64"
      ]
     },
     "execution_count": 17,
     "metadata": {},
     "output_type": "execute_result"
    }
   ],
   "source": [
    "df = df.dropna(subset=['name','year_of_release'])\n",
    "df['rating'] = df['rating'].fillna('unknown')\n",
    "df.isna().sum()"
   ]
  },
  {
   "cell_type": "markdown",
   "id": "5066493b",
   "metadata": {},
   "source": [
    "Обработали пропуски, исходя из выводов, сделанных после промотра данных."
   ]
  },
  {
   "cell_type": "code",
   "execution_count": 18,
   "id": "8264224a",
   "metadata": {},
   "outputs": [],
   "source": [
    "df = df.replace('tbd', 'nan')"
   ]
  },
  {
   "cell_type": "markdown",
   "id": "45ab299a",
   "metadata": {},
   "source": [
    "Заменяем tиd на nan для обеспечения однородности данных."
   ]
  },
  {
   "cell_type": "markdown",
   "id": "5ccf2299",
   "metadata": {},
   "source": [
    "### 2.2 Изменяем типы данных"
   ]
  },
  {
   "cell_type": "code",
   "execution_count": 19,
   "id": "0b3e5c95",
   "metadata": {},
   "outputs": [
    {
     "data": {
      "text/plain": [
       "name                object\n",
       "platform            object\n",
       "year_of_release      int64\n",
       "genre               object\n",
       "na_sales           float64\n",
       "eu_sales           float64\n",
       "jp_sales           float64\n",
       "other_sales        float64\n",
       "critic_score       float64\n",
       "user_score         float64\n",
       "rating              object\n",
       "dtype: object"
      ]
     },
     "execution_count": 19,
     "metadata": {},
     "output_type": "execute_result"
    }
   ],
   "source": [
    "df['user_score'] = df['user_score'].astype('float')\n",
    "df['year_of_release'] = df['year_of_release'].astype('int')\n",
    "df.dtypes"
   ]
  },
  {
   "cell_type": "markdown",
   "id": "32e08e6d",
   "metadata": {},
   "source": [
    "### 2.3 Добавляем столбец с суммарными продажами"
   ]
  },
  {
   "cell_type": "code",
   "execution_count": 20,
   "id": "05533348",
   "metadata": {},
   "outputs": [],
   "source": [
    "df['total_region_sales'] =  df['na_sales'] + df['eu_sales'] + df['jp_sales'] + df['other_sales']"
   ]
  },
  {
   "cell_type": "markdown",
   "id": "580f3b5f",
   "metadata": {},
   "source": [
    "Добавили столбец с суммой продаж по всем регионам."
   ]
  },
  {
   "cell_type": "markdown",
   "id": "3b53e21b",
   "metadata": {},
   "source": [
    "___"
   ]
  },
  {
   "cell_type": "markdown",
   "id": "39a8db88",
   "metadata": {},
   "source": [
    "# Шаг 3. Проводим исследовательский анализ данных"
   ]
  },
  {
   "cell_type": "markdown",
   "id": "8a4afac8",
   "metadata": {},
   "source": [
    "### 3.1 Посмотрим на динамику выпуска игр в разные годы"
   ]
  },
  {
   "cell_type": "code",
   "execution_count": 26,
   "id": "4aa2aa34",
   "metadata": {},
   "outputs": [
    {
     "data": {
      "image/png": "[encoded data removed]",
      "text/plain": [
       "<Figure size 1080x360 with 1 Axes>"
      ]
     },
     "metadata": {
      "needs_background": "light"
     },
     "output_type": "display_data"
    }
   ],
   "source": [
    "df.groupby('year_of_release')['name']\\\n",
    ".count()\\\n",
    ".plot(grid=True, figsize=(15,5))\n",
    "plt.title('Platform dynamics')\n",
    "\n",
    "plt.show()"
   ]
  },
  {
   "cell_type": "markdown",
   "id": "f85cd70a",
   "metadata": {},
   "source": [
    "Пик в районе 2008-2009 годов. Возьмём данные за  период после 2012 года, так как игровая индустрия динамично меняется из года в год и более старые данные не помогут в анализе."
   ]
  },
  {
   "cell_type": "markdown",
   "id": "97bb3375",
   "metadata": {},
   "source": [
    "### 3.2 Посмотрим, как менялись продажи по платформам. Выберем платформы с наибольшими суммарными продажами и постройте распределение по годам. Выберем актуальный срок для анализа."
   ]
  },
  {
   "cell_type": "code",
   "execution_count": 28,
   "id": "2683f004",
   "metadata": {},
   "outputs": [
    {
     "data": {
      "text/plain": [
       "platform\n",
       "PS2     1233.56\n",
       "X360     961.24\n",
       "PS3      931.34\n",
       "Wii      891.18\n",
       "DS       802.78\n",
       "PS       727.58\n",
       "PS4      314.14\n",
       "GBA      312.88\n",
       "PSP      289.53\n",
       "3DS      257.81\n",
       "Name: total_region_sales, dtype: float64"
      ]
     },
     "execution_count": 28,
     "metadata": {},
     "output_type": "execute_result"
    }
   ],
   "source": [
    "top_platforms = df.groupby('platform')['total_region_sales'].sum()\\\n",
    ".sort_values(ascending=False)\\\n",
    ".head(10)\n",
    "\n",
    "top_platforms"
   ]
  },
  {
   "cell_type": "markdown",
   "id": "e1fde778",
   "metadata": {},
   "source": [
    "Выбрали ТОП 10 платформы с наибольшими суммарными продажами."
   ]
  },
  {
   "cell_type": "code",
   "execution_count": 31,
   "id": "c47c17f7",
   "metadata": {},
   "outputs": [],
   "source": [
    "df_year = df.query('year_of_release > 2012')"
   ]
  },
  {
   "cell_type": "markdown",
   "id": "682cf065",
   "metadata": {},
   "source": [
    "Сделали срез не старее 2013 года. Возьмём данные за актуальный период после 2012 года, так как игровая индустрия динамично меняется из года в год."
   ]
  },
  {
   "cell_type": "code",
   "execution_count": 41,
   "id": "e19794cb",
   "metadata": {},
   "outputs": [
    {
     "data": {
      "text/html": [
       "<div>\n",
       "<style scoped>\n",
       "    .dataframe tbody tr th:only-of-type {\n",
       "        vertical-align: middle;\n",
       "    }\n",
       "\n",
       "    .dataframe tbody tr th {\n",
       "        vertical-align: top;\n",
       "    }\n",
       "\n",
       "    .dataframe thead th {\n",
       "        text-align: right;\n",
       "    }\n",
       "</style>\n",
       "<table border=\"1\" class=\"dataframe\">\n",
       "  <thead>\n",
       "    <tr style=\"text-align: right;\">\n",
       "      <th>platform</th>\n",
       "      <th>3DS</th>\n",
       "      <th>DS</th>\n",
       "      <th>PC</th>\n",
       "      <th>PS3</th>\n",
       "      <th>PS4</th>\n",
       "      <th>PSP</th>\n",
       "      <th>PSV</th>\n",
       "      <th>Wii</th>\n",
       "      <th>WiiU</th>\n",
       "      <th>X360</th>\n",
       "      <th>XOne</th>\n",
       "    </tr>\n",
       "    <tr>\n",
       "      <th>year_of_release</th>\n",
       "      <th></th>\n",
       "      <th></th>\n",
       "      <th></th>\n",
       "      <th></th>\n",
       "      <th></th>\n",
       "      <th></th>\n",
       "      <th></th>\n",
       "      <th></th>\n",
       "      <th></th>\n",
       "      <th></th>\n",
       "      <th></th>\n",
       "    </tr>\n",
       "  </thead>\n",
       "  <tbody>\n",
       "    <tr>\n",
       "      <th>2013</th>\n",
       "      <td>56.57</td>\n",
       "      <td>1.54</td>\n",
       "      <td>12.38</td>\n",
       "      <td>113.25</td>\n",
       "      <td>25.99</td>\n",
       "      <td>3.14</td>\n",
       "      <td>10.59</td>\n",
       "      <td>8.59</td>\n",
       "      <td>21.65</td>\n",
       "      <td>88.58</td>\n",
       "      <td>18.96</td>\n",
       "    </tr>\n",
       "    <tr>\n",
       "      <th>2014</th>\n",
       "      <td>43.76</td>\n",
       "      <td>NaN</td>\n",
       "      <td>13.28</td>\n",
       "      <td>47.76</td>\n",
       "      <td>100.00</td>\n",
       "      <td>0.24</td>\n",
       "      <td>11.90</td>\n",
       "      <td>3.75</td>\n",
       "      <td>22.03</td>\n",
       "      <td>34.74</td>\n",
       "      <td>54.07</td>\n",
       "    </tr>\n",
       "    <tr>\n",
       "      <th>2015</th>\n",
       "      <td>27.78</td>\n",
       "      <td>NaN</td>\n",
       "      <td>8.52</td>\n",
       "      <td>16.82</td>\n",
       "      <td>118.90</td>\n",
       "      <td>0.12</td>\n",
       "      <td>6.25</td>\n",
       "      <td>1.14</td>\n",
       "      <td>16.35</td>\n",
       "      <td>11.96</td>\n",
       "      <td>60.14</td>\n",
       "    </tr>\n",
       "    <tr>\n",
       "      <th>2016</th>\n",
       "      <td>15.14</td>\n",
       "      <td>NaN</td>\n",
       "      <td>5.25</td>\n",
       "      <td>3.60</td>\n",
       "      <td>69.25</td>\n",
       "      <td>NaN</td>\n",
       "      <td>4.25</td>\n",
       "      <td>0.18</td>\n",
       "      <td>4.60</td>\n",
       "      <td>1.52</td>\n",
       "      <td>26.15</td>\n",
       "    </tr>\n",
       "  </tbody>\n",
       "</table>\n",
       "</div>"
      ],
      "text/plain": [
       "platform           3DS    DS     PC     PS3     PS4   PSP    PSV   Wii   WiiU  \\\n",
       "year_of_release                                                                 \n",
       "2013             56.57  1.54  12.38  113.25   25.99  3.14  10.59  8.59  21.65   \n",
       "2014             43.76   NaN  13.28   47.76  100.00  0.24  11.90  3.75  22.03   \n",
       "2015             27.78   NaN   8.52   16.82  118.90  0.12   6.25  1.14  16.35   \n",
       "2016             15.14   NaN   5.25    3.60   69.25   NaN   4.25  0.18   4.60   \n",
       "\n",
       "platform          X360   XOne  \n",
       "year_of_release                \n",
       "2013             88.58  18.96  \n",
       "2014             34.74  54.07  \n",
       "2015             11.96  60.14  \n",
       "2016              1.52  26.15  "
      ]
     },
     "execution_count": 41,
     "metadata": {},
     "output_type": "execute_result"
    }
   ],
   "source": [
    "platforms_pivot = df_year\\\n",
    ".pivot_table(index = 'year_of_release', values = 'total_region_sales', columns = 'platform', aggfunc = 'sum')\n",
    "\n",
    "platforms_pivot"
   ]
  },
  {
   "cell_type": "code",
   "execution_count": 45,
   "id": "7d6b224c",
   "metadata": {
    "scrolled": true
   },
   "outputs": [
    {
     "data": {
      "image/png": "[encoded data removed]",
      "text/plain": [
       "<Figure size 1440x432 with 1 Axes>"
      ]
     },
     "metadata": {
      "needs_background": "light"
     },
     "output_type": "display_data"
    }
   ],
   "source": [
    "platforms_pivot.plot.area(figsize=(20, 6))\n",
    "\n",
    "plt.show()"
   ]
  },
  {
   "cell_type": "markdown",
   "id": "ea8e52ca",
   "metadata": {},
   "source": [
    "Наиболее перспективные платформы исходя из площади областей графика и актуальности по годам: Wii, XOne, PS4, X360, 3DS."
   ]
  },
  {
   "cell_type": "code",
   "execution_count": 46,
   "id": "4f441e4b",
   "metadata": {},
   "outputs": [],
   "source": [
    "top_5 = ['WiiU', 'XOne', 'PS4', 'X360', '3DS']\n",
    "new_top = df_year.query('platform in @top_5')"
   ]
  },
  {
   "cell_type": "markdown",
   "id": "5c0a01f1",
   "metadata": {},
   "source": [
    "Сформировали новый топ-5 из топ-10. Связи из топовых по продажам, перспективные исходя из графика."
   ]
  },
  {
   "cell_type": "markdown",
   "id": "5340c600",
   "metadata": {},
   "source": [
    "### 3.3 Построим график «ящик с усами» по глобальным продажам игр в разбивке по платформам"
   ]
  },
  {
   "cell_type": "code",
   "execution_count": 47,
   "id": "36f92191",
   "metadata": {},
   "outputs": [
    {
     "data": {
      "text/plain": [
       "(-0.2, 25.0)"
      ]
     },
     "execution_count": 47,
     "metadata": {},
     "output_type": "execute_result"
    },
    {
     "data": {
      "image/png": "[encoded data removed]",
      "text/plain": [
       "<Figure size 432x288 with 1 Axes>"
      ]
     },
     "metadata": {
      "needs_background": "light"
     },
     "output_type": "display_data"
    }
   ],
   "source": [
    "sns.boxplot(x=\"platform\", y=\"total_region_sales\", data = df_year)\n",
    "plt.ylim(-0.2, 25)"
   ]
  },
  {
   "cell_type": "code",
   "execution_count": 48,
   "id": "f97185c6",
   "metadata": {},
   "outputs": [
    {
     "data": {
      "text/plain": [
       "(-0.2, 2.0)"
      ]
     },
     "execution_count": 48,
     "metadata": {},
     "output_type": "execute_result"
    },
    {
     "data": {
      "image/png": "[encoded data removed]",
      "text/plain": [
       "<Figure size 432x288 with 1 Axes>"
      ]
     },
     "metadata": {
      "needs_background": "light"
     },
     "output_type": "display_data"
    }
   ],
   "source": [
    "sns.boxplot(x=\"platform\", y=\"total_region_sales\", data = df_year)\n",
    "plt.ylim(-0.2, 2)"
   ]
  },
  {
   "cell_type": "markdown",
   "id": "db8c0049",
   "metadata": {},
   "source": [
    "Построили ящики с усами по платформам. Наибольшие показатели медианного значения наблюдаются у XOne и X360, так же на хорошем уровне PS3, PS4 и WiiU. Это говорит нам о стальности платформ на рынке."
   ]
  },
  {
   "cell_type": "code",
   "execution_count": 50,
   "id": "9cf96fc6",
   "metadata": {},
   "outputs": [],
   "source": [
    "df_PS4 = new_top.query('platform == \"PS4\"')\n",
    "df_PS4 = df_PS4[['critic_score', 'user_score', 'total_region_sales']]"
   ]
  },
  {
   "cell_type": "markdown",
   "id": "fefa142b",
   "metadata": {},
   "source": [
    "Берём PS4 в первую очередь, так как на графике выше наибольшая область закрашенная ближе к 2016 года именно за этой платформой."
   ]
  },
  {
   "cell_type": "code",
   "execution_count": 51,
   "id": "28272c4e",
   "metadata": {},
   "outputs": [
    {
     "data": {
      "image/png": "[encoded data removed]",
      "text/plain": [
       "<Figure size 504x360 with 1 Axes>"
      ]
     },
     "metadata": {
      "needs_background": "light"
     },
     "output_type": "display_data"
    },
    {
     "data": {
      "image/png": "[encoded data removed]",
      "text/plain": [
       "<Figure size 504x360 with 1 Axes>"
      ]
     },
     "metadata": {
      "needs_background": "light"
     },
     "output_type": "display_data"
    }
   ],
   "source": [
    "df_PS4.plot( x='critic_score', y='total_region_sales', ylim=(0, 5),  kind='scatter', figsize=(7,5), grid=True, alpha=0.6)\n",
    "df_PS4.plot( x='user_score', y='total_region_sales', ylim=(0, 5), kind='scatter', figsize=(7,5), grid=True, alpha=0.6)\n",
    "\n",
    "plt.show()"
   ]
  },
  {
   "cell_type": "code",
   "execution_count": 25,
   "id": "4f02b889",
   "metadata": {},
   "outputs": [
    {
     "data": {
      "text/html": [
       "<div>\n",
       "<style scoped>\n",
       "    .dataframe tbody tr th:only-of-type {\n",
       "        vertical-align: middle;\n",
       "    }\n",
       "\n",
       "    .dataframe tbody tr th {\n",
       "        vertical-align: top;\n",
       "    }\n",
       "\n",
       "    .dataframe thead th {\n",
       "        text-align: right;\n",
       "    }\n",
       "</style>\n",
       "<table border=\"1\" class=\"dataframe\">\n",
       "  <thead>\n",
       "    <tr style=\"text-align: right;\">\n",
       "      <th></th>\n",
       "      <th>critic_score</th>\n",
       "      <th>user_score</th>\n",
       "      <th>total_region_sales</th>\n",
       "    </tr>\n",
       "  </thead>\n",
       "  <tbody>\n",
       "    <tr>\n",
       "      <th>critic_score</th>\n",
       "      <td>1.00</td>\n",
       "      <td>0.56</td>\n",
       "      <td>0.41</td>\n",
       "    </tr>\n",
       "    <tr>\n",
       "      <th>user_score</th>\n",
       "      <td>0.56</td>\n",
       "      <td>1.00</td>\n",
       "      <td>-0.03</td>\n",
       "    </tr>\n",
       "    <tr>\n",
       "      <th>total_region_sales</th>\n",
       "      <td>0.41</td>\n",
       "      <td>-0.03</td>\n",
       "      <td>1.00</td>\n",
       "    </tr>\n",
       "  </tbody>\n",
       "</table>\n",
       "</div>"
      ],
      "text/plain": [
       "                    critic_score  user_score  total_region_sales\n",
       "critic_score                1.00        0.56                0.41\n",
       "user_score                  0.56        1.00               -0.03\n",
       "total_region_sales          0.41       -0.03                1.00"
      ]
     },
     "execution_count": 25,
     "metadata": {},
     "output_type": "execute_result"
    }
   ],
   "source": [
    "df_PS4.corr().round(2)"
   ]
  },
  {
   "cell_type": "markdown",
   "id": "4ac54071",
   "metadata": {},
   "source": [
    "Корреляция с оценками более ярко выражена по платформам: X360 и PS3. Однако, даже в случае с этими платформами она не является существенно влияющей на продажи. Так же, прослеживается заметная корреляция оценок между собой."
   ]
  },
  {
   "cell_type": "markdown",
   "id": "03f43fed",
   "metadata": {},
   "source": [
    "### 3.4 Посмотрим на общее распределение игр по жанрам"
   ]
  },
  {
   "cell_type": "code",
   "execution_count": 54,
   "id": "caceb16e",
   "metadata": {},
   "outputs": [
    {
     "data": {
      "image/png": "[encoded data removed]",
      "text/plain": [
       "<Figure size 720x360 with 1 Axes>"
      ]
     },
     "metadata": {
      "needs_background": "light"
     },
     "output_type": "display_data"
    }
   ],
   "source": [
    "df_year.groupby(['genre'])\\\n",
    ".agg({'total_region_sales':'sum', 'name':'count'})\\\n",
    ".plot(kind='bar', figsize=(10,5))\n",
    "\n",
    "plt.show()"
   ]
  },
  {
   "cell_type": "code",
   "execution_count": 56,
   "id": "df156d3b",
   "metadata": {},
   "outputs": [
    {
     "data": {
      "text/html": [
       "<div>\n",
       "<style scoped>\n",
       "    .dataframe tbody tr th:only-of-type {\n",
       "        vertical-align: middle;\n",
       "    }\n",
       "\n",
       "    .dataframe tbody tr th {\n",
       "        vertical-align: top;\n",
       "    }\n",
       "\n",
       "    .dataframe thead th {\n",
       "        text-align: right;\n",
       "    }\n",
       "</style>\n",
       "<table border=\"1\" class=\"dataframe\">\n",
       "  <thead>\n",
       "    <tr style=\"text-align: right;\">\n",
       "      <th></th>\n",
       "      <th>total_region_sales</th>\n",
       "    </tr>\n",
       "    <tr>\n",
       "      <th>genre</th>\n",
       "      <th></th>\n",
       "    </tr>\n",
       "  </thead>\n",
       "  <tbody>\n",
       "    <tr>\n",
       "      <th>Shooter</th>\n",
       "      <td>0.450</td>\n",
       "    </tr>\n",
       "    <tr>\n",
       "      <th>Sports</th>\n",
       "      <td>0.240</td>\n",
       "    </tr>\n",
       "    <tr>\n",
       "      <th>Platform</th>\n",
       "      <td>0.225</td>\n",
       "    </tr>\n",
       "    <tr>\n",
       "      <th>Role-Playing</th>\n",
       "      <td>0.125</td>\n",
       "    </tr>\n",
       "    <tr>\n",
       "      <th>Fighting</th>\n",
       "      <td>0.125</td>\n",
       "    </tr>\n",
       "    <tr>\n",
       "      <th>Racing</th>\n",
       "      <td>0.120</td>\n",
       "    </tr>\n",
       "    <tr>\n",
       "      <th>Action</th>\n",
       "      <td>0.110</td>\n",
       "    </tr>\n",
       "    <tr>\n",
       "      <th>Simulation</th>\n",
       "      <td>0.100</td>\n",
       "    </tr>\n",
       "    <tr>\n",
       "      <th>Misc</th>\n",
       "      <td>0.100</td>\n",
       "    </tr>\n",
       "    <tr>\n",
       "      <th>Strategy</th>\n",
       "      <td>0.080</td>\n",
       "    </tr>\n",
       "    <tr>\n",
       "      <th>Puzzle</th>\n",
       "      <td>0.060</td>\n",
       "    </tr>\n",
       "    <tr>\n",
       "      <th>Adventure</th>\n",
       "      <td>0.030</td>\n",
       "    </tr>\n",
       "  </tbody>\n",
       "</table>\n",
       "</div>"
      ],
      "text/plain": [
       "              total_region_sales\n",
       "genre                           \n",
       "Shooter                    0.450\n",
       "Sports                     0.240\n",
       "Platform                   0.225\n",
       "Role-Playing               0.125\n",
       "Fighting                   0.125\n",
       "Racing                     0.120\n",
       "Action                     0.110\n",
       "Simulation                 0.100\n",
       "Misc                       0.100\n",
       "Strategy                   0.080\n",
       "Puzzle                     0.060\n",
       "Adventure                  0.030"
      ]
     },
     "execution_count": 56,
     "metadata": {},
     "output_type": "execute_result"
    }
   ],
   "source": [
    "df_year.pivot_table(index = 'genre', values = 'total_region_sales', aggfunc = 'median')\\\n",
    ". sort_values(by='total_region_sales', ascending=False)"
   ]
  },
  {
   "cell_type": "code",
   "execution_count": 57,
   "id": "8251f487",
   "metadata": {},
   "outputs": [
    {
     "data": {
      "text/plain": [
       "(-0.2, 25.0)"
      ]
     },
     "execution_count": 57,
     "metadata": {},
     "output_type": "execute_result"
    },
    {
     "data": {
      "image/png": "[encoded data removed]",
      "text/plain": [
       "<Figure size 1800x720 with 1 Axes>"
      ]
     },
     "metadata": {
      "needs_background": "light"
     },
     "output_type": "display_data"
    }
   ],
   "source": [
    "df_year.boxplot(by='genre', column='total_region_sales', figsize=(25,10))\n",
    "plt.ylim(-0.2, 25)"
   ]
  },
  {
   "cell_type": "code",
   "execution_count": 58,
   "id": "9b9631a8",
   "metadata": {},
   "outputs": [
    {
     "data": {
      "text/plain": [
       "(-0.2, 4.0)"
      ]
     },
     "execution_count": 58,
     "metadata": {},
     "output_type": "execute_result"
    },
    {
     "data": {
      "image/png": "[encoded data removed]",
      "text/plain": [
       "<Figure size 1800x720 with 1 Axes>"
      ]
     },
     "metadata": {
      "needs_background": "light"
     },
     "output_type": "display_data"
    }
   ],
   "source": [
    "df_year.boxplot(by='genre', column='total_region_sales', figsize=(25,10))\n",
    "plt.ylim(-0.2, 4)"
   ]
  },
  {
   "cell_type": "markdown",
   "id": "6171acd1",
   "metadata": {},
   "source": [
    "По результатам построения столбчатой диаграммы и диаграммы размаха, мы видим наблюдаем наиболее высокий медианный показатель у жанра - \"Shooter\". Из этого мы можем сделать вывод об устрочивом спросе на игры данного жанра. При этом наибольшие продажи по играм жанра - \"Action\", но соотношение по количеству выпущенных игр и продаж (примерно 2:1) говорит не в пользу данного жанра. Другими словами, в этом жанре выпускалось много игр, но выстреливали по продажам лишь немногие по соотношению с \"Shooter\". Об этом так же говорят и выбросы. На 3-ем и 4-ом месте по продажам \"Sports\" и \"RPG\", которые так же выходят на высокие показатели продаж при высоком показателе выпускаемых игр, как и \"Action\"."
   ]
  },
  {
   "cell_type": "markdown",
   "id": "753b0f46",
   "metadata": {},
   "source": [
    "# Шаг 4. Составим портрет пользователя каждого региона"
   ]
  },
  {
   "cell_type": "code",
   "execution_count": 59,
   "id": "7b033ecc",
   "metadata": {},
   "outputs": [
    {
     "data": {
      "text/plain": [
       "Index(['name', 'platform', 'year_of_release', 'genre', 'na_sales', 'eu_sales',\n",
       "       'jp_sales', 'other_sales', 'critic_score', 'user_score', 'rating',\n",
       "       'total_region_sales'],\n",
       "      dtype='object')"
      ]
     },
     "execution_count": 59,
     "metadata": {},
     "output_type": "execute_result"
    }
   ],
   "source": [
    "new_top.columns"
   ]
  },
  {
   "cell_type": "markdown",
   "id": "a183f740",
   "metadata": {},
   "source": [
    "### 4.1 Самые популярные платформы (топ-5)"
   ]
  },
  {
   "cell_type": "code",
   "execution_count": 76,
   "id": "8fd2a8a2",
   "metadata": {},
   "outputs": [
    {
     "data": {
      "image/png": "[encoded data removed]",
      "text/plain": [
       "<Figure size 432x288 with 1 Axes>"
      ]
     },
     "metadata": {},
     "output_type": "display_data"
    }
   ],
   "source": [
    "df_year.groupby(['platform']).agg({'na_sales':'sum'}).sort_values(by = 'na_sales', ascending=False).head(5)\\\n",
    ".plot(kind='pie', subplots=True)\n",
    "plt.title('NA sales')\n",
    "\n",
    "plt.show()"
   ]
  },
  {
   "cell_type": "markdown",
   "id": "ef8474df",
   "metadata": {},
   "source": [
    "По продажам в северной Америке лидирует PS4, на втором - XOne и на третьем - X360."
   ]
  },
  {
   "cell_type": "code",
   "execution_count": 77,
   "id": "45b9ff06",
   "metadata": {},
   "outputs": [
    {
     "data": {
      "image/png": "[encoded data removed]",
      "text/plain": [
       "<Figure size 432x288 with 1 Axes>"
      ]
     },
     "metadata": {},
     "output_type": "display_data"
    }
   ],
   "source": [
    "df_year.groupby(['platform']).agg({'eu_sales':'sum'}).sort_values(by = 'eu_sales', ascending=False).head(5)\\\n",
    ".plot(kind='pie', subplots=True)\n",
    "plt.title('EU sales')\n",
    "\n",
    "plt.show()"
   ]
  },
  {
   "cell_type": "markdown",
   "id": "4a6a04b7",
   "metadata": {},
   "source": [
    "В Европе уже с большим отрывом лидирует PS4."
   ]
  },
  {
   "cell_type": "code",
   "execution_count": 78,
   "id": "42253494",
   "metadata": {},
   "outputs": [
    {
     "data": {
      "image/png": "[encoded data removed]",
      "text/plain": [
       "<Figure size 432x288 with 1 Axes>"
      ]
     },
     "metadata": {},
     "output_type": "display_data"
    }
   ],
   "source": [
    "df_year.groupby(['platform']).agg({'jp_sales':'sum'}).sort_values(by = 'jp_sales', ascending=False).head(5)\\\n",
    ".plot(kind='pie', subplots=True)\n",
    "plt.title('JP sales')\n",
    "\n",
    "plt.show()"
   ]
  },
  {
   "cell_type": "markdown",
   "id": "e0ec8338",
   "metadata": {},
   "source": [
    "В Японии принципиально другая расстановка сил и на первое место выходит 3DS."
   ]
  },
  {
   "cell_type": "markdown",
   "id": "dba97ae7",
   "metadata": {},
   "source": [
    "### 4.2 Самые популярные жанры (топ-5)"
   ]
  },
  {
   "cell_type": "code",
   "execution_count": 79,
   "id": "0a04a4de",
   "metadata": {},
   "outputs": [
    {
     "data": {
      "image/png": "[encoded data removed]",
      "text/plain": [
       "<Figure size 432x288 with 1 Axes>"
      ]
     },
     "metadata": {},
     "output_type": "display_data"
    }
   ],
   "source": [
    "df_year.groupby(['genre']).agg({'na_sales':'sum'}).sort_values(by = 'na_sales', ascending=False).head(5).\\\n",
    "plot(kind='pie', subplots=True)\n",
    "plt.title('NA genres')\n",
    "\n",
    "plt.show()"
   ]
  },
  {
   "cell_type": "markdown",
   "id": "1ca8e59f",
   "metadata": {},
   "source": [
    "В Америке приоритет отдаётся жанрам: Action и Shooter."
   ]
  },
  {
   "cell_type": "code",
   "execution_count": 80,
   "id": "e2ce789b",
   "metadata": {},
   "outputs": [
    {
     "data": {
      "image/png": "[encoded data removed]",
      "text/plain": [
       "<Figure size 432x288 with 1 Axes>"
      ]
     },
     "metadata": {},
     "output_type": "display_data"
    }
   ],
   "source": [
    "df_year.groupby(['genre']).agg({'eu_sales':'sum'}).sort_values(by = 'eu_sales', ascending=False).head(5)\\\n",
    ".plot(kind='pie', subplots=True)\n",
    "plt.title('EU genres')\n",
    "\n",
    "plt.show()"
   ]
  },
  {
   "cell_type": "markdown",
   "id": "8e3f9839",
   "metadata": {},
   "source": [
    "Показатели в Европе практически повторяют Американские и тройка лидеров не изменилась."
   ]
  },
  {
   "cell_type": "code",
   "execution_count": 66,
   "id": "494d9c45",
   "metadata": {},
   "outputs": [
    {
     "data": {
      "text/plain": [
       "Text(0.5, 1.0, 'JP genres')"
      ]
     },
     "execution_count": 66,
     "metadata": {},
     "output_type": "execute_result"
    },
    {
     "data": {
      "image/png": "[encoded data removed]",
      "text/plain": [
       "<Figure size 432x288 with 1 Axes>"
      ]
     },
     "metadata": {},
     "output_type": "display_data"
    }
   ],
   "source": [
    "df_year.groupby(['genre']).agg({'jp_sales':'sum'}).sort_values(by = 'jp_sales', ascending=False).head(5)\\\n",
    ".plot(kind='pie', subplots=True)\n",
    "plt.title('JP genres')\n",
    "\n",
    "plt.show()"
   ]
  },
  {
   "cell_type": "markdown",
   "id": "c0f41032",
   "metadata": {},
   "source": [
    "В Японии совсем другая картина. Думаю, что это связано с менталитетом. RPG для более уидчивых и готовых к постепенному развитию событий, в отличие от экшена."
   ]
  },
  {
   "cell_type": "markdown",
   "id": "ea3e1dff",
   "metadata": {},
   "source": [
    "### 4.3 Оценим влияние рейтинга ESRB на продажи в отдельном регионе"
   ]
  },
  {
   "cell_type": "code",
   "execution_count": 50,
   "id": "7ccfcf30",
   "metadata": {},
   "outputs": [
    {
     "data": {
      "text/html": [
       "<div>\n",
       "<style scoped>\n",
       "    .dataframe tbody tr th:only-of-type {\n",
       "        vertical-align: middle;\n",
       "    }\n",
       "\n",
       "    .dataframe tbody tr th {\n",
       "        vertical-align: top;\n",
       "    }\n",
       "\n",
       "    .dataframe thead th {\n",
       "        text-align: right;\n",
       "    }\n",
       "</style>\n",
       "<table border=\"1\" class=\"dataframe\">\n",
       "  <thead>\n",
       "    <tr style=\"text-align: right;\">\n",
       "      <th></th>\n",
       "      <th>rating</th>\n",
       "      <th>na_sales</th>\n",
       "    </tr>\n",
       "  </thead>\n",
       "  <tbody>\n",
       "    <tr>\n",
       "      <th>2</th>\n",
       "      <td>M</td>\n",
       "      <td>165.21</td>\n",
       "    </tr>\n",
       "    <tr>\n",
       "      <th>4</th>\n",
       "      <td>unknown</td>\n",
       "      <td>89.42</td>\n",
       "    </tr>\n",
       "    <tr>\n",
       "      <th>0</th>\n",
       "      <td>E</td>\n",
       "      <td>79.05</td>\n",
       "    </tr>\n",
       "    <tr>\n",
       "      <th>1</th>\n",
       "      <td>E10+</td>\n",
       "      <td>54.24</td>\n",
       "    </tr>\n",
       "    <tr>\n",
       "      <th>3</th>\n",
       "      <td>T</td>\n",
       "      <td>49.79</td>\n",
       "    </tr>\n",
       "  </tbody>\n",
       "</table>\n",
       "</div>"
      ],
      "text/plain": [
       "    rating  na_sales\n",
       "2        M    165.21\n",
       "4  unknown     89.42\n",
       "0        E     79.05\n",
       "1     E10+     54.24\n",
       "3        T     49.79"
      ]
     },
     "execution_count": 50,
     "metadata": {},
     "output_type": "execute_result"
    }
   ],
   "source": [
    "df_year.groupby(['rating']).agg({'na_sales':'sum'}).reset_index().sort_values(by='na_sales', ascending=False).head(5)"
   ]
  },
  {
   "cell_type": "markdown",
   "id": "1694852c",
   "metadata": {},
   "source": [
    "Лидируют игры с рейтингом Е и М"
   ]
  },
  {
   "cell_type": "code",
   "execution_count": 51,
   "id": "58119e68",
   "metadata": {},
   "outputs": [
    {
     "data": {
      "text/html": [
       "<div>\n",
       "<style scoped>\n",
       "    .dataframe tbody tr th:only-of-type {\n",
       "        vertical-align: middle;\n",
       "    }\n",
       "\n",
       "    .dataframe tbody tr th {\n",
       "        vertical-align: top;\n",
       "    }\n",
       "\n",
       "    .dataframe thead th {\n",
       "        text-align: right;\n",
       "    }\n",
       "</style>\n",
       "<table border=\"1\" class=\"dataframe\">\n",
       "  <thead>\n",
       "    <tr style=\"text-align: right;\">\n",
       "      <th></th>\n",
       "      <th>rating</th>\n",
       "      <th>eu_sales</th>\n",
       "    </tr>\n",
       "  </thead>\n",
       "  <tbody>\n",
       "    <tr>\n",
       "      <th>2</th>\n",
       "      <td>M</td>\n",
       "      <td>145.32</td>\n",
       "    </tr>\n",
       "    <tr>\n",
       "      <th>0</th>\n",
       "      <td>E</td>\n",
       "      <td>83.36</td>\n",
       "    </tr>\n",
       "    <tr>\n",
       "      <th>4</th>\n",
       "      <td>unknown</td>\n",
       "      <td>78.91</td>\n",
       "    </tr>\n",
       "    <tr>\n",
       "      <th>1</th>\n",
       "      <td>E10+</td>\n",
       "      <td>42.69</td>\n",
       "    </tr>\n",
       "    <tr>\n",
       "      <th>3</th>\n",
       "      <td>T</td>\n",
       "      <td>41.95</td>\n",
       "    </tr>\n",
       "  </tbody>\n",
       "</table>\n",
       "</div>"
      ],
      "text/plain": [
       "    rating  eu_sales\n",
       "2        M    145.32\n",
       "0        E     83.36\n",
       "4  unknown     78.91\n",
       "1     E10+     42.69\n",
       "3        T     41.95"
      ]
     },
     "execution_count": 51,
     "metadata": {},
     "output_type": "execute_result"
    }
   ],
   "source": [
    "df_year.groupby(['rating']).agg({'eu_sales':'sum'}).reset_index().sort_values(by='eu_sales', ascending=False).head(5)"
   ]
  },
  {
   "cell_type": "markdown",
   "id": "13df7867",
   "metadata": {},
   "source": [
    "Как и в Америке, лидируют игры с рейтингом Е и М"
   ]
  },
  {
   "cell_type": "code",
   "execution_count": 52,
   "id": "bf37269b",
   "metadata": {},
   "outputs": [
    {
     "data": {
      "text/html": [
       "<div>\n",
       "<style scoped>\n",
       "    .dataframe tbody tr th:only-of-type {\n",
       "        vertical-align: middle;\n",
       "    }\n",
       "\n",
       "    .dataframe tbody tr th {\n",
       "        vertical-align: top;\n",
       "    }\n",
       "\n",
       "    .dataframe thead th {\n",
       "        text-align: right;\n",
       "    }\n",
       "</style>\n",
       "<table border=\"1\" class=\"dataframe\">\n",
       "  <thead>\n",
       "    <tr style=\"text-align: right;\">\n",
       "      <th></th>\n",
       "      <th>rating</th>\n",
       "      <th>jp_sales</th>\n",
       "    </tr>\n",
       "  </thead>\n",
       "  <tbody>\n",
       "    <tr>\n",
       "      <th>4</th>\n",
       "      <td>unknown</td>\n",
       "      <td>85.05</td>\n",
       "    </tr>\n",
       "    <tr>\n",
       "      <th>3</th>\n",
       "      <td>T</td>\n",
       "      <td>20.59</td>\n",
       "    </tr>\n",
       "    <tr>\n",
       "      <th>0</th>\n",
       "      <td>E</td>\n",
       "      <td>15.14</td>\n",
       "    </tr>\n",
       "    <tr>\n",
       "      <th>2</th>\n",
       "      <td>M</td>\n",
       "      <td>14.11</td>\n",
       "    </tr>\n",
       "    <tr>\n",
       "      <th>1</th>\n",
       "      <td>E10+</td>\n",
       "      <td>5.89</td>\n",
       "    </tr>\n",
       "  </tbody>\n",
       "</table>\n",
       "</div>"
      ],
      "text/plain": [
       "    rating  jp_sales\n",
       "4  unknown     85.05\n",
       "3        T     20.59\n",
       "0        E     15.14\n",
       "2        M     14.11\n",
       "1     E10+      5.89"
      ]
     },
     "execution_count": 52,
     "metadata": {},
     "output_type": "execute_result"
    }
   ],
   "source": [
    "df_year.groupby(['rating']).agg({'jp_sales':'sum'}).reset_index().sort_values(by='jp_sales', ascending=False).head(5)"
   ]
  },
  {
   "cell_type": "markdown",
   "id": "fdc1e1af",
   "metadata": {},
   "source": [
    "Япония отличилась и здесь, видимо они не обращают особого внимания на рейтинги. Категория Е всё же на втором месте."
   ]
  },
  {
   "cell_type": "markdown",
   "id": "6a9dc358",
   "metadata": {},
   "source": [
    "# Шаг 5. Проверим гипотезы"
   ]
  },
  {
   "cell_type": "markdown",
   "id": "ad3932df",
   "metadata": {},
   "source": [
    "### 5.1  \n",
    "**Нулевая гипотеза:** средние пользовательские рейтинги платформ Xbox One и PC одинаковые.  \n",
    "**Альтернативная гипотеза:** средние пользовательские рейтинги платформ Xbox One и PC разные."
   ]
  },
  {
   "cell_type": "code",
   "execution_count": 68,
   "id": "bab283cb",
   "metadata": {},
   "outputs": [],
   "source": [
    "df_xbox = df_year.query('platform == \"XOne\"')['user_score'].dropna().to_list()\n",
    "df_pc = df_year.query('platform == \"PC\"')['user_score'].dropna().to_list()"
   ]
  },
  {
   "cell_type": "code",
   "execution_count": 69,
   "id": "bb58264d",
   "metadata": {},
   "outputs": [
    {
     "name": "stdout",
     "output_type": "stream",
     "text": [
      "0.14759594013430463\n",
      "не отвергаем нулевую гипотезу\n"
     ]
    }
   ],
   "source": [
    "alpha = .05\n",
    "results = st.ttest_ind(df_xbox, df_pc, equal_var = False)\n",
    "\n",
    "print(results.pvalue)\n",
    "\n",
    "if (results.pvalue < alpha):\n",
    "    print(\"отвергаем нулевую гипотезу\")\n",
    "else:\n",
    "    print(\"не отвергаем нулевую гипотезу\")"
   ]
  },
  {
   "cell_type": "markdown",
   "id": "d7daf724",
   "metadata": {},
   "source": [
    "### 5.2  \n",
    "**Нулевая гипотеза:** средние пользовательские рейтинги жанров Action (англ. «действие», экшен-игры) и Sports (англ. «спортивные соревнования») одинаковые.  \n",
    "**Альтернативная гипотеза:** средние пользовательские рейтинги жанров Action (англ. «действие», экшен-игры) и Sports (англ. «спортивные соревнования») разные."
   ]
  },
  {
   "cell_type": "code",
   "execution_count": 72,
   "id": "283a5ed3",
   "metadata": {},
   "outputs": [],
   "source": [
    "df_action = df_year.query('genre == \"Action\"')['user_score'].dropna().to_list()\n",
    "df_sports = df_year.query('genre == \"Sports\"')['user_score'].dropna().to_list()"
   ]
  },
  {
   "cell_type": "code",
   "execution_count": 73,
   "id": "5dcba4ba",
   "metadata": {},
   "outputs": [
    {
     "name": "stdout",
     "output_type": "stream",
     "text": [
      "1.4460039700704315e-20\n",
      "отвергаем нулевую гипотезу\n"
     ]
    }
   ],
   "source": [
    "alpha = .05\n",
    "results = st.ttest_ind(df_action, df_sports, equal_var = False)\n",
    "\n",
    "print(results.pvalue)\n",
    "\n",
    "if (results.pvalue < alpha):\n",
    "    print(\"отвергаем нулевую гипотезу\")\n",
    "else:\n",
    "    print(\"не отвергаем нулевую гипотезу\")"
   ]
  },
  {
   "cell_type": "markdown",
   "id": "c6dea648",
   "metadata": {},
   "source": [
    "Выбрали Т-критерий стьюдента, потому что он подходит для сравнения средних значений."
   ]
  },
  {
   "cell_type": "markdown",
   "id": "9a4461f1",
   "metadata": {},
   "source": [
    "# Шаг 6. Общий вывод"
   ]
  },
  {
   "cell_type": "markdown",
   "id": "af9ad373",
   "metadata": {},
   "source": [
    "1. Среди платформ наиболее перспективными мы можем выделить следующие: WiiU', XOne, PS4, X360 и 3DS. При этом в Америке и Европе PS4 и XOne станут наиболее интересными для инвестиций, а в Японии акцент лучше сделать на явного лидера - платформу 3DS.  \n",
    "2. С точки зрения выбора жанра для продвижения, наиболее стабильным спросом пользуется \"Shooter\".  При этом наибольшие объёмы продаж по играм жанра - \"Action\", но больший риск не попасть в игру, которая выстрелит и на неё не будет большого спроса. Так же важно учитывать, что в Action и Shooter наиболее популярны в Америке и Европе, а Японцам больше по душе RPG"
   ]
  }
 ],
 "metadata": {
  "ExecuteTimeLog": [
   {
    "duration": 87,
    "start_time": "2022-11-04T11:22:32.485Z"
   },
   {
    "duration": 5,
    "start_time": "2022-11-04T11:22:34.715Z"
   },
   {
    "duration": 6,
    "start_time": "2022-11-04T11:22:35.829Z"
   },
   {
    "duration": 29,
    "start_time": "2022-11-04T11:23:02.021Z"
   },
   {
    "duration": 6,
    "start_time": "2022-11-04T11:23:04.866Z"
   },
   {
    "duration": 6,
    "start_time": "2022-11-04T11:23:05.482Z"
   },
   {
    "duration": 6,
    "start_time": "2022-11-04T11:23:05.934Z"
   },
   {
    "duration": 1370,
    "start_time": "2022-11-04T11:25:23.022Z"
   },
   {
    "duration": 94,
    "start_time": "2022-11-04T11:25:24.394Z"
   },
   {
    "duration": 15,
    "start_time": "2022-11-04T11:25:24.685Z"
   },
   {
    "duration": 6,
    "start_time": "2022-11-04T11:25:25.117Z"
   },
   {
    "duration": 14,
    "start_time": "2022-11-04T11:25:26.087Z"
   },
   {
    "duration": 8,
    "start_time": "2022-11-04T11:25:26.978Z"
   },
   {
    "duration": 15,
    "start_time": "2022-11-04T11:25:33.191Z"
   },
   {
    "duration": 17,
    "start_time": "2022-11-04T11:25:33.589Z"
   },
   {
    "duration": 6,
    "start_time": "2022-11-04T11:25:34.213Z"
   },
   {
    "duration": 10,
    "start_time": "2022-11-04T11:25:34.879Z"
   },
   {
    "duration": 4,
    "start_time": "2022-11-04T11:25:35.292Z"
   },
   {
    "duration": 15,
    "start_time": "2022-11-04T11:25:40.880Z"
   },
   {
    "duration": 53,
    "start_time": "2022-11-04T11:26:09.702Z"
   },
   {
    "duration": 12,
    "start_time": "2022-11-04T11:26:11.091Z"
   },
   {
    "duration": 12,
    "start_time": "2022-11-04T11:26:11.864Z"
   },
   {
    "duration": 5,
    "start_time": "2022-11-04T11:28:51.700Z"
   },
   {
    "duration": 13,
    "start_time": "2022-11-04T11:28:52.918Z"
   },
   {
    "duration": 16,
    "start_time": "2022-11-04T11:28:53.449Z"
   },
   {
    "duration": 53,
    "start_time": "2022-11-04T11:29:22.525Z"
   },
   {
    "duration": 13,
    "start_time": "2022-11-04T11:29:23.805Z"
   },
   {
    "duration": 16,
    "start_time": "2022-11-04T11:29:24.453Z"
   },
   {
    "duration": 13,
    "start_time": "2022-11-04T11:29:43.158Z"
   },
   {
    "duration": 13,
    "start_time": "2022-11-04T11:29:43.982Z"
   },
   {
    "duration": 58,
    "start_time": "2022-11-04T11:36:32.028Z"
   },
   {
    "duration": 1160,
    "start_time": "2022-11-04T11:36:45.131Z"
   },
   {
    "duration": 114,
    "start_time": "2022-11-04T11:36:46.293Z"
   },
   {
    "duration": 0,
    "start_time": "2022-11-04T11:36:46.419Z"
   },
   {
    "duration": 0,
    "start_time": "2022-11-04T11:36:46.421Z"
   },
   {
    "duration": 0,
    "start_time": "2022-11-04T11:36:46.422Z"
   },
   {
    "duration": 0,
    "start_time": "2022-11-04T11:36:46.422Z"
   },
   {
    "duration": 0,
    "start_time": "2022-11-04T11:36:46.423Z"
   },
   {
    "duration": 0,
    "start_time": "2022-11-04T11:36:46.424Z"
   },
   {
    "duration": 0,
    "start_time": "2022-11-04T11:36:46.425Z"
   },
   {
    "duration": 0,
    "start_time": "2022-11-04T11:36:46.426Z"
   },
   {
    "duration": 0,
    "start_time": "2022-11-04T11:36:46.427Z"
   },
   {
    "duration": 0,
    "start_time": "2022-11-04T11:36:46.428Z"
   },
   {
    "duration": 0,
    "start_time": "2022-11-04T11:36:46.430Z"
   },
   {
    "duration": 0,
    "start_time": "2022-11-04T11:36:46.431Z"
   },
   {
    "duration": 0,
    "start_time": "2022-11-04T11:36:46.432Z"
   },
   {
    "duration": 0,
    "start_time": "2022-11-04T11:36:46.433Z"
   },
   {
    "duration": 0,
    "start_time": "2022-11-04T11:36:46.433Z"
   },
   {
    "duration": 0,
    "start_time": "2022-11-04T11:36:46.434Z"
   },
   {
    "duration": 0,
    "start_time": "2022-11-04T11:36:46.436Z"
   },
   {
    "duration": 0,
    "start_time": "2022-11-04T11:36:46.436Z"
   },
   {
    "duration": 0,
    "start_time": "2022-11-04T11:36:46.437Z"
   },
   {
    "duration": 0,
    "start_time": "2022-11-04T11:36:46.438Z"
   },
   {
    "duration": 0,
    "start_time": "2022-11-04T11:36:46.439Z"
   },
   {
    "duration": 0,
    "start_time": "2022-11-04T11:36:46.440Z"
   },
   {
    "duration": 0,
    "start_time": "2022-11-04T11:36:46.441Z"
   },
   {
    "duration": 0,
    "start_time": "2022-11-04T11:36:46.442Z"
   },
   {
    "duration": 0,
    "start_time": "2022-11-04T11:36:46.443Z"
   },
   {
    "duration": 0,
    "start_time": "2022-11-04T11:36:46.444Z"
   },
   {
    "duration": 0,
    "start_time": "2022-11-04T11:36:46.445Z"
   },
   {
    "duration": 0,
    "start_time": "2022-11-04T11:36:46.445Z"
   },
   {
    "duration": 0,
    "start_time": "2022-11-04T11:36:46.446Z"
   },
   {
    "duration": 0,
    "start_time": "2022-11-04T11:36:46.447Z"
   },
   {
    "duration": 0,
    "start_time": "2022-11-04T11:36:46.447Z"
   },
   {
    "duration": 0,
    "start_time": "2022-11-04T11:36:46.448Z"
   },
   {
    "duration": 0,
    "start_time": "2022-11-04T11:36:46.449Z"
   },
   {
    "duration": 0,
    "start_time": "2022-11-04T11:36:46.451Z"
   },
   {
    "duration": 0,
    "start_time": "2022-11-04T11:36:46.451Z"
   },
   {
    "duration": 0,
    "start_time": "2022-11-04T11:36:46.452Z"
   },
   {
    "duration": 0,
    "start_time": "2022-11-04T11:36:46.453Z"
   },
   {
    "duration": 0,
    "start_time": "2022-11-04T11:36:46.454Z"
   },
   {
    "duration": 0,
    "start_time": "2022-11-04T11:36:46.454Z"
   },
   {
    "duration": 0,
    "start_time": "2022-11-04T11:36:46.455Z"
   },
   {
    "duration": 0,
    "start_time": "2022-11-04T11:36:46.456Z"
   },
   {
    "duration": 0,
    "start_time": "2022-11-04T11:36:46.457Z"
   },
   {
    "duration": 0,
    "start_time": "2022-11-04T11:36:46.458Z"
   },
   {
    "duration": 0,
    "start_time": "2022-11-04T11:36:46.515Z"
   },
   {
    "duration": 0,
    "start_time": "2022-11-04T11:36:46.516Z"
   },
   {
    "duration": 0,
    "start_time": "2022-11-04T11:36:46.517Z"
   },
   {
    "duration": 63,
    "start_time": "2022-11-04T11:40:54.672Z"
   },
   {
    "duration": 13,
    "start_time": "2022-11-04T11:40:55.376Z"
   },
   {
    "duration": 15,
    "start_time": "2022-11-04T11:40:55.528Z"
   },
   {
    "duration": 6,
    "start_time": "2022-11-04T11:40:55.692Z"
   },
   {
    "duration": 21,
    "start_time": "2022-11-04T11:40:56.301Z"
   },
   {
    "duration": 8,
    "start_time": "2022-11-04T11:40:56.640Z"
   },
   {
    "duration": 16,
    "start_time": "2022-11-04T11:40:57.583Z"
   },
   {
    "duration": 21,
    "start_time": "2022-11-04T11:40:57.773Z"
   },
   {
    "duration": 1708,
    "start_time": "2022-11-05T19:16:40.084Z"
   },
   {
    "duration": 120,
    "start_time": "2022-11-05T19:16:41.795Z"
   },
   {
    "duration": 16,
    "start_time": "2022-11-05T19:16:42.423Z"
   },
   {
    "duration": 5,
    "start_time": "2022-11-05T19:16:42.975Z"
   },
   {
    "duration": 15,
    "start_time": "2022-11-05T19:16:43.795Z"
   },
   {
    "duration": 11,
    "start_time": "2022-11-05T19:19:44.288Z"
   },
   {
    "duration": 4,
    "start_time": "2022-11-05T19:19:44.745Z"
   },
   {
    "duration": 14,
    "start_time": "2022-11-05T19:19:45.540Z"
   },
   {
    "duration": 11,
    "start_time": "2022-11-05T19:19:46.232Z"
   },
   {
    "duration": 14,
    "start_time": "2022-11-05T19:20:53.726Z"
   },
   {
    "duration": 1133,
    "start_time": "2022-11-05T19:21:04.093Z"
   },
   {
    "duration": 15,
    "start_time": "2022-11-05T19:21:05.227Z"
   },
   {
    "duration": 12,
    "start_time": "2022-11-05T19:21:05.246Z"
   },
   {
    "duration": 4,
    "start_time": "2022-11-05T19:21:05.259Z"
   },
   {
    "duration": 14,
    "start_time": "2022-11-05T19:21:05.264Z"
   },
   {
    "duration": 26,
    "start_time": "2022-11-05T19:21:05.280Z"
   },
   {
    "duration": 13,
    "start_time": "2022-11-05T19:21:05.308Z"
   },
   {
    "duration": 15,
    "start_time": "2022-11-05T19:21:05.323Z"
   },
   {
    "duration": 5,
    "start_time": "2022-11-05T19:21:05.341Z"
   },
   {
    "duration": 10,
    "start_time": "2022-11-05T19:21:05.348Z"
   },
   {
    "duration": 4,
    "start_time": "2022-11-05T19:21:05.360Z"
   },
   {
    "duration": 232,
    "start_time": "2022-11-05T19:21:05.366Z"
   },
   {
    "duration": 10,
    "start_time": "2022-11-05T19:21:05.600Z"
   },
   {
    "duration": 15,
    "start_time": "2022-11-05T19:21:05.612Z"
   },
   {
    "duration": 23,
    "start_time": "2022-11-05T19:21:05.629Z"
   },
   {
    "duration": 322,
    "start_time": "2022-11-05T19:21:05.653Z"
   },
   {
    "duration": 7,
    "start_time": "2022-11-05T19:21:05.977Z"
   },
   {
    "duration": 157,
    "start_time": "2022-11-05T19:21:05.985Z"
   },
   {
    "duration": 7,
    "start_time": "2022-11-05T19:21:06.143Z"
   },
   {
    "duration": 288,
    "start_time": "2022-11-05T19:21:06.151Z"
   },
   {
    "duration": 9,
    "start_time": "2022-11-05T19:21:06.440Z"
   },
   {
    "duration": 6,
    "start_time": "2022-11-05T19:21:06.451Z"
   },
   {
    "duration": 261,
    "start_time": "2022-11-05T19:21:06.459Z"
   },
   {
    "duration": 9,
    "start_time": "2022-11-05T19:21:06.722Z"
   },
   {
    "duration": 6,
    "start_time": "2022-11-05T19:21:06.733Z"
   },
   {
    "duration": 251,
    "start_time": "2022-11-05T19:21:06.741Z"
   },
   {
    "duration": 16,
    "start_time": "2022-11-05T19:21:06.995Z"
   },
   {
    "duration": 7,
    "start_time": "2022-11-05T19:21:07.012Z"
   },
   {
    "duration": 259,
    "start_time": "2022-11-05T19:21:07.020Z"
   },
   {
    "duration": 10,
    "start_time": "2022-11-05T19:21:07.280Z"
   },
   {
    "duration": 5,
    "start_time": "2022-11-05T19:21:07.305Z"
   },
   {
    "duration": 300,
    "start_time": "2022-11-05T19:21:07.311Z"
   },
   {
    "duration": 10,
    "start_time": "2022-11-05T19:21:07.612Z"
   },
   {
    "duration": 253,
    "start_time": "2022-11-05T19:21:07.623Z"
   },
   {
    "duration": 5,
    "start_time": "2022-11-05T19:21:07.878Z"
   },
   {
    "duration": 164,
    "start_time": "2022-11-05T19:21:07.884Z"
   },
   {
    "duration": 144,
    "start_time": "2022-11-05T19:21:08.049Z"
   },
   {
    "duration": 130,
    "start_time": "2022-11-05T19:21:08.195Z"
   },
   {
    "duration": 117,
    "start_time": "2022-11-05T19:21:08.327Z"
   },
   {
    "duration": 126,
    "start_time": "2022-11-05T19:21:08.445Z"
   },
   {
    "duration": 134,
    "start_time": "2022-11-05T19:21:08.572Z"
   },
   {
    "duration": 11,
    "start_time": "2022-11-05T19:21:08.708Z"
   },
   {
    "duration": 10,
    "start_time": "2022-11-05T19:21:08.721Z"
   },
   {
    "duration": 9,
    "start_time": "2022-11-05T19:21:08.732Z"
   },
   {
    "duration": 8,
    "start_time": "2022-11-05T19:21:08.742Z"
   },
   {
    "duration": 4,
    "start_time": "2022-11-05T19:21:08.751Z"
   },
   {
    "duration": 9,
    "start_time": "2022-11-05T19:21:08.756Z"
   },
   {
    "duration": 4,
    "start_time": "2022-11-05T19:21:08.767Z"
   },
   {
    "duration": 1189,
    "start_time": "2022-11-06T14:51:51.359Z"
   },
   {
    "duration": 20,
    "start_time": "2022-11-06T14:51:52.551Z"
   },
   {
    "duration": 20,
    "start_time": "2022-11-06T14:51:52.572Z"
   },
   {
    "duration": 4,
    "start_time": "2022-11-06T14:51:52.595Z"
   },
   {
    "duration": 21,
    "start_time": "2022-11-06T14:51:52.609Z"
   },
   {
    "duration": 11,
    "start_time": "2022-11-06T14:51:52.632Z"
   },
   {
    "duration": 17,
    "start_time": "2022-11-06T14:51:52.645Z"
   },
   {
    "duration": 47,
    "start_time": "2022-11-06T14:51:52.664Z"
   },
   {
    "duration": 7,
    "start_time": "2022-11-06T14:51:52.713Z"
   },
   {
    "duration": 16,
    "start_time": "2022-11-06T14:51:52.724Z"
   },
   {
    "duration": 9,
    "start_time": "2022-11-06T14:51:52.741Z"
   },
   {
    "duration": 246,
    "start_time": "2022-11-06T14:51:52.752Z"
   },
   {
    "duration": 15,
    "start_time": "2022-11-06T14:51:52.999Z"
   },
   {
    "duration": 14,
    "start_time": "2022-11-06T14:51:53.015Z"
   },
   {
    "duration": 24,
    "start_time": "2022-11-06T14:51:53.031Z"
   },
   {
    "duration": 342,
    "start_time": "2022-11-06T14:51:53.057Z"
   },
   {
    "duration": 12,
    "start_time": "2022-11-06T14:51:53.401Z"
   },
   {
    "duration": 163,
    "start_time": "2022-11-06T14:51:53.414Z"
   },
   {
    "duration": 6,
    "start_time": "2022-11-06T14:51:53.579Z"
   },
   {
    "duration": 282,
    "start_time": "2022-11-06T14:51:53.586Z"
   },
   {
    "duration": 10,
    "start_time": "2022-11-06T14:51:53.870Z"
   },
   {
    "duration": 9,
    "start_time": "2022-11-06T14:51:53.882Z"
   },
   {
    "duration": 281,
    "start_time": "2022-11-06T14:51:53.909Z"
   },
   {
    "duration": 19,
    "start_time": "2022-11-06T14:51:54.192Z"
   },
   {
    "duration": 9,
    "start_time": "2022-11-06T14:51:54.213Z"
   },
   {
    "duration": 261,
    "start_time": "2022-11-06T14:51:54.224Z"
   },
   {
    "duration": 9,
    "start_time": "2022-11-06T14:51:54.487Z"
   },
   {
    "duration": 7,
    "start_time": "2022-11-06T14:51:54.508Z"
   },
   {
    "duration": 273,
    "start_time": "2022-11-06T14:51:54.517Z"
   },
   {
    "duration": 9,
    "start_time": "2022-11-06T14:51:54.792Z"
   },
   {
    "duration": 6,
    "start_time": "2022-11-06T14:51:54.808Z"
   },
   {
    "duration": 289,
    "start_time": "2022-11-06T14:51:54.815Z"
   },
   {
    "duration": 13,
    "start_time": "2022-11-06T14:51:55.108Z"
   },
   {
    "duration": 253,
    "start_time": "2022-11-06T14:51:55.123Z"
   },
   {
    "duration": 4,
    "start_time": "2022-11-06T14:51:55.377Z"
   },
   {
    "duration": 135,
    "start_time": "2022-11-06T14:51:55.383Z"
   },
   {
    "duration": 126,
    "start_time": "2022-11-06T14:51:55.520Z"
   },
   {
    "duration": 130,
    "start_time": "2022-11-06T14:51:55.647Z"
   },
   {
    "duration": 130,
    "start_time": "2022-11-06T14:51:55.779Z"
   },
   {
    "duration": 135,
    "start_time": "2022-11-06T14:51:55.910Z"
   },
   {
    "duration": 147,
    "start_time": "2022-11-06T14:51:56.047Z"
   },
   {
    "duration": 23,
    "start_time": "2022-11-06T14:51:56.196Z"
   },
   {
    "duration": 12,
    "start_time": "2022-11-06T14:51:56.221Z"
   },
   {
    "duration": 11,
    "start_time": "2022-11-06T14:51:56.234Z"
   },
   {
    "duration": 8,
    "start_time": "2022-11-06T14:51:56.246Z"
   },
   {
    "duration": 9,
    "start_time": "2022-11-06T14:51:56.255Z"
   },
   {
    "duration": 12,
    "start_time": "2022-11-06T14:51:56.265Z"
   },
   {
    "duration": 33,
    "start_time": "2022-11-06T14:51:56.278Z"
   },
   {
    "duration": 71,
    "start_time": "2022-11-06T15:01:38.584Z"
   },
   {
    "duration": 46,
    "start_time": "2022-11-06T15:27:21.622Z"
   },
   {
    "duration": 114,
    "start_time": "2022-11-06T15:27:27.583Z"
   },
   {
    "duration": 9,
    "start_time": "2022-11-06T15:27:58.035Z"
   },
   {
    "duration": 1708,
    "start_time": "2022-11-08T17:35:02.879Z"
   },
   {
    "duration": 20,
    "start_time": "2022-11-08T17:35:04.589Z"
   },
   {
    "duration": 46,
    "start_time": "2022-11-08T17:35:04.611Z"
   },
   {
    "duration": 19,
    "start_time": "2022-11-08T17:35:04.660Z"
   },
   {
    "duration": 7,
    "start_time": "2022-11-08T17:35:04.681Z"
   },
   {
    "duration": 51,
    "start_time": "2022-11-08T17:35:04.691Z"
   },
   {
    "duration": 19,
    "start_time": "2022-11-08T17:35:04.744Z"
   },
   {
    "duration": 29,
    "start_time": "2022-11-08T17:35:04.765Z"
   },
   {
    "duration": 41,
    "start_time": "2022-11-08T17:35:04.796Z"
   },
   {
    "duration": 16,
    "start_time": "2022-11-08T17:35:04.843Z"
   },
   {
    "duration": 18,
    "start_time": "2022-11-08T17:35:04.861Z"
   },
   {
    "duration": 7,
    "start_time": "2022-11-08T17:35:04.881Z"
   },
   {
    "duration": 92,
    "start_time": "2022-11-08T17:35:04.890Z"
   },
   {
    "duration": 200,
    "start_time": "2022-11-08T17:35:04.984Z"
   },
   {
    "duration": 10,
    "start_time": "2022-11-08T17:35:05.186Z"
   },
   {
    "duration": 38,
    "start_time": "2022-11-08T17:35:05.197Z"
   },
   {
    "duration": 30,
    "start_time": "2022-11-08T17:35:05.242Z"
   },
   {
    "duration": 3,
    "start_time": "2022-11-08T17:35:05.274Z"
   },
   {
    "duration": 459,
    "start_time": "2022-11-08T17:35:05.279Z"
   },
   {
    "duration": 10,
    "start_time": "2022-11-08T17:35:05.741Z"
   },
   {
    "duration": 288,
    "start_time": "2022-11-08T17:35:05.754Z"
   },
   {
    "duration": 305,
    "start_time": "2022-11-08T17:35:06.045Z"
   },
   {
    "duration": 7,
    "start_time": "2022-11-08T17:35:06.353Z"
   },
   {
    "duration": 420,
    "start_time": "2022-11-08T17:35:06.363Z"
   },
   {
    "duration": 16,
    "start_time": "2022-11-08T17:35:06.787Z"
   },
   {
    "duration": 54,
    "start_time": "2022-11-08T17:35:06.806Z"
   },
   {
    "duration": 454,
    "start_time": "2022-11-08T17:35:06.863Z"
   },
   {
    "duration": 13,
    "start_time": "2022-11-08T17:35:07.322Z"
   },
   {
    "duration": 26,
    "start_time": "2022-11-08T17:35:07.337Z"
   },
   {
    "duration": 367,
    "start_time": "2022-11-08T17:35:07.365Z"
   },
   {
    "duration": 13,
    "start_time": "2022-11-08T17:35:07.739Z"
   },
   {
    "duration": 16,
    "start_time": "2022-11-08T17:35:07.754Z"
   },
   {
    "duration": 370,
    "start_time": "2022-11-08T17:35:07.773Z"
   },
   {
    "duration": 17,
    "start_time": "2022-11-08T17:35:08.146Z"
   },
   {
    "duration": 9,
    "start_time": "2022-11-08T17:35:08.166Z"
   },
   {
    "duration": 390,
    "start_time": "2022-11-08T17:35:08.177Z"
   },
   {
    "duration": 13,
    "start_time": "2022-11-08T17:35:08.569Z"
   },
   {
    "duration": 16,
    "start_time": "2022-11-08T17:35:08.584Z"
   },
   {
    "duration": 335,
    "start_time": "2022-11-08T17:35:08.602Z"
   },
   {
    "duration": 18,
    "start_time": "2022-11-08T17:35:08.942Z"
   },
   {
    "duration": 399,
    "start_time": "2022-11-08T17:35:08.962Z"
   },
   {
    "duration": 432,
    "start_time": "2022-11-08T17:35:09.364Z"
   },
   {
    "duration": 6,
    "start_time": "2022-11-08T17:35:09.799Z"
   },
   {
    "duration": 230,
    "start_time": "2022-11-08T17:35:09.807Z"
   },
   {
    "duration": 202,
    "start_time": "2022-11-08T17:35:10.039Z"
   },
   {
    "duration": 307,
    "start_time": "2022-11-08T17:35:10.243Z"
   },
   {
    "duration": 290,
    "start_time": "2022-11-08T17:35:10.554Z"
   },
   {
    "duration": 221,
    "start_time": "2022-11-08T17:35:10.846Z"
   },
   {
    "duration": 216,
    "start_time": "2022-11-08T17:35:11.069Z"
   },
   {
    "duration": 14,
    "start_time": "2022-11-08T17:35:11.287Z"
   },
   {
    "duration": 33,
    "start_time": "2022-11-08T17:35:11.303Z"
   },
   {
    "duration": 27,
    "start_time": "2022-11-08T17:35:11.340Z"
   },
   {
    "duration": 10,
    "start_time": "2022-11-08T17:35:11.370Z"
   },
   {
    "duration": 7,
    "start_time": "2022-11-08T17:35:11.381Z"
   },
   {
    "duration": 14,
    "start_time": "2022-11-08T17:35:11.390Z"
   },
   {
    "duration": 21,
    "start_time": "2022-11-08T17:35:11.406Z"
   },
   {
    "duration": 349,
    "start_time": "2022-11-08T18:39:26.105Z"
   },
   {
    "duration": 47,
    "start_time": "2023-02-25T09:36:42.790Z"
   }
  ],
  "kernelspec": {
   "display_name": "Python 3 (ipykernel)",
   "language": "python",
   "name": "python3"
  },
  "language_info": {
   "codemirror_mode": {
    "name": "ipython",
    "version": 3
   },
   "file_extension": ".py",
   "mimetype": "text/x-python",
   "name": "python",
   "nbconvert_exporter": "python",
   "pygments_lexer": "ipython3",
   "version": "3.9.7"
  },
  "toc": {
   "base_numbering": 1,
   "nav_menu": {},
   "number_sections": true,
   "sideBar": true,
   "skip_h1_title": true,
   "title_cell": "Table of Contents",
   "title_sidebar": "Contents",
   "toc_cell": false,
   "toc_position": {},
   "toc_section_display": true,
   "toc_window_display": false
  }
 },
 "nbformat": 4,
 "nbformat_minor": 5
}
