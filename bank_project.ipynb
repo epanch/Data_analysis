{
 "cells": [
  {
   "cell_type": "markdown",
   "id": "831a0840",
   "metadata": {},
   "source": [
    "### Описание проекта: \n",
    "Нам необходимо провести анализ оттока клиентов.  \n",
    "Анализ покажет, как клиенты пользуются нашими услугами, а так же поможет нам составить портрет клиентов, которые склонны уходить из банка. Проанализируем клиентов регионального банка и сегментируем пользователей по количеству потребляемых продуктов, обращая особое внимание на отток.   \n",
    "Основыне шаги: Знакомство с данными и предобработка >> Исследовательский анализ данных >> Сегментация пользователей на основе данных о количестве потребляемых продуктов >> Проверка гипотезы различия дохода между теми клиентами, которые пользуются двумя продуктами банка, и теми, которые пользуются одним."
   ]
  },
  {
   "cell_type": "markdown",
   "id": "b04eba88",
   "metadata": {},
   "source": [
    "### **Описание данных:**\n",
    "\n",
    "Датасет содержит данные о клиентах банка «Метанпром». Банк располагается в Ярославле и областных городах: Ростов Великий и Рыбинск.\n",
    "\n",
    "Колонки:\n",
    "\n",
    "- `userid` — идентификатор пользователя,\n",
    "- `score` — баллы кредитного скоринга,\n",
    "- `City` — город,\n",
    "- `Gender` — пол,\n",
    "- `Age` — возраст,\n",
    "- `Objects` — количество объектов в собственности,\n",
    "- `Balance` — баланс на счёте,\n",
    "- `Products` — количество продуктов, которыми пользуется клиент,\n",
    "- `CreditCard` — есть ли кредитная карта,\n",
    "- `Loyalty` — активный клиент,\n",
    "- `estimated_salary` — заработная плата клиента,\n",
    "- `Churn` — ушёл или нет."
   ]
  },
  {
   "cell_type": "markdown",
   "id": "540c6994",
   "metadata": {},
   "source": [
    "## 1. Знакомство с данными"
   ]
  },
  {
   "cell_type": "markdown",
   "id": "57c1c50c",
   "metadata": {},
   "source": [
    "### 1.1 Импорт нужных библиотек и загрузка данных"
   ]
  },
  {
   "cell_type": "code",
   "execution_count": 1,
   "id": "3060e58a",
   "metadata": {},
   "outputs": [],
   "source": [
    "import pandas as pd\n",
    "import numpy as np\n",
    "import matplotlib.pyplot as plt\n",
    "import seaborn as sns\n",
    "from scipy import stats as st"
   ]
  },
  {
   "cell_type": "code",
   "execution_count": 2,
   "id": "5af3aad8",
   "metadata": {},
   "outputs": [],
   "source": [
    "try:\n",
    "    df = pd.read_csv('/Users/nonadoinjashvili/Desktop/final_project/bank_scrooge.csv')\n",
    "except:\n",
    "    df = pd.read_csv('https://drive.google.com/uc?export=download&id=1-U61mhTz_N1ARjy2XSAZ7IlQqGjeqP0F')"
   ]
  },
  {
   "cell_type": "markdown",
   "id": "64fb06b0",
   "metadata": {},
   "source": [
    "### 1.2 Вывод данных и информации о них"
   ]
  },
  {
   "cell_type": "code",
   "execution_count": 3,
   "id": "8173cd69",
   "metadata": {},
   "outputs": [
    {
     "data": {
      "text/html": [
       "<div>\n",
       "<style scoped>\n",
       "    .dataframe tbody tr th:only-of-type {\n",
       "        vertical-align: middle;\n",
       "    }\n",
       "\n",
       "    .dataframe tbody tr th {\n",
       "        vertical-align: top;\n",
       "    }\n",
       "\n",
       "    .dataframe thead th {\n",
       "        text-align: right;\n",
       "    }\n",
       "</style>\n",
       "<table border=\"1\" class=\"dataframe\">\n",
       "  <thead>\n",
       "    <tr style=\"text-align: right;\">\n",
       "      <th></th>\n",
       "      <th>USERID</th>\n",
       "      <th>score</th>\n",
       "      <th>city</th>\n",
       "      <th>gender</th>\n",
       "      <th>age</th>\n",
       "      <th>equity</th>\n",
       "      <th>balance</th>\n",
       "      <th>products</th>\n",
       "      <th>credit_card</th>\n",
       "      <th>last_activity</th>\n",
       "      <th>EST_SALARY</th>\n",
       "      <th>churn</th>\n",
       "    </tr>\n",
       "  </thead>\n",
       "  <tbody>\n",
       "    <tr>\n",
       "      <th>0</th>\n",
       "      <td>183012</td>\n",
       "      <td>850.0</td>\n",
       "      <td>Рыбинск</td>\n",
       "      <td>Ж</td>\n",
       "      <td>25</td>\n",
       "      <td>1</td>\n",
       "      <td>59214.82</td>\n",
       "      <td>2</td>\n",
       "      <td>0</td>\n",
       "      <td>1</td>\n",
       "      <td>75719.14</td>\n",
       "      <td>1</td>\n",
       "    </tr>\n",
       "    <tr>\n",
       "      <th>1</th>\n",
       "      <td>146556</td>\n",
       "      <td>861.0</td>\n",
       "      <td>Рыбинск</td>\n",
       "      <td>Ж</td>\n",
       "      <td>37</td>\n",
       "      <td>5</td>\n",
       "      <td>850594.33</td>\n",
       "      <td>3</td>\n",
       "      <td>1</td>\n",
       "      <td>0</td>\n",
       "      <td>86621.77</td>\n",
       "      <td>0</td>\n",
       "    </tr>\n",
       "    <tr>\n",
       "      <th>2</th>\n",
       "      <td>120722</td>\n",
       "      <td>892.0</td>\n",
       "      <td>Рыбинск</td>\n",
       "      <td>Ж</td>\n",
       "      <td>30</td>\n",
       "      <td>0</td>\n",
       "      <td>NaN</td>\n",
       "      <td>1</td>\n",
       "      <td>1</td>\n",
       "      <td>1</td>\n",
       "      <td>107683.34</td>\n",
       "      <td>0</td>\n",
       "    </tr>\n",
       "    <tr>\n",
       "      <th>3</th>\n",
       "      <td>225363</td>\n",
       "      <td>866.0</td>\n",
       "      <td>Ярославль</td>\n",
       "      <td>Ж</td>\n",
       "      <td>51</td>\n",
       "      <td>5</td>\n",
       "      <td>1524746.26</td>\n",
       "      <td>2</td>\n",
       "      <td>0</td>\n",
       "      <td>1</td>\n",
       "      <td>174423.53</td>\n",
       "      <td>1</td>\n",
       "    </tr>\n",
       "    <tr>\n",
       "      <th>4</th>\n",
       "      <td>157978</td>\n",
       "      <td>730.0</td>\n",
       "      <td>Ярославль</td>\n",
       "      <td>М</td>\n",
       "      <td>34</td>\n",
       "      <td>5</td>\n",
       "      <td>174.00</td>\n",
       "      <td>1</td>\n",
       "      <td>1</td>\n",
       "      <td>0</td>\n",
       "      <td>67353.16</td>\n",
       "      <td>1</td>\n",
       "    </tr>\n",
       "  </tbody>\n",
       "</table>\n",
       "</div>"
      ],
      "text/plain": [
       "   USERID  score       city gender  age  equity     balance  products  \\\n",
       "0  183012  850.0    Рыбинск      Ж   25       1    59214.82         2   \n",
       "1  146556  861.0    Рыбинск      Ж   37       5   850594.33         3   \n",
       "2  120722  892.0    Рыбинск      Ж   30       0         NaN         1   \n",
       "3  225363  866.0  Ярославль      Ж   51       5  1524746.26         2   \n",
       "4  157978  730.0  Ярославль      М   34       5      174.00         1   \n",
       "\n",
       "   credit_card  last_activity  EST_SALARY  churn  \n",
       "0            0              1    75719.14      1  \n",
       "1            1              0    86621.77      0  \n",
       "2            1              1   107683.34      0  \n",
       "3            0              1   174423.53      1  \n",
       "4            1              0    67353.16      1  "
      ]
     },
     "execution_count": 3,
     "metadata": {},
     "output_type": "execute_result"
    }
   ],
   "source": [
    "df.head(5)"
   ]
  },
  {
   "cell_type": "code",
   "execution_count": 4,
   "id": "a6ae57f0",
   "metadata": {},
   "outputs": [
    {
     "data": {
      "text/plain": [
       "<bound method DataFrame.info of       USERID  score       city gender  age  equity     balance  products  \\\n",
       "0     183012  850.0    Рыбинск      Ж   25       1    59214.82         2   \n",
       "1     146556  861.0    Рыбинск      Ж   37       5   850594.33         3   \n",
       "2     120722  892.0    Рыбинск      Ж   30       0         NaN         1   \n",
       "3     225363  866.0  Ярославль      Ж   51       5  1524746.26         2   \n",
       "4     157978  730.0  Ярославль      М   34       5      174.00         1   \n",
       "...      ...    ...        ...    ...  ...     ...         ...       ...   \n",
       "9995  120553  814.0    Рыбинск      М   27       1    78144.65         1   \n",
       "9996  139170  894.0  Ярославль      М   46       0         NaN         1   \n",
       "9997  115639  903.0  Ярославль      М   24       0         NaN         2   \n",
       "9998  148700  777.0  Ярославль      Ж   68       3   865457.97         3   \n",
       "9999   96267  828.0    Рыбинск      Ж   58       3  1180886.70         4   \n",
       "\n",
       "      credit_card  last_activity  EST_SALARY  churn  \n",
       "0               0              1    75719.14      1  \n",
       "1               1              0    86621.77      0  \n",
       "2               1              1   107683.34      0  \n",
       "3               0              1   174423.53      1  \n",
       "4               1              0    67353.16      1  \n",
       "...           ...            ...         ...    ...  \n",
       "9995            0              1    18943.64      0  \n",
       "9996            1              0   196898.29      0  \n",
       "9997            1              1   108905.09      0  \n",
       "9998            0              1    86874.90      0  \n",
       "9999            0              1    21422.37      0  \n",
       "\n",
       "[10000 rows x 12 columns]>"
      ]
     },
     "execution_count": 4,
     "metadata": {},
     "output_type": "execute_result"
    }
   ],
   "source": [
    "df.info"
   ]
  },
  {
   "cell_type": "code",
   "execution_count": 5,
   "id": "7aea18d6",
   "metadata": {},
   "outputs": [
    {
     "data": {
      "text/plain": [
       "USERID             int64\n",
       "score            float64\n",
       "city              object\n",
       "gender            object\n",
       "age                int64\n",
       "equity             int64\n",
       "balance          float64\n",
       "products           int64\n",
       "credit_card        int64\n",
       "last_activity      int64\n",
       "EST_SALARY       float64\n",
       "churn              int64\n",
       "dtype: object"
      ]
     },
     "execution_count": 5,
     "metadata": {},
     "output_type": "execute_result"
    }
   ],
   "source": [
    "df.dtypes"
   ]
  },
  {
   "cell_type": "markdown",
   "id": "1ac418ee",
   "metadata": {},
   "source": [
    "На первый взгляд видим следующее:  \n",
    "1) Названия столбцов в разном регистре  \n",
    "2) Надо заменить тип данных на числовой в балансе "
   ]
  },
  {
   "cell_type": "markdown",
   "id": "0ec95836",
   "metadata": {},
   "source": [
    "## 2. Предобработка данных "
   ]
  },
  {
   "cell_type": "markdown",
   "id": "375bde8a",
   "metadata": {},
   "source": [
    "### 2.1 Проверка на наличие пропусков и их обработка"
   ]
  },
  {
   "cell_type": "code",
   "execution_count": 6,
   "id": "76d59588",
   "metadata": {},
   "outputs": [
    {
     "data": {
      "text/plain": [
       "USERID              0\n",
       "score               0\n",
       "city                0\n",
       "gender              0\n",
       "age                 0\n",
       "equity              0\n",
       "balance          2295\n",
       "products            0\n",
       "credit_card         0\n",
       "last_activity       0\n",
       "EST_SALARY          0\n",
       "churn               0\n",
       "dtype: int64"
      ]
     },
     "execution_count": 6,
     "metadata": {},
     "output_type": "execute_result"
    }
   ],
   "source": [
    "df.isna().sum()"
   ]
  },
  {
   "cell_type": "markdown",
   "id": "0523aca4",
   "metadata": {},
   "source": [
    "Пропуски в балансе лучше не трогать, во избежании искажения дальнейших исследований.  \n",
    "Возможно, что частично - это пропуски в местах с нулевым балансом, а частично данные не обладают полнотой в связи с человеческим фактором."
   ]
  },
  {
   "cell_type": "markdown",
   "id": "04ed74ac",
   "metadata": {},
   "source": [
    "### 2.2 Проверка на дубликаты и их отработка"
   ]
  },
  {
   "cell_type": "code",
   "execution_count": 7,
   "id": "0d6bcc6e",
   "metadata": {},
   "outputs": [
    {
     "data": {
      "text/plain": [
       "1"
      ]
     },
     "execution_count": 7,
     "metadata": {},
     "output_type": "execute_result"
    }
   ],
   "source": [
    "df.duplicated().sum()"
   ]
  },
  {
   "cell_type": "code",
   "execution_count": 8,
   "id": "3af49b1f",
   "metadata": {},
   "outputs": [
    {
     "data": {
      "text/plain": [
       "0"
      ]
     },
     "execution_count": 8,
     "metadata": {},
     "output_type": "execute_result"
    }
   ],
   "source": [
    "df=df.drop_duplicates()\n",
    "df.duplicated().sum()"
   ]
  },
  {
   "cell_type": "markdown",
   "id": "56fcda38",
   "metadata": {},
   "source": [
    "Удалили один найденный дубликат."
   ]
  },
  {
   "cell_type": "markdown",
   "id": "57e14f2a",
   "metadata": {},
   "source": [
    "### 2.3 Приведём столбцы к нижнему регистру и переименуем"
   ]
  },
  {
   "cell_type": "code",
   "execution_count": 9,
   "id": "77048467",
   "metadata": {},
   "outputs": [
    {
     "data": {
      "text/plain": [
       "Index(['userid', 'score', 'city', 'gender', 'age', 'equity', 'balance',\n",
       "       'products', 'credit_card', 'last_activity', 'est_salary', 'churn'],\n",
       "      dtype='object')"
      ]
     },
     "execution_count": 9,
     "metadata": {},
     "output_type": "execute_result"
    }
   ],
   "source": [
    "df.columns = df.columns.str.lower()\n",
    "df.columns"
   ]
  },
  {
   "cell_type": "code",
   "execution_count": 10,
   "id": "52c1f030",
   "metadata": {},
   "outputs": [
    {
     "data": {
      "text/plain": [
       "Index(['user_id', 'score', 'city', 'gender', 'age', 'equity', 'balance',\n",
       "       'count_products', 'credit_card', 'last_activity', 'salary', 'churn'],\n",
       "      dtype='object')"
      ]
     },
     "execution_count": 10,
     "metadata": {},
     "output_type": "execute_result"
    }
   ],
   "source": [
    "df = df.rename(columns={'userid': 'user_id', 'est_salary': 'salary','products': 'count_products'})\n",
    "df.columns"
   ]
  },
  {
   "cell_type": "markdown",
   "id": "61a0610a",
   "metadata": {},
   "source": [
    "Теперь будет удобнее просматривать данные."
   ]
  },
  {
   "cell_type": "markdown",
   "id": "3ef3730e",
   "metadata": {},
   "source": [
    "### 2.4 Заменим тип данных для значения баланса на числовой"
   ]
  },
  {
   "cell_type": "code",
   "execution_count": 11,
   "id": "cfc7ecae",
   "metadata": {},
   "outputs": [
    {
     "data": {
      "text/plain": [
       "dtype('float64')"
      ]
     },
     "execution_count": 11,
     "metadata": {},
     "output_type": "execute_result"
    }
   ],
   "source": [
    "df['balance'] = df['balance'].astype('float')\n",
    "df['balance'].dtypes"
   ]
  },
  {
   "cell_type": "markdown",
   "id": "fe2568e5",
   "metadata": {},
   "source": [
    "Привели к нужному формату."
   ]
  },
  {
   "cell_type": "markdown",
   "id": "3e56ffa3",
   "metadata": {},
   "source": [
    "## 3. Исследовательский анализ данных"
   ]
  },
  {
   "cell_type": "markdown",
   "id": "492a9031",
   "metadata": {},
   "source": [
    "### 3.1 посмотрим на количество пользователей по городам и на соотношение покинувших банк."
   ]
  },
  {
   "cell_type": "code",
   "execution_count": 12,
   "id": "cf460c7b",
   "metadata": {},
   "outputs": [
    {
     "data": {
      "text/plain": [
       "array(['Рыбинск', 'Ярославль', 'Ростов'], dtype=object)"
      ]
     },
     "execution_count": 12,
     "metadata": {},
     "output_type": "execute_result"
    }
   ],
   "source": [
    "df.city.unique()"
   ]
  },
  {
   "cell_type": "code",
   "execution_count": 97,
   "id": "4b06588b",
   "metadata": {},
   "outputs": [
    {
     "data": {
      "text/html": [
       "<div>\n",
       "<style scoped>\n",
       "    .dataframe tbody tr th:only-of-type {\n",
       "        vertical-align: middle;\n",
       "    }\n",
       "\n",
       "    .dataframe tbody tr th {\n",
       "        vertical-align: top;\n",
       "    }\n",
       "\n",
       "    .dataframe thead th {\n",
       "        text-align: right;\n",
       "    }\n",
       "</style>\n",
       "<table border=\"1\" class=\"dataframe\">\n",
       "  <thead>\n",
       "    <tr style=\"text-align: right;\">\n",
       "      <th></th>\n",
       "      <th></th>\n",
       "      <th>user_id</th>\n",
       "    </tr>\n",
       "    <tr>\n",
       "      <th>city</th>\n",
       "      <th>churn</th>\n",
       "      <th></th>\n",
       "    </tr>\n",
       "  </thead>\n",
       "  <tbody>\n",
       "    <tr>\n",
       "      <th rowspan=\"2\" valign=\"top\">Ростов</th>\n",
       "      <th>0</th>\n",
       "      <td>1157</td>\n",
       "    </tr>\n",
       "    <tr>\n",
       "      <th>1</th>\n",
       "      <td>268</td>\n",
       "    </tr>\n",
       "    <tr>\n",
       "      <th rowspan=\"2\" valign=\"top\">Рыбинск</th>\n",
       "      <th>0</th>\n",
       "      <td>2228</td>\n",
       "    </tr>\n",
       "    <tr>\n",
       "      <th>1</th>\n",
       "      <td>430</td>\n",
       "    </tr>\n",
       "    <tr>\n",
       "      <th rowspan=\"2\" valign=\"top\">Ярославль</th>\n",
       "      <th>0</th>\n",
       "      <td>4771</td>\n",
       "    </tr>\n",
       "    <tr>\n",
       "      <th>1</th>\n",
       "      <td>1114</td>\n",
       "    </tr>\n",
       "  </tbody>\n",
       "</table>\n",
       "</div>"
      ],
      "text/plain": [
       "                 user_id\n",
       "city      churn         \n",
       "Ростов    0         1157\n",
       "          1          268\n",
       "Рыбинск   0         2228\n",
       "          1          430\n",
       "Ярославль 0         4771\n",
       "          1         1114"
      ]
     },
     "execution_count": 97,
     "metadata": {},
     "output_type": "execute_result"
    }
   ],
   "source": [
    "df.groupby(['city', 'churn'])\\\n",
    ".agg({'user_id':'count'})"
   ]
  },
  {
   "cell_type": "code",
   "execution_count": 98,
   "id": "d483af2e",
   "metadata": {},
   "outputs": [
    {
     "data": {
      "image/png": "[encoded data removed]",
      "text/plain": [
       "<Figure size 1080x720 with 1 Axes>"
      ]
     },
     "metadata": {},
     "output_type": "display_data"
    }
   ],
   "source": [
    "sns.countplot(x='city', hue='churn', data=df, order=df['city'].value_counts().index)\n",
    "sns.set(rc={'figure.figsize':(15,10)})\n",
    "plt.title('Города с учётом оттока')\n",
    "\n",
    "plt.show()"
   ]
  },
  {
   "cell_type": "markdown",
   "id": "50e133c5",
   "metadata": {},
   "source": [
    "Как видим, примерно одинаковвая пропорция оттока клиентом по разным регионам."
   ]
  },
  {
   "cell_type": "markdown",
   "id": "4ae5da12",
   "metadata": {},
   "source": [
    "### 3.2 Оценим остатки на балансе для действующих и бывших клиентов."
   ]
  },
  {
   "cell_type": "code",
   "execution_count": 114,
   "id": "315b8ea7",
   "metadata": {},
   "outputs": [
    {
     "data": {
      "text/html": [
       "<div>\n",
       "<style scoped>\n",
       "    .dataframe tbody tr th:only-of-type {\n",
       "        vertical-align: middle;\n",
       "    }\n",
       "\n",
       "    .dataframe tbody tr th {\n",
       "        vertical-align: top;\n",
       "    }\n",
       "\n",
       "    .dataframe thead th {\n",
       "        text-align: right;\n",
       "    }\n",
       "</style>\n",
       "<table border=\"1\" class=\"dataframe\">\n",
       "  <thead>\n",
       "    <tr style=\"text-align: right;\">\n",
       "      <th></th>\n",
       "      <th>churn</th>\n",
       "      <th>balance</th>\n",
       "    </tr>\n",
       "  </thead>\n",
       "  <tbody>\n",
       "    <tr>\n",
       "      <th>0</th>\n",
       "      <td>0</td>\n",
       "      <td>4.324554e+09</td>\n",
       "    </tr>\n",
       "    <tr>\n",
       "      <th>1</th>\n",
       "      <td>1</td>\n",
       "      <td>2.040129e+09</td>\n",
       "    </tr>\n",
       "  </tbody>\n",
       "</table>\n",
       "</div>"
      ],
      "text/plain": [
       "   churn       balance\n",
       "0      0  4.324554e+09\n",
       "1      1  2.040129e+09"
      ]
     },
     "execution_count": 114,
     "metadata": {},
     "output_type": "execute_result"
    }
   ],
   "source": [
    "gender_df = df.groupby(['churn'])\\\n",
    ".agg({'balance':'sum'})\\\n",
    ".reset_index()\n",
    "\n",
    "gender_df"
   ]
  },
  {
   "cell_type": "markdown",
   "id": "70404bf7",
   "metadata": {},
   "source": [
    "Остатки на счетах действующих клиентов превышают более, чем в 2 раза."
   ]
  },
  {
   "cell_type": "markdown",
   "id": "d2bde806",
   "metadata": {},
   "source": [
    "### 3.3 Обратим внимание на средний возраст мужчин и женщин, которые сформировали отток."
   ]
  },
  {
   "cell_type": "code",
   "execution_count": 121,
   "id": "9da3898a",
   "metadata": {},
   "outputs": [
    {
     "data": {
      "text/html": [
       "<div>\n",
       "<style scoped>\n",
       "    .dataframe tbody tr th:only-of-type {\n",
       "        vertical-align: middle;\n",
       "    }\n",
       "\n",
       "    .dataframe tbody tr th {\n",
       "        vertical-align: top;\n",
       "    }\n",
       "\n",
       "    .dataframe thead th {\n",
       "        text-align: right;\n",
       "    }\n",
       "</style>\n",
       "<table border=\"1\" class=\"dataframe\">\n",
       "  <thead>\n",
       "    <tr style=\"text-align: right;\">\n",
       "      <th></th>\n",
       "      <th>age</th>\n",
       "    </tr>\n",
       "    <tr>\n",
       "      <th>gender</th>\n",
       "      <th></th>\n",
       "    </tr>\n",
       "  </thead>\n",
       "  <tbody>\n",
       "    <tr>\n",
       "      <th>Ж</th>\n",
       "      <td>45.589429</td>\n",
       "    </tr>\n",
       "    <tr>\n",
       "      <th>М</th>\n",
       "      <td>40.124199</td>\n",
       "    </tr>\n",
       "  </tbody>\n",
       "</table>\n",
       "</div>"
      ],
      "text/plain": [
       "              age\n",
       "gender           \n",
       "Ж       45.589429\n",
       "М       40.124199"
      ]
     },
     "execution_count": 121,
     "metadata": {},
     "output_type": "execute_result"
    }
   ],
   "source": [
    "df.pivot_table(index='gender', values='age', aggfunc='mean')"
   ]
  },
  {
   "cell_type": "markdown",
   "id": "6d083774",
   "metadata": {},
   "source": [
    "### 3.4 Построим матрицу корреляции показателей."
   ]
  },
  {
   "cell_type": "code",
   "execution_count": 117,
   "id": "18413219",
   "metadata": {},
   "outputs": [
    {
     "data": {
      "image/png": "[encoded data removed]",
      "text/plain": [
       "<Figure size 864x864 with 2 Axes>"
      ]
     },
     "metadata": {},
     "output_type": "display_data"
    }
   ],
   "source": [
    "df_corr = df.corr()\n",
    "\n",
    "plt.figure(figsize=(12,12))\n",
    "sns.heatmap(df_corr, annot=True, square=True)\n",
    "\n",
    "plt.show()"
   ]
  },
  {
   "cell_type": "markdown",
   "id": "c3199ca5",
   "metadata": {},
   "source": [
    "Сильная корреляция между:  \n",
    "1) Кредитными картами и количеством продуктов.  \n",
    "2) Колисетвом предметов залога и количеством продуктов.  \n",
    "3) Зарплатой и балансом.  \n",
    "4) Предметами залога и оттоком."
   ]
  },
  {
   "cell_type": "markdown",
   "id": "5a955fff",
   "metadata": {},
   "source": [
    "### 3.5 Создадим категории по возрасту и оценим среди каких категорий больше отток"
   ]
  },
  {
   "cell_type": "code",
   "execution_count": 46,
   "id": "4a05a554",
   "metadata": {},
   "outputs": [
    {
     "data": {
      "text/plain": [
       "array([25, 37, 30, 51, 34, 56, 39, 38, 54, 67, 52, 41, 31, 28, 35, 42, 45,\n",
       "       53, 40, 43, 47, 48, 61, 62, 36, 26, 27, 60, 72, 50, 46, 55, 58, 71,\n",
       "       73, 44, 49, 33, 32, 66, 29, 68, 69, 59, 21, 65, 57, 63, 80, 70, 77,\n",
       "       64, 20, 18, 19, 78, 74, 76, 22, 75, 23, 81, 24, 83, 82, 84, 79, 86])"
      ]
     },
     "execution_count": 46,
     "metadata": {},
     "output_type": "execute_result"
    }
   ],
   "source": [
    "df['age'].unique()"
   ]
  },
  {
   "cell_type": "code",
   "execution_count": 47,
   "id": "8bafb740",
   "metadata": {},
   "outputs": [
    {
     "data": {
      "text/html": [
       "<div>\n",
       "<style scoped>\n",
       "    .dataframe tbody tr th:only-of-type {\n",
       "        vertical-align: middle;\n",
       "    }\n",
       "\n",
       "    .dataframe tbody tr th {\n",
       "        vertical-align: top;\n",
       "    }\n",
       "\n",
       "    .dataframe thead th {\n",
       "        text-align: right;\n",
       "    }\n",
       "</style>\n",
       "<table border=\"1\" class=\"dataframe\">\n",
       "  <thead>\n",
       "    <tr style=\"text-align: right;\">\n",
       "      <th></th>\n",
       "      <th>user_id</th>\n",
       "      <th>score</th>\n",
       "      <th>city</th>\n",
       "      <th>gender</th>\n",
       "      <th>age</th>\n",
       "      <th>equity</th>\n",
       "      <th>balance</th>\n",
       "      <th>count_products</th>\n",
       "      <th>credit_card</th>\n",
       "      <th>last_activity</th>\n",
       "      <th>salary</th>\n",
       "      <th>churn</th>\n",
       "      <th>age_category</th>\n",
       "    </tr>\n",
       "  </thead>\n",
       "  <tbody>\n",
       "    <tr>\n",
       "      <th>0</th>\n",
       "      <td>183012</td>\n",
       "      <td>850.0</td>\n",
       "      <td>Рыбинск</td>\n",
       "      <td>Ж</td>\n",
       "      <td>25</td>\n",
       "      <td>1</td>\n",
       "      <td>59214.82</td>\n",
       "      <td>2</td>\n",
       "      <td>0</td>\n",
       "      <td>1</td>\n",
       "      <td>75719.14</td>\n",
       "      <td>1</td>\n",
       "      <td>18-30</td>\n",
       "    </tr>\n",
       "    <tr>\n",
       "      <th>1</th>\n",
       "      <td>146556</td>\n",
       "      <td>861.0</td>\n",
       "      <td>Рыбинск</td>\n",
       "      <td>Ж</td>\n",
       "      <td>37</td>\n",
       "      <td>5</td>\n",
       "      <td>850594.33</td>\n",
       "      <td>3</td>\n",
       "      <td>1</td>\n",
       "      <td>0</td>\n",
       "      <td>86621.77</td>\n",
       "      <td>0</td>\n",
       "      <td>31-45</td>\n",
       "    </tr>\n",
       "    <tr>\n",
       "      <th>2</th>\n",
       "      <td>120722</td>\n",
       "      <td>892.0</td>\n",
       "      <td>Рыбинск</td>\n",
       "      <td>Ж</td>\n",
       "      <td>30</td>\n",
       "      <td>0</td>\n",
       "      <td>NaN</td>\n",
       "      <td>1</td>\n",
       "      <td>1</td>\n",
       "      <td>1</td>\n",
       "      <td>107683.34</td>\n",
       "      <td>0</td>\n",
       "      <td>18-30</td>\n",
       "    </tr>\n",
       "    <tr>\n",
       "      <th>3</th>\n",
       "      <td>225363</td>\n",
       "      <td>866.0</td>\n",
       "      <td>Ярославль</td>\n",
       "      <td>Ж</td>\n",
       "      <td>51</td>\n",
       "      <td>5</td>\n",
       "      <td>1524746.26</td>\n",
       "      <td>2</td>\n",
       "      <td>0</td>\n",
       "      <td>1</td>\n",
       "      <td>174423.53</td>\n",
       "      <td>1</td>\n",
       "      <td>46-65</td>\n",
       "    </tr>\n",
       "    <tr>\n",
       "      <th>4</th>\n",
       "      <td>157978</td>\n",
       "      <td>730.0</td>\n",
       "      <td>Ярославль</td>\n",
       "      <td>М</td>\n",
       "      <td>34</td>\n",
       "      <td>5</td>\n",
       "      <td>174.00</td>\n",
       "      <td>1</td>\n",
       "      <td>1</td>\n",
       "      <td>0</td>\n",
       "      <td>67353.16</td>\n",
       "      <td>1</td>\n",
       "      <td>31-45</td>\n",
       "    </tr>\n",
       "  </tbody>\n",
       "</table>\n",
       "</div>"
      ],
      "text/plain": [
       "   user_id  score       city gender  age  equity     balance  count_products  \\\n",
       "0   183012  850.0    Рыбинск      Ж   25       1    59214.82               2   \n",
       "1   146556  861.0    Рыбинск      Ж   37       5   850594.33               3   \n",
       "2   120722  892.0    Рыбинск      Ж   30       0         NaN               1   \n",
       "3   225363  866.0  Ярославль      Ж   51       5  1524746.26               2   \n",
       "4   157978  730.0  Ярославль      М   34       5      174.00               1   \n",
       "\n",
       "   credit_card  last_activity     salary  churn age_category  \n",
       "0            0              1   75719.14      1        18-30  \n",
       "1            1              0   86621.77      0        31-45  \n",
       "2            1              1  107683.34      0        18-30  \n",
       "3            0              1  174423.53      1        46-65  \n",
       "4            1              0   67353.16      1        31-45  "
      ]
     },
     "execution_count": 47,
     "metadata": {},
     "output_type": "execute_result"
    }
   ],
   "source": [
    "def age_category(age):\n",
    "    if age >= 18 and age <= 30:\n",
    "        return '18-30'\n",
    "    if age >= 31 and age <= 45:\n",
    "        return '31-45'\n",
    "    if age >= 46 and age <= 65:\n",
    "        return '46-65'\n",
    "    if age > 65:\n",
    "        return '> 65'\n",
    "    \n",
    "df['age_category'] = df['age'].apply(age_category)\n",
    "\n",
    "df.head()"
   ]
  },
  {
   "cell_type": "code",
   "execution_count": 48,
   "id": "050b891f",
   "metadata": {},
   "outputs": [
    {
     "data": {
      "text/html": [
       "<div>\n",
       "<style scoped>\n",
       "    .dataframe tbody tr th:only-of-type {\n",
       "        vertical-align: middle;\n",
       "    }\n",
       "\n",
       "    .dataframe tbody tr th {\n",
       "        vertical-align: top;\n",
       "    }\n",
       "\n",
       "    .dataframe thead th {\n",
       "        text-align: right;\n",
       "    }\n",
       "</style>\n",
       "<table border=\"1\" class=\"dataframe\">\n",
       "  <thead>\n",
       "    <tr style=\"text-align: right;\">\n",
       "      <th></th>\n",
       "      <th></th>\n",
       "      <th>user_id</th>\n",
       "    </tr>\n",
       "    <tr>\n",
       "      <th>age_category</th>\n",
       "      <th>churn</th>\n",
       "      <th></th>\n",
       "    </tr>\n",
       "  </thead>\n",
       "  <tbody>\n",
       "    <tr>\n",
       "      <th rowspan=\"2\" valign=\"top\">18-30</th>\n",
       "      <th>0</th>\n",
       "      <td>1050</td>\n",
       "    </tr>\n",
       "    <tr>\n",
       "      <th>1</th>\n",
       "      <td>307</td>\n",
       "    </tr>\n",
       "    <tr>\n",
       "      <th rowspan=\"2\" valign=\"top\">31-45</th>\n",
       "      <th>0</th>\n",
       "      <td>4233</td>\n",
       "    </tr>\n",
       "    <tr>\n",
       "      <th>1</th>\n",
       "      <td>875</td>\n",
       "    </tr>\n",
       "    <tr>\n",
       "      <th rowspan=\"2\" valign=\"top\">46-65</th>\n",
       "      <th>0</th>\n",
       "      <td>2413</td>\n",
       "    </tr>\n",
       "    <tr>\n",
       "      <th>1</th>\n",
       "      <td>629</td>\n",
       "    </tr>\n",
       "    <tr>\n",
       "      <th rowspan=\"2\" valign=\"top\">&gt; 65</th>\n",
       "      <th>0</th>\n",
       "      <td>481</td>\n",
       "    </tr>\n",
       "    <tr>\n",
       "      <th>1</th>\n",
       "      <td>10</td>\n",
       "    </tr>\n",
       "  </tbody>\n",
       "</table>\n",
       "</div>"
      ],
      "text/plain": [
       "                    user_id\n",
       "age_category churn         \n",
       "18-30        0         1050\n",
       "             1          307\n",
       "31-45        0         4233\n",
       "             1          875\n",
       "46-65        0         2413\n",
       "             1          629\n",
       "> 65         0          481\n",
       "             1           10"
      ]
     },
     "execution_count": 48,
     "metadata": {},
     "output_type": "execute_result"
    }
   ],
   "source": [
    "df.pivot_table(\n",
    "    index=['age_category', 'churn']\\\n",
    "    , values='user_id', aggfunc='count'\n",
    "    )"
   ]
  },
  {
   "cell_type": "code",
   "execution_count": 49,
   "id": "9b0883eb",
   "metadata": {},
   "outputs": [
    {
     "data": {
      "image/png": "[encoded data removed]",
      "text/plain": [
       "<Figure size 1080x720 with 1 Axes>"
      ]
     },
     "metadata": {},
     "output_type": "display_data"
    }
   ],
   "source": [
    "sns.countplot(x='age_category', hue='churn', data=df, order=df['age_category'].value_counts().index)\n",
    "sns.set(rc={'figure.figsize':(12,8)})\n",
    "plt.title('Отток по возрастам')\n",
    "\n",
    "plt.show()"
   ]
  },
  {
   "cell_type": "markdown",
   "id": "a319f60a",
   "metadata": {},
   "source": [
    "Самыми верными клиентами оказались люди старше 65 лет, а чаще покидали банк напротив - самая молодая возрастная категория."
   ]
  },
  {
   "cell_type": "markdown",
   "id": "af5b7412",
   "metadata": {},
   "source": [
    "## 4. Сегментация клиентов"
   ]
  },
  {
   "cell_type": "markdown",
   "id": "826d9a18",
   "metadata": {},
   "source": [
    "### 4.1 Узнаем долю  клиентов в разбивке по количеству продуктов "
   ]
  },
  {
   "cell_type": "code",
   "execution_count": 101,
   "id": "b28d6204",
   "metadata": {},
   "outputs": [
    {
     "data": {
      "text/plain": [
       "array([2, 3, 1, 4])"
      ]
     },
     "execution_count": 101,
     "metadata": {},
     "output_type": "execute_result"
    }
   ],
   "source": [
    "df['count_products'].unique()"
   ]
  },
  {
   "cell_type": "code",
   "execution_count": 102,
   "id": "b1b7bc17",
   "metadata": {},
   "outputs": [
    {
     "data": {
      "text/html": [
       "<div>\n",
       "<style scoped>\n",
       "    .dataframe tbody tr th:only-of-type {\n",
       "        vertical-align: middle;\n",
       "    }\n",
       "\n",
       "    .dataframe tbody tr th {\n",
       "        vertical-align: top;\n",
       "    }\n",
       "\n",
       "    .dataframe thead th {\n",
       "        text-align: right;\n",
       "    }\n",
       "</style>\n",
       "<table border=\"1\" class=\"dataframe\">\n",
       "  <thead>\n",
       "    <tr style=\"text-align: right;\">\n",
       "      <th></th>\n",
       "      <th>user_id</th>\n",
       "    </tr>\n",
       "    <tr>\n",
       "      <th>count_products</th>\n",
       "      <th></th>\n",
       "    </tr>\n",
       "  </thead>\n",
       "  <tbody>\n",
       "    <tr>\n",
       "      <th>1</th>\n",
       "      <td>3327</td>\n",
       "    </tr>\n",
       "    <tr>\n",
       "      <th>2</th>\n",
       "      <td>5096</td>\n",
       "    </tr>\n",
       "    <tr>\n",
       "      <th>3</th>\n",
       "      <td>1046</td>\n",
       "    </tr>\n",
       "    <tr>\n",
       "      <th>4</th>\n",
       "      <td>474</td>\n",
       "    </tr>\n",
       "  </tbody>\n",
       "</table>\n",
       "</div>"
      ],
      "text/plain": [
       "                user_id\n",
       "count_products         \n",
       "1                  3327\n",
       "2                  5096\n",
       "3                  1046\n",
       "4                   474"
      ]
     },
     "execution_count": 102,
     "metadata": {},
     "output_type": "execute_result"
    }
   ],
   "source": [
    "df.groupby('count_products')\\\n",
    ".agg({'user_id':'nunique'})"
   ]
  },
  {
   "cell_type": "markdown",
   "id": "e247c234",
   "metadata": {},
   "source": [
    "Исключим из дальнейшего анализа клиента с нулём продуктов и с 5 продуктами. Можем считать выбросом 31 клиента из 10 000."
   ]
  },
  {
   "cell_type": "code",
   "execution_count": 103,
   "id": "fb9e115d",
   "metadata": {},
   "outputs": [
    {
     "data": {
      "text/plain": [
       "array([2, 3, 1, 4])"
      ]
     },
     "execution_count": 103,
     "metadata": {},
     "output_type": "execute_result"
    }
   ],
   "source": [
    "df = df.query('count_products != 0 & count_products != 5')\n",
    "df['count_products'].unique()"
   ]
  },
  {
   "cell_type": "code",
   "execution_count": 104,
   "id": "e535665e",
   "metadata": {},
   "outputs": [
    {
     "data": {
      "image/png": "[encoded data removed]",
      "text/plain": [
       "<Figure size 720x720 with 1 Axes>"
      ]
     },
     "metadata": {},
     "output_type": "display_data"
    }
   ],
   "source": [
    "fig1 = df.groupby('count_products')\\\n",
    ".agg({'user_id':'nunique'})\\\n",
    ".plot(kind='pie',  subplots=True, figsize=(10,10))\n",
    "plt.title('Продукты по количеству клиентов')\n",
    "\n",
    "plt.show()"
   ]
  },
  {
   "cell_type": "markdown",
   "id": "d99741f1",
   "metadata": {},
   "source": [
    "Большинство клиентом пользуется 2-мя продуктами банка и совсем немногие обзавелись 5-ю."
   ]
  },
  {
   "cell_type": "markdown",
   "id": "8d23a35e",
   "metadata": {},
   "source": [
    "### 4.2 Оценим какой отток клиентов по каждому числу продуктов"
   ]
  },
  {
   "cell_type": "code",
   "execution_count": 105,
   "id": "dd1bda90",
   "metadata": {},
   "outputs": [
    {
     "data": {
      "image/png": "[encoded data removed]",
      "text/plain": [
       "<Figure size 1080x720 with 1 Axes>"
      ]
     },
     "metadata": {},
     "output_type": "display_data"
    }
   ],
   "source": [
    "sns.countplot(x='count_products', hue='churn', data=df, order=df['count_products'].value_counts().index)\n",
    "sns.set(rc={'figure.figsize':(12,8)})\n",
    "plt.title('Отток по возрастам')\n",
    "\n",
    "plt.show()"
   ]
  },
  {
   "cell_type": "markdown",
   "id": "a9114b3a",
   "metadata": {},
   "source": [
    "### 4.3 Разделим пользователей по сегментам"
   ]
  },
  {
   "cell_type": "code",
   "execution_count": 108,
   "id": "3b0e4f10",
   "metadata": {},
   "outputs": [
    {
     "data": {
      "text/html": [
       "<div>\n",
       "<style scoped>\n",
       "    .dataframe tbody tr th:only-of-type {\n",
       "        vertical-align: middle;\n",
       "    }\n",
       "\n",
       "    .dataframe tbody tr th {\n",
       "        vertical-align: top;\n",
       "    }\n",
       "\n",
       "    .dataframe thead th {\n",
       "        text-align: right;\n",
       "    }\n",
       "</style>\n",
       "<table border=\"1\" class=\"dataframe\">\n",
       "  <thead>\n",
       "    <tr style=\"text-align: right;\">\n",
       "      <th></th>\n",
       "      <th>gender</th>\n",
       "      <th>Ж</th>\n",
       "      <th>М</th>\n",
       "    </tr>\n",
       "    <tr>\n",
       "      <th>count_products</th>\n",
       "      <th>churn</th>\n",
       "      <th></th>\n",
       "      <th></th>\n",
       "    </tr>\n",
       "  </thead>\n",
       "  <tbody>\n",
       "    <tr>\n",
       "      <th rowspan=\"2\" valign=\"top\">1</th>\n",
       "      <th>0</th>\n",
       "      <td>1469</td>\n",
       "      <td>1636</td>\n",
       "    </tr>\n",
       "    <tr>\n",
       "      <th>1</th>\n",
       "      <td>64</td>\n",
       "      <td>171</td>\n",
       "    </tr>\n",
       "    <tr>\n",
       "      <th rowspan=\"2\" valign=\"top\">2</th>\n",
       "      <th>0</th>\n",
       "      <td>2324</td>\n",
       "      <td>1805</td>\n",
       "    </tr>\n",
       "    <tr>\n",
       "      <th>1</th>\n",
       "      <td>342</td>\n",
       "      <td>637</td>\n",
       "    </tr>\n",
       "    <tr>\n",
       "      <th rowspan=\"2\" valign=\"top\">3</th>\n",
       "      <th>0</th>\n",
       "      <td>472</td>\n",
       "      <td>276</td>\n",
       "    </tr>\n",
       "    <tr>\n",
       "      <th>1</th>\n",
       "      <td>127</td>\n",
       "      <td>171</td>\n",
       "    </tr>\n",
       "    <tr>\n",
       "      <th rowspan=\"2\" valign=\"top\">4</th>\n",
       "      <th>0</th>\n",
       "      <td>78</td>\n",
       "      <td>96</td>\n",
       "    </tr>\n",
       "    <tr>\n",
       "      <th>1</th>\n",
       "      <td>100</td>\n",
       "      <td>200</td>\n",
       "    </tr>\n",
       "  </tbody>\n",
       "</table>\n",
       "</div>"
      ],
      "text/plain": [
       "gender                   Ж     М\n",
       "count_products churn            \n",
       "1              0      1469  1636\n",
       "               1        64   171\n",
       "2              0      2324  1805\n",
       "               1       342   637\n",
       "3              0       472   276\n",
       "               1       127   171\n",
       "4              0        78    96\n",
       "               1       100   200"
      ]
     },
     "execution_count": 108,
     "metadata": {},
     "output_type": "execute_result"
    }
   ],
   "source": [
    "df.pivot_table(index=['count_products','churn'], values='user_id', aggfunc='count', columns=['gender'])"
   ]
  },
  {
   "cell_type": "markdown",
   "id": "67881cf7",
   "metadata": {},
   "source": [
    "Среди мужчин явно больше покинувших банк."
   ]
  },
  {
   "cell_type": "code",
   "execution_count": 123,
   "id": "882f3faf",
   "metadata": {},
   "outputs": [
    {
     "data": {
      "text/plain": [
       "Index(['user_id', 'score', 'city', 'gender', 'age', 'equity', 'balance',\n",
       "       'count_products', 'credit_card', 'last_activity', 'salary', 'churn',\n",
       "       'age_category'],\n",
       "      dtype='object')"
      ]
     },
     "execution_count": 123,
     "metadata": {},
     "output_type": "execute_result"
    }
   ],
   "source": [
    "df.columns"
   ]
  },
  {
   "cell_type": "code",
   "execution_count": 137,
   "id": "ea3bb008",
   "metadata": {},
   "outputs": [
    {
     "data": {
      "text/html": [
       "<div>\n",
       "<style scoped>\n",
       "    .dataframe tbody tr th:only-of-type {\n",
       "        vertical-align: middle;\n",
       "    }\n",
       "\n",
       "    .dataframe tbody tr th {\n",
       "        vertical-align: top;\n",
       "    }\n",
       "\n",
       "    .dataframe thead th {\n",
       "        text-align: right;\n",
       "    }\n",
       "</style>\n",
       "<table border=\"1\" class=\"dataframe\">\n",
       "  <thead>\n",
       "    <tr style=\"text-align: right;\">\n",
       "      <th></th>\n",
       "      <th>count_products</th>\n",
       "      <th>credit_card</th>\n",
       "      <th>churn</th>\n",
       "    </tr>\n",
       "  </thead>\n",
       "  <tbody>\n",
       "    <tr>\n",
       "      <th>0</th>\n",
       "      <td>1</td>\n",
       "      <td>3340</td>\n",
       "      <td>0.070359</td>\n",
       "    </tr>\n",
       "    <tr>\n",
       "      <th>1</th>\n",
       "      <td>2</td>\n",
       "      <td>5108</td>\n",
       "      <td>0.191660</td>\n",
       "    </tr>\n",
       "    <tr>\n",
       "      <th>2</th>\n",
       "      <td>3</td>\n",
       "      <td>1046</td>\n",
       "      <td>0.284895</td>\n",
       "    </tr>\n",
       "    <tr>\n",
       "      <th>3</th>\n",
       "      <td>4</td>\n",
       "      <td>474</td>\n",
       "      <td>0.632911</td>\n",
       "    </tr>\n",
       "  </tbody>\n",
       "</table>\n",
       "</div>"
      ],
      "text/plain": [
       "   count_products  credit_card     churn\n",
       "0               1         3340  0.070359\n",
       "1               2         5108  0.191660\n",
       "2               3         1046  0.284895\n",
       "3               4          474  0.632911"
      ]
     },
     "execution_count": 137,
     "metadata": {},
     "output_type": "execute_result"
    }
   ],
   "source": [
    "df.groupby('count_products').agg({'credit_card':'count', 'churn':'mean'}).reset_index()"
   ]
  },
  {
   "cell_type": "markdown",
   "id": "f12cc0ea",
   "metadata": {},
   "source": [
    "Разделим по количеству продуктов на 4 группы в зависимости от их количества."
   ]
  },
  {
   "cell_type": "markdown",
   "id": "d813150e",
   "metadata": {},
   "source": [
    "## 5. Статистические гипотезы"
   ]
  },
  {
   "cell_type": "markdown",
   "id": "2c034814",
   "metadata": {},
   "source": [
    "### 5.1 Определим стат критерий. Сформируем нулевую и альтернативную гипотезу №1"
   ]
  },
  {
   "cell_type": "markdown",
   "id": "aea7b1be",
   "metadata": {},
   "source": [
    "Уровень статистической сзначимости установим на уровне 5%. \n",
    "\n",
    "Нулевая гипотеза: зарплата клиентов с одним и двумя продуктами одинаковая.  \n",
    "Альтернативная гипотеза: зарплата клиентов с одним и двумя продуктами разная."
   ]
  },
  {
   "cell_type": "code",
   "execution_count": 95,
   "id": "b13fb4ab",
   "metadata": {},
   "outputs": [
    {
     "name": "stdout",
     "output_type": "stream",
     "text": [
      "p-значение:  4.4573512522390504e-57\n",
      "Отвергаем нулевую гипотезу\n"
     ]
    }
   ],
   "source": [
    "alpha = .05\n",
    "results = st.stats.ttest_ind(\n",
    "    df[df['count_products']==2]['salary'], df[df['count_products']==1]['salary']\n",
    "    )\n",
    "print('p-значение: ', results.pvalue)\n",
    "if results.pvalue < alpha:\n",
    "    print(\"Отвергаем нулевую гипотезу\")\n",
    "else:\n",
    "    print(\"Не получилось отвергнуть нулевую гипотезу\")"
   ]
  },
  {
   "cell_type": "markdown",
   "id": "d3754c88",
   "metadata": {},
   "source": [
    "### 5.1 Определим стат критерий. Сформируем нулевую и альтернативную гипотезу №2"
   ]
  },
  {
   "cell_type": "markdown",
   "id": "1b48adc0",
   "metadata": {},
   "source": [
    "Уровень статистической сзначимости установим на уровне 5%. \n",
    "\n",
    "Нулевая гипотеза: количество объектов собственности клиентов с мужского и женского пола одинаковое.  \n",
    "Альтернативная гипотеза: количество объектов собственности клиентов с мужского и женского пола одинаковый разное."
   ]
  },
  {
   "cell_type": "code",
   "execution_count": 96,
   "id": "ae960fc9",
   "metadata": {},
   "outputs": [
    {
     "name": "stdout",
     "output_type": "stream",
     "text": [
      "p-значение:  0.02786067621769642\n",
      "Отвергаем нулевую гипотезу\n"
     ]
    }
   ],
   "source": [
    "alpha = .05\n",
    "results = st.stats.ttest_ind(\n",
    "    df[df['gender']=='М']['equity'], df[df['gender']=='Ж']['equity']\n",
    "    )\n",
    "print('p-значение: ', results.pvalue)\n",
    "if results.pvalue < alpha:\n",
    "    print(\"Отвергаем нулевую гипотезу\")\n",
    "else:\n",
    "    print(\"Не получилось отвергнуть нулевую гипотезу\")"
   ]
  },
  {
   "cell_type": "markdown",
   "id": "79505824",
   "metadata": {},
   "source": [
    "## 6. Сформулируем выводы и реккомендации в разрезе сегментов."
   ]
  }
 ],
 "metadata": {
  "kernelspec": {
   "display_name": "Python 3 (ipykernel)",
   "language": "python",
   "name": "python3"
  },
  "language_info": {
   "codemirror_mode": {
    "name": "ipython",
    "version": 3
   },
   "file_extension": ".py",
   "mimetype": "text/x-python",
   "name": "python",
   "nbconvert_exporter": "python",
   "pygments_lexer": "ipython3",
   "version": "3.9.7"
  }
 },
 "nbformat": 4,
 "nbformat_minor": 5
}
