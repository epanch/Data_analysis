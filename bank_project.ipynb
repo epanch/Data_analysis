{
 "cells": [
  {
   "cell_type": "markdown",
   "id": "831a0840",
   "metadata": {},
   "source": [
    "### Описание проекта: \n",
    "Нам необходимо провести анализ оттока клиентов.  \n",
    "Анализ покажет, как клиенты пользуются нашими услугами, а так же поможет нам составить портрет клиентов, которые склонны уходить из банка. Проанализируем клиентов регионального банка и сегментируем пользователей по количеству потребляемых продуктов, обращая особое внимание на отток.   \n",
    "Основыне шаги: Знакомство с данными и предобработка >> Исследовательский анализ данных >> Сегментация пользователей на основе данных о количестве потребляемых продуктов >> Проверка гипотезы различия дохода между теми клиентами, которые пользуются двумя продуктами банка, и теми, которые пользуются одним."
   ]
  },
  {
   "cell_type": "markdown",
   "id": "b04eba88",
   "metadata": {},
   "source": [
    "### **Описание данных:**\n",
    "\n",
    "Датасет содержит данные о клиентах банка «Метанпром». Банк располагается в Ярославле и областных городах: Ростов Великий и Рыбинск.\n",
    "\n",
    "Колонки:\n",
    "\n",
    "- `userid` — идентификатор пользователя,\n",
    "- `score` — баллы кредитного скоринга,\n",
    "- `City` — город,\n",
    "- `Gender` — пол,\n",
    "- `Age` — возраст,\n",
    "- `Objects` — количество объектов в собственности,\n",
    "- `Balance` — баланс на счёте,\n",
    "- `Products` — количество продуктов, которыми пользуется клиент,\n",
    "- `CreditCard` — есть ли кредитная карта,\n",
    "- `Loyalty` — активный клиент,\n",
    "- `estimated_salary` — заработная плата клиента,\n",
    "- `Churn` — ушёл или нет."
   ]
  },
  {
   "cell_type": "markdown",
   "id": "540c6994",
   "metadata": {},
   "source": [
    "## 1. Знакомство с данными"
   ]
  },
  {
   "cell_type": "markdown",
   "id": "57c1c50c",
   "metadata": {},
   "source": [
    "### 1.1 Импорт нужных библиотек и загрузка данных"
   ]
  },
  {
   "cell_type": "code",
   "execution_count": 1,
   "id": "3060e58a",
   "metadata": {},
   "outputs": [],
   "source": [
    "import pandas as pd\n",
    "import numpy as np\n",
    "import matplotlib.pyplot as plt\n",
    "import seaborn as sns\n",
    "from scipy import stats as st"
   ]
  },
  {
   "cell_type": "code",
   "execution_count": 2,
   "id": "5af3aad8",
   "metadata": {},
   "outputs": [],
   "source": [
    "df = pd.read_csv('/Users/nonadoinjashvili/Desktop/final_project/bank_scrooge.csv')"
   ]
  },
  {
   "cell_type": "markdown",
   "id": "64fb06b0",
   "metadata": {},
   "source": [
    "### 1.2 Вывод данных и информации о них"
   ]
  },
  {
   "cell_type": "code",
   "execution_count": 3,
   "id": "8173cd69",
   "metadata": {},
   "outputs": [
    {
     "data": {
      "text/html": [
       "<div>\n",
       "<style scoped>\n",
       "    .dataframe tbody tr th:only-of-type {\n",
       "        vertical-align: middle;\n",
       "    }\n",
       "\n",
       "    .dataframe tbody tr th {\n",
       "        vertical-align: top;\n",
       "    }\n",
       "\n",
       "    .dataframe thead th {\n",
       "        text-align: right;\n",
       "    }\n",
       "</style>\n",
       "<table border=\"1\" class=\"dataframe\">\n",
       "  <thead>\n",
       "    <tr style=\"text-align: right;\">\n",
       "      <th></th>\n",
       "      <th>USERID</th>\n",
       "      <th>score</th>\n",
       "      <th>city</th>\n",
       "      <th>gender</th>\n",
       "      <th>age</th>\n",
       "      <th>equity</th>\n",
       "      <th>balance</th>\n",
       "      <th>products</th>\n",
       "      <th>credit_card</th>\n",
       "      <th>last_activity</th>\n",
       "      <th>EST_SALARY</th>\n",
       "      <th>churn</th>\n",
       "    </tr>\n",
       "  </thead>\n",
       "  <tbody>\n",
       "    <tr>\n",
       "      <th>0</th>\n",
       "      <td>183012</td>\n",
       "      <td>850.0</td>\n",
       "      <td>Рыбинск</td>\n",
       "      <td>Ж</td>\n",
       "      <td>25</td>\n",
       "      <td>1</td>\n",
       "      <td>59214.82</td>\n",
       "      <td>2</td>\n",
       "      <td>0</td>\n",
       "      <td>1</td>\n",
       "      <td>75719.14</td>\n",
       "      <td>1</td>\n",
       "    </tr>\n",
       "    <tr>\n",
       "      <th>1</th>\n",
       "      <td>146556</td>\n",
       "      <td>861.0</td>\n",
       "      <td>Рыбинск</td>\n",
       "      <td>Ж</td>\n",
       "      <td>37</td>\n",
       "      <td>5</td>\n",
       "      <td>850594.33</td>\n",
       "      <td>3</td>\n",
       "      <td>1</td>\n",
       "      <td>0</td>\n",
       "      <td>86621.77</td>\n",
       "      <td>0</td>\n",
       "    </tr>\n",
       "    <tr>\n",
       "      <th>2</th>\n",
       "      <td>120722</td>\n",
       "      <td>892.0</td>\n",
       "      <td>Рыбинск</td>\n",
       "      <td>Ж</td>\n",
       "      <td>30</td>\n",
       "      <td>0</td>\n",
       "      <td>NaN</td>\n",
       "      <td>1</td>\n",
       "      <td>1</td>\n",
       "      <td>1</td>\n",
       "      <td>107683.34</td>\n",
       "      <td>0</td>\n",
       "    </tr>\n",
       "    <tr>\n",
       "      <th>3</th>\n",
       "      <td>225363</td>\n",
       "      <td>866.0</td>\n",
       "      <td>Ярославль</td>\n",
       "      <td>Ж</td>\n",
       "      <td>51</td>\n",
       "      <td>5</td>\n",
       "      <td>1524746.26</td>\n",
       "      <td>2</td>\n",
       "      <td>0</td>\n",
       "      <td>1</td>\n",
       "      <td>174423.53</td>\n",
       "      <td>1</td>\n",
       "    </tr>\n",
       "    <tr>\n",
       "      <th>4</th>\n",
       "      <td>157978</td>\n",
       "      <td>730.0</td>\n",
       "      <td>Ярославль</td>\n",
       "      <td>М</td>\n",
       "      <td>34</td>\n",
       "      <td>5</td>\n",
       "      <td>174.00</td>\n",
       "      <td>1</td>\n",
       "      <td>1</td>\n",
       "      <td>0</td>\n",
       "      <td>67353.16</td>\n",
       "      <td>1</td>\n",
       "    </tr>\n",
       "  </tbody>\n",
       "</table>\n",
       "</div>"
      ],
      "text/plain": [
       "   USERID  score       city gender  age  equity     balance  products  \\\n",
       "0  183012  850.0    Рыбинск      Ж   25       1    59214.82         2   \n",
       "1  146556  861.0    Рыбинск      Ж   37       5   850594.33         3   \n",
       "2  120722  892.0    Рыбинск      Ж   30       0         NaN         1   \n",
       "3  225363  866.0  Ярославль      Ж   51       5  1524746.26         2   \n",
       "4  157978  730.0  Ярославль      М   34       5      174.00         1   \n",
       "\n",
       "   credit_card  last_activity  EST_SALARY  churn  \n",
       "0            0              1    75719.14      1  \n",
       "1            1              0    86621.77      0  \n",
       "2            1              1   107683.34      0  \n",
       "3            0              1   174423.53      1  \n",
       "4            1              0    67353.16      1  "
      ]
     },
     "execution_count": 3,
     "metadata": {},
     "output_type": "execute_result"
    }
   ],
   "source": [
    "df.head(5)"
   ]
  },
  {
   "cell_type": "code",
   "execution_count": 4,
   "id": "a6ae57f0",
   "metadata": {},
   "outputs": [
    {
     "data": {
      "text/plain": [
       "<bound method DataFrame.info of       USERID  score       city gender  age  equity     balance  products  \\\n",
       "0     183012  850.0    Рыбинск      Ж   25       1    59214.82         2   \n",
       "1     146556  861.0    Рыбинск      Ж   37       5   850594.33         3   \n",
       "2     120722  892.0    Рыбинск      Ж   30       0         NaN         1   \n",
       "3     225363  866.0  Ярославль      Ж   51       5  1524746.26         2   \n",
       "4     157978  730.0  Ярославль      М   34       5      174.00         1   \n",
       "...      ...    ...        ...    ...  ...     ...         ...       ...   \n",
       "9995  120553  814.0    Рыбинск      М   27       1    78144.65         1   \n",
       "9996  139170  894.0  Ярославль      М   46       0         NaN         1   \n",
       "9997  115639  903.0  Ярославль      М   24       0         NaN         2   \n",
       "9998  148700  777.0  Ярославль      Ж   68       3   865457.97         3   \n",
       "9999   96267  828.0    Рыбинск      Ж   58       3  1180886.70         4   \n",
       "\n",
       "      credit_card  last_activity  EST_SALARY  churn  \n",
       "0               0              1    75719.14      1  \n",
       "1               1              0    86621.77      0  \n",
       "2               1              1   107683.34      0  \n",
       "3               0              1   174423.53      1  \n",
       "4               1              0    67353.16      1  \n",
       "...           ...            ...         ...    ...  \n",
       "9995            0              1    18943.64      0  \n",
       "9996            1              0   196898.29      0  \n",
       "9997            1              1   108905.09      0  \n",
       "9998            0              1    86874.90      0  \n",
       "9999            0              1    21422.37      0  \n",
       "\n",
       "[10000 rows x 12 columns]>"
      ]
     },
     "execution_count": 4,
     "metadata": {},
     "output_type": "execute_result"
    }
   ],
   "source": [
    "df.info"
   ]
  },
  {
   "cell_type": "code",
   "execution_count": 5,
   "id": "7aea18d6",
   "metadata": {},
   "outputs": [
    {
     "data": {
      "text/plain": [
       "USERID             int64\n",
       "score            float64\n",
       "city              object\n",
       "gender            object\n",
       "age                int64\n",
       "equity             int64\n",
       "balance          float64\n",
       "products           int64\n",
       "credit_card        int64\n",
       "last_activity      int64\n",
       "EST_SALARY       float64\n",
       "churn              int64\n",
       "dtype: object"
      ]
     },
     "execution_count": 5,
     "metadata": {},
     "output_type": "execute_result"
    }
   ],
   "source": [
    "df.dtypes"
   ]
  },
  {
   "cell_type": "markdown",
   "id": "1ac418ee",
   "metadata": {},
   "source": [
    "На первый взгляд видим следующее:  \n",
    "1) Названия столбцов в разном регистре  \n",
    "2) Надо заменить тип данных на числовой в балансе "
   ]
  },
  {
   "cell_type": "markdown",
   "id": "0ec95836",
   "metadata": {},
   "source": [
    "## 2. Предобработка данных "
   ]
  },
  {
   "cell_type": "markdown",
   "id": "a9fb2200",
   "metadata": {},
   "source": [
    "### 2.1 Приведём столбцы к нижнему регистру и переименуем"
   ]
  },
  {
   "cell_type": "code",
   "execution_count": 6,
   "id": "4c0f8ede",
   "metadata": {},
   "outputs": [
    {
     "data": {
      "text/plain": [
       "Index(['userid', 'score', 'city', 'gender', 'age', 'equity', 'balance',\n",
       "       'products', 'credit_card', 'last_activity', 'est_salary', 'churn'],\n",
       "      dtype='object')"
      ]
     },
     "execution_count": 6,
     "metadata": {},
     "output_type": "execute_result"
    }
   ],
   "source": [
    "df.columns = df.columns.str.lower()\n",
    "df.columns"
   ]
  },
  {
   "cell_type": "code",
   "execution_count": 7,
   "id": "18583bb5",
   "metadata": {},
   "outputs": [
    {
     "data": {
      "text/plain": [
       "Index(['user_id', 'score', 'city', 'gender', 'age', 'equity', 'balance',\n",
       "       'count_products', 'credit_card', 'last_activity', 'salary', 'churn'],\n",
       "      dtype='object')"
      ]
     },
     "execution_count": 7,
     "metadata": {},
     "output_type": "execute_result"
    }
   ],
   "source": [
    "df = df.rename(columns={'userid': 'user_id', 'est_salary': 'salary','products': 'count_products'})\n",
    "df.columns"
   ]
  },
  {
   "cell_type": "markdown",
   "id": "aafc0c50",
   "metadata": {},
   "source": [
    "Заменили названия для удобной работы."
   ]
  },
  {
   "cell_type": "markdown",
   "id": "375bde8a",
   "metadata": {},
   "source": [
    "### 2.2 Проверка на наличие пропусков и их обработка"
   ]
  },
  {
   "cell_type": "code",
   "execution_count": 8,
   "id": "76d59588",
   "metadata": {},
   "outputs": [
    {
     "data": {
      "text/plain": [
       "user_id              0\n",
       "score                0\n",
       "city                 0\n",
       "gender               0\n",
       "age                  0\n",
       "equity               0\n",
       "balance           2295\n",
       "count_products       0\n",
       "credit_card          0\n",
       "last_activity        0\n",
       "salary               0\n",
       "churn                0\n",
       "dtype: int64"
      ]
     },
     "execution_count": 8,
     "metadata": {},
     "output_type": "execute_result"
    }
   ],
   "source": [
    "df.isna().sum()"
   ]
  },
  {
   "cell_type": "markdown",
   "id": "0523aca4",
   "metadata": {},
   "source": [
    "Пропуски в балансе лучше не трогать, во избежании искажения дальнейших исследований.  \n",
    "Возможно, что частично - это пропуски в местах с нулевым балансом, а частично данные не обладают полнотой в связи с человеческим фактором."
   ]
  },
  {
   "cell_type": "code",
   "execution_count": 9,
   "id": "0d5bb71d",
   "metadata": {},
   "outputs": [
    {
     "data": {
      "text/html": [
       "<div>\n",
       "<style scoped>\n",
       "    .dataframe tbody tr th:only-of-type {\n",
       "        vertical-align: middle;\n",
       "    }\n",
       "\n",
       "    .dataframe tbody tr th {\n",
       "        vertical-align: top;\n",
       "    }\n",
       "\n",
       "    .dataframe thead th {\n",
       "        text-align: right;\n",
       "    }\n",
       "</style>\n",
       "<table border=\"1\" class=\"dataframe\">\n",
       "  <thead>\n",
       "    <tr style=\"text-align: right;\">\n",
       "      <th></th>\n",
       "      <th>user_id</th>\n",
       "      <th>score</th>\n",
       "      <th>city</th>\n",
       "      <th>gender</th>\n",
       "      <th>age</th>\n",
       "      <th>equity</th>\n",
       "      <th>balance</th>\n",
       "      <th>count_products</th>\n",
       "      <th>credit_card</th>\n",
       "      <th>last_activity</th>\n",
       "      <th>salary</th>\n",
       "      <th>churn</th>\n",
       "    </tr>\n",
       "  </thead>\n",
       "  <tbody>\n",
       "    <tr>\n",
       "      <th>2</th>\n",
       "      <td>120722</td>\n",
       "      <td>892.0</td>\n",
       "      <td>Рыбинск</td>\n",
       "      <td>Ж</td>\n",
       "      <td>30</td>\n",
       "      <td>0</td>\n",
       "      <td>NaN</td>\n",
       "      <td>1</td>\n",
       "      <td>1</td>\n",
       "      <td>1</td>\n",
       "      <td>107683.34</td>\n",
       "      <td>0</td>\n",
       "    </tr>\n",
       "    <tr>\n",
       "      <th>9</th>\n",
       "      <td>133130</td>\n",
       "      <td>906.0</td>\n",
       "      <td>Ярославль</td>\n",
       "      <td>Ж</td>\n",
       "      <td>67</td>\n",
       "      <td>0</td>\n",
       "      <td>NaN</td>\n",
       "      <td>1</td>\n",
       "      <td>0</td>\n",
       "      <td>1</td>\n",
       "      <td>238055.53</td>\n",
       "      <td>0</td>\n",
       "    </tr>\n",
       "    <tr>\n",
       "      <th>10</th>\n",
       "      <td>148929</td>\n",
       "      <td>927.0</td>\n",
       "      <td>Ростов</td>\n",
       "      <td>М</td>\n",
       "      <td>52</td>\n",
       "      <td>0</td>\n",
       "      <td>NaN</td>\n",
       "      <td>1</td>\n",
       "      <td>1</td>\n",
       "      <td>1</td>\n",
       "      <td>196820.07</td>\n",
       "      <td>0</td>\n",
       "    </tr>\n",
       "    <tr>\n",
       "      <th>11</th>\n",
       "      <td>172184</td>\n",
       "      <td>921.0</td>\n",
       "      <td>Ростов</td>\n",
       "      <td>М</td>\n",
       "      <td>41</td>\n",
       "      <td>0</td>\n",
       "      <td>NaN</td>\n",
       "      <td>1</td>\n",
       "      <td>1</td>\n",
       "      <td>1</td>\n",
       "      <td>217469.48</td>\n",
       "      <td>0</td>\n",
       "    </tr>\n",
       "    <tr>\n",
       "      <th>19</th>\n",
       "      <td>127034</td>\n",
       "      <td>922.0</td>\n",
       "      <td>Рыбинск</td>\n",
       "      <td>Ж</td>\n",
       "      <td>53</td>\n",
       "      <td>0</td>\n",
       "      <td>NaN</td>\n",
       "      <td>1</td>\n",
       "      <td>0</td>\n",
       "      <td>0</td>\n",
       "      <td>147094.82</td>\n",
       "      <td>0</td>\n",
       "    </tr>\n",
       "  </tbody>\n",
       "</table>\n",
       "</div>"
      ],
      "text/plain": [
       "    user_id  score       city gender  age  equity  balance  count_products  \\\n",
       "2    120722  892.0    Рыбинск      Ж   30       0      NaN               1   \n",
       "9    133130  906.0  Ярославль      Ж   67       0      NaN               1   \n",
       "10   148929  927.0     Ростов      М   52       0      NaN               1   \n",
       "11   172184  921.0     Ростов      М   41       0      NaN               1   \n",
       "19   127034  922.0    Рыбинск      Ж   53       0      NaN               1   \n",
       "\n",
       "    credit_card  last_activity     salary  churn  \n",
       "2             1              1  107683.34      0  \n",
       "9             0              1  238055.53      0  \n",
       "10            1              1  196820.07      0  \n",
       "11            1              1  217469.48      0  \n",
       "19            0              0  147094.82      0  "
      ]
     },
     "execution_count": 9,
     "metadata": {},
     "output_type": "execute_result"
    }
   ],
   "source": [
    "df[df['balance'].isnull()].head(5)"
   ]
  },
  {
   "cell_type": "code",
   "execution_count": 10,
   "id": "6dab38c2",
   "metadata": {},
   "outputs": [
    {
     "data": {
      "text/html": [
       "<div>\n",
       "<style scoped>\n",
       "    .dataframe tbody tr th:only-of-type {\n",
       "        vertical-align: middle;\n",
       "    }\n",
       "\n",
       "    .dataframe tbody tr th {\n",
       "        vertical-align: top;\n",
       "    }\n",
       "\n",
       "    .dataframe thead th {\n",
       "        text-align: right;\n",
       "    }\n",
       "</style>\n",
       "<table border=\"1\" class=\"dataframe\">\n",
       "  <thead>\n",
       "    <tr style=\"text-align: right;\">\n",
       "      <th></th>\n",
       "      <th>gender</th>\n",
       "      <th>user_id</th>\n",
       "    </tr>\n",
       "  </thead>\n",
       "  <tbody>\n",
       "    <tr>\n",
       "      <th>0</th>\n",
       "      <td>Ж</td>\n",
       "      <td>1012</td>\n",
       "    </tr>\n",
       "    <tr>\n",
       "      <th>1</th>\n",
       "      <td>М</td>\n",
       "      <td>1283</td>\n",
       "    </tr>\n",
       "  </tbody>\n",
       "</table>\n",
       "</div>"
      ],
      "text/plain": [
       "  gender  user_id\n",
       "0      Ж     1012\n",
       "1      М     1283"
      ]
     },
     "execution_count": 10,
     "metadata": {},
     "output_type": "execute_result"
    }
   ],
   "source": [
    "null_gender = df[df['balance'].isnull()]\\\n",
    ".groupby('gender')\\\n",
    ".agg({'user_id':'count'})\\\n",
    ".reset_index()\n",
    "\n",
    "null_gender"
   ]
  },
  {
   "cell_type": "code",
   "execution_count": 11,
   "id": "9951a8bd",
   "metadata": {},
   "outputs": [
    {
     "name": "stdout",
     "output_type": "stream",
     "text": [
      "Доля женщин с пропусками в балансе = 0.44\n",
      "Доля мужчин с пропусками в балансе = 0.56\n"
     ]
    }
   ],
   "source": [
    "print('Доля женщин с пропусками в балансе =', round(null_gender['user_id'][0] / null_gender['user_id'].sum(),2))\n",
    "print('Доля мужчин с пропусками в балансе =', round(null_gender['user_id'][1] / null_gender['user_id'].sum(),2))"
   ]
  },
  {
   "cell_type": "markdown",
   "id": "1de07f3c",
   "metadata": {},
   "source": [
    "Мужчин с пропусками больше, чем женщин, но аномальной такую разницу назвать сложно."
   ]
  },
  {
   "cell_type": "code",
   "execution_count": 12,
   "id": "baa545b9",
   "metadata": {},
   "outputs": [
    {
     "data": {
      "text/html": [
       "<div>\n",
       "<style scoped>\n",
       "    .dataframe tbody tr th:only-of-type {\n",
       "        vertical-align: middle;\n",
       "    }\n",
       "\n",
       "    .dataframe tbody tr th {\n",
       "        vertical-align: top;\n",
       "    }\n",
       "\n",
       "    .dataframe thead th {\n",
       "        text-align: right;\n",
       "    }\n",
       "</style>\n",
       "<table border=\"1\" class=\"dataframe\">\n",
       "  <thead>\n",
       "    <tr style=\"text-align: right;\">\n",
       "      <th></th>\n",
       "      <th>city</th>\n",
       "      <th>user_id</th>\n",
       "    </tr>\n",
       "  </thead>\n",
       "  <tbody>\n",
       "    <tr>\n",
       "      <th>0</th>\n",
       "      <td>Ростов</td>\n",
       "      <td>239</td>\n",
       "    </tr>\n",
       "    <tr>\n",
       "      <th>1</th>\n",
       "      <td>Рыбинск</td>\n",
       "      <td>578</td>\n",
       "    </tr>\n",
       "    <tr>\n",
       "      <th>2</th>\n",
       "      <td>Ярославль</td>\n",
       "      <td>1478</td>\n",
       "    </tr>\n",
       "  </tbody>\n",
       "</table>\n",
       "</div>"
      ],
      "text/plain": [
       "        city  user_id\n",
       "0     Ростов      239\n",
       "1    Рыбинск      578\n",
       "2  Ярославль     1478"
      ]
     },
     "execution_count": 12,
     "metadata": {},
     "output_type": "execute_result"
    }
   ],
   "source": [
    "null_city = df[df['balance'].isnull()]\\\n",
    ".groupby('city')\\\n",
    ".agg({'user_id':'count'})\\\n",
    ".reset_index()\n",
    "\n",
    "null_city"
   ]
  },
  {
   "cell_type": "markdown",
   "id": "489c1a99",
   "metadata": {},
   "source": [
    "Не пооружённым взглядом видно, что большинство пропусков в Ярославле.  \n",
    "Возможно именно у этого территориального банка произошёл какой-то сбой в системе и были предоставлены не полные данные."
   ]
  },
  {
   "cell_type": "code",
   "execution_count": 13,
   "id": "504e91df",
   "metadata": {},
   "outputs": [
    {
     "data": {
      "text/html": [
       "<div>\n",
       "<style scoped>\n",
       "    .dataframe tbody tr th:only-of-type {\n",
       "        vertical-align: middle;\n",
       "    }\n",
       "\n",
       "    .dataframe tbody tr th {\n",
       "        vertical-align: top;\n",
       "    }\n",
       "\n",
       "    .dataframe thead th {\n",
       "        text-align: right;\n",
       "    }\n",
       "</style>\n",
       "<table border=\"1\" class=\"dataframe\">\n",
       "  <thead>\n",
       "    <tr style=\"text-align: right;\">\n",
       "      <th></th>\n",
       "      <th>churn</th>\n",
       "      <th>user_id</th>\n",
       "    </tr>\n",
       "  </thead>\n",
       "  <tbody>\n",
       "    <tr>\n",
       "      <th>0</th>\n",
       "      <td>0</td>\n",
       "      <td>2282</td>\n",
       "    </tr>\n",
       "    <tr>\n",
       "      <th>1</th>\n",
       "      <td>1</td>\n",
       "      <td>13</td>\n",
       "    </tr>\n",
       "  </tbody>\n",
       "</table>\n",
       "</div>"
      ],
      "text/plain": [
       "   churn  user_id\n",
       "0      0     2282\n",
       "1      1       13"
      ]
     },
     "execution_count": 13,
     "metadata": {},
     "output_type": "execute_result"
    }
   ],
   "source": [
    "null_city = df[df['balance'].isnull()]\\\n",
    ".groupby(['churn'])\\\n",
    ".agg({'user_id':'count'})\\\n",
    ".reset_index()\n",
    "\n",
    "null_city"
   ]
  },
  {
   "cell_type": "markdown",
   "id": "4e8e3132",
   "metadata": {},
   "source": [
    "Судя по тому, что подавляющее большинство пропусков у действующих клиентов, можем предположить, что их формируют нулевые балансы клиентов."
   ]
  },
  {
   "cell_type": "code",
   "execution_count": 14,
   "id": "1f980815",
   "metadata": {},
   "outputs": [
    {
     "data": {
      "text/html": [
       "<div>\n",
       "<style scoped>\n",
       "    .dataframe tbody tr th:only-of-type {\n",
       "        vertical-align: middle;\n",
       "    }\n",
       "\n",
       "    .dataframe tbody tr th {\n",
       "        vertical-align: top;\n",
       "    }\n",
       "\n",
       "    .dataframe thead th {\n",
       "        text-align: right;\n",
       "    }\n",
       "</style>\n",
       "<table border=\"1\" class=\"dataframe\">\n",
       "  <thead>\n",
       "    <tr style=\"text-align: right;\">\n",
       "      <th></th>\n",
       "      <th>count_products</th>\n",
       "      <th>user_id</th>\n",
       "    </tr>\n",
       "  </thead>\n",
       "  <tbody>\n",
       "    <tr>\n",
       "      <th>0</th>\n",
       "      <td>0</td>\n",
       "      <td>1</td>\n",
       "    </tr>\n",
       "    <tr>\n",
       "      <th>1</th>\n",
       "      <td>1</td>\n",
       "      <td>1950</td>\n",
       "    </tr>\n",
       "    <tr>\n",
       "      <th>2</th>\n",
       "      <td>2</td>\n",
       "      <td>315</td>\n",
       "    </tr>\n",
       "    <tr>\n",
       "      <th>3</th>\n",
       "      <td>3</td>\n",
       "      <td>29</td>\n",
       "    </tr>\n",
       "  </tbody>\n",
       "</table>\n",
       "</div>"
      ],
      "text/plain": [
       "   count_products  user_id\n",
       "0               0        1\n",
       "1               1     1950\n",
       "2               2      315\n",
       "3               3       29"
      ]
     },
     "execution_count": 14,
     "metadata": {},
     "output_type": "execute_result"
    }
   ],
   "source": [
    "null_prod = df[df['balance'].isnull()]\\\n",
    ".groupby(['count_products'])\\\n",
    ".agg({'user_id':'count'})\\\n",
    ".reset_index()\n",
    "\n",
    "null_prod"
   ]
  },
  {
   "cell_type": "markdown",
   "id": "44c8cbd2",
   "metadata": {},
   "source": [
    "Большое количество пропусков у клиентов с одним продуктом косвенно подтверждает гипотезу о нулевом балансе. Клиент мог воспользоваться продуктом без его пополнения."
   ]
  },
  {
   "cell_type": "markdown",
   "id": "04ed74ac",
   "metadata": {},
   "source": [
    "### 2.3 Проверка на дубликаты и их отработка"
   ]
  },
  {
   "cell_type": "code",
   "execution_count": 15,
   "id": "0d6bcc6e",
   "metadata": {},
   "outputs": [
    {
     "data": {
      "text/plain": [
       "1"
      ]
     },
     "execution_count": 15,
     "metadata": {},
     "output_type": "execute_result"
    }
   ],
   "source": [
    "df.duplicated().sum()"
   ]
  },
  {
   "cell_type": "code",
   "execution_count": 16,
   "id": "3af49b1f",
   "metadata": {},
   "outputs": [
    {
     "data": {
      "text/plain": [
       "0"
      ]
     },
     "execution_count": 16,
     "metadata": {},
     "output_type": "execute_result"
    }
   ],
   "source": [
    "df=df.drop_duplicates()\n",
    "df.duplicated().sum()"
   ]
  },
  {
   "cell_type": "markdown",
   "id": "56fcda38",
   "metadata": {},
   "source": [
    "Удалили один найденный дубликат."
   ]
  },
  {
   "cell_type": "markdown",
   "id": "3ef3730e",
   "metadata": {},
   "source": [
    "### 2.4 Заменим тип данных для значения баланса на числовой"
   ]
  },
  {
   "cell_type": "code",
   "execution_count": 17,
   "id": "cfc7ecae",
   "metadata": {},
   "outputs": [
    {
     "data": {
      "text/plain": [
       "dtype('float64')"
      ]
     },
     "execution_count": 17,
     "metadata": {},
     "output_type": "execute_result"
    }
   ],
   "source": [
    "df['balance'] = df['balance'].astype('float')\n",
    "df['balance'].dtypes"
   ]
  },
  {
   "cell_type": "markdown",
   "id": "fe2568e5",
   "metadata": {},
   "source": [
    "Привели к нужному формату."
   ]
  },
  {
   "cell_type": "markdown",
   "id": "4477de33",
   "metadata": {},
   "source": [
    "### 2.5 Создадим категории по возрасту"
   ]
  },
  {
   "cell_type": "code",
   "execution_count": 18,
   "id": "69046ae5",
   "metadata": {},
   "outputs": [],
   "source": [
    "def age_cat(age):\n",
    "    if age >= 18 and age <= 29:\n",
    "        return '18-29'\n",
    "    if age >= 30 and age <= 36:\n",
    "        return '30-36'\n",
    "    if age >= 37 and age <= 45:\n",
    "        return '37-45'\n",
    "    if age >= 46 and age <= 55:\n",
    "        return '46-55'\n",
    "    if age >= 56 and age <= 65:\n",
    "        return '56-65'\n",
    "    if age > 65:\n",
    "        return '>65'\n",
    "\n",
    "df['age_category'] = df['age'].apply(age_cat)"
   ]
  },
  {
   "cell_type": "code",
   "execution_count": 19,
   "id": "13962b98",
   "metadata": {},
   "outputs": [
    {
     "data": {
      "text/html": [
       "<div>\n",
       "<style scoped>\n",
       "    .dataframe tbody tr th:only-of-type {\n",
       "        vertical-align: middle;\n",
       "    }\n",
       "\n",
       "    .dataframe tbody tr th {\n",
       "        vertical-align: top;\n",
       "    }\n",
       "\n",
       "    .dataframe thead th {\n",
       "        text-align: right;\n",
       "    }\n",
       "</style>\n",
       "<table border=\"1\" class=\"dataframe\">\n",
       "  <thead>\n",
       "    <tr style=\"text-align: right;\">\n",
       "      <th></th>\n",
       "      <th>user_id</th>\n",
       "      <th>score</th>\n",
       "      <th>city</th>\n",
       "      <th>gender</th>\n",
       "      <th>age</th>\n",
       "      <th>equity</th>\n",
       "      <th>balance</th>\n",
       "      <th>count_products</th>\n",
       "      <th>credit_card</th>\n",
       "      <th>last_activity</th>\n",
       "      <th>salary</th>\n",
       "      <th>churn</th>\n",
       "      <th>age_category</th>\n",
       "    </tr>\n",
       "  </thead>\n",
       "  <tbody>\n",
       "    <tr>\n",
       "      <th>0</th>\n",
       "      <td>183012</td>\n",
       "      <td>850.0</td>\n",
       "      <td>Рыбинск</td>\n",
       "      <td>Ж</td>\n",
       "      <td>25</td>\n",
       "      <td>1</td>\n",
       "      <td>59214.82</td>\n",
       "      <td>2</td>\n",
       "      <td>0</td>\n",
       "      <td>1</td>\n",
       "      <td>75719.14</td>\n",
       "      <td>1</td>\n",
       "      <td>18-29</td>\n",
       "    </tr>\n",
       "    <tr>\n",
       "      <th>1</th>\n",
       "      <td>146556</td>\n",
       "      <td>861.0</td>\n",
       "      <td>Рыбинск</td>\n",
       "      <td>Ж</td>\n",
       "      <td>37</td>\n",
       "      <td>5</td>\n",
       "      <td>850594.33</td>\n",
       "      <td>3</td>\n",
       "      <td>1</td>\n",
       "      <td>0</td>\n",
       "      <td>86621.77</td>\n",
       "      <td>0</td>\n",
       "      <td>37-45</td>\n",
       "    </tr>\n",
       "    <tr>\n",
       "      <th>2</th>\n",
       "      <td>120722</td>\n",
       "      <td>892.0</td>\n",
       "      <td>Рыбинск</td>\n",
       "      <td>Ж</td>\n",
       "      <td>30</td>\n",
       "      <td>0</td>\n",
       "      <td>NaN</td>\n",
       "      <td>1</td>\n",
       "      <td>1</td>\n",
       "      <td>1</td>\n",
       "      <td>107683.34</td>\n",
       "      <td>0</td>\n",
       "      <td>30-36</td>\n",
       "    </tr>\n",
       "  </tbody>\n",
       "</table>\n",
       "</div>"
      ],
      "text/plain": [
       "   user_id  score     city gender  age  equity    balance  count_products  \\\n",
       "0   183012  850.0  Рыбинск      Ж   25       1   59214.82               2   \n",
       "1   146556  861.0  Рыбинск      Ж   37       5  850594.33               3   \n",
       "2   120722  892.0  Рыбинск      Ж   30       0        NaN               1   \n",
       "\n",
       "   credit_card  last_activity     salary  churn age_category  \n",
       "0            0              1   75719.14      1        18-29  \n",
       "1            1              0   86621.77      0        37-45  \n",
       "2            1              1  107683.34      0        30-36  "
      ]
     },
     "execution_count": 19,
     "metadata": {},
     "output_type": "execute_result"
    }
   ],
   "source": [
    "df.head(3)"
   ]
  },
  {
   "cell_type": "markdown",
   "id": "90534bfc",
   "metadata": {},
   "source": [
    "Вывод:  \n",
    "Подготовили данные к работе. Пропуски решаем оставить во избежании искажения данных."
   ]
  },
  {
   "cell_type": "markdown",
   "id": "3e56ffa3",
   "metadata": {},
   "source": [
    "## 3. Исследовательский анализ данных"
   ]
  },
  {
   "cell_type": "markdown",
   "id": "492a9031",
   "metadata": {},
   "source": [
    "### 3.1 посмотрим на количество пользователей и отток по признакам."
   ]
  },
  {
   "cell_type": "code",
   "execution_count": 20,
   "id": "5e9524b6",
   "metadata": {},
   "outputs": [
    {
     "data": {
      "text/html": [
       "<div>\n",
       "<style scoped>\n",
       "    .dataframe tbody tr th:only-of-type {\n",
       "        vertical-align: middle;\n",
       "    }\n",
       "\n",
       "    .dataframe tbody tr th {\n",
       "        vertical-align: top;\n",
       "    }\n",
       "\n",
       "    .dataframe thead th {\n",
       "        text-align: right;\n",
       "    }\n",
       "</style>\n",
       "<table border=\"1\" class=\"dataframe\">\n",
       "  <thead>\n",
       "    <tr style=\"text-align: right;\">\n",
       "      <th></th>\n",
       "      <th></th>\n",
       "      <th>user_id</th>\n",
       "      <th>churn</th>\n",
       "    </tr>\n",
       "    <tr>\n",
       "      <th>city</th>\n",
       "      <th>gender</th>\n",
       "      <th></th>\n",
       "      <th></th>\n",
       "    </tr>\n",
       "  </thead>\n",
       "  <tbody>\n",
       "    <tr>\n",
       "      <th rowspan=\"2\" valign=\"top\">Ярославль</th>\n",
       "      <th>М</th>\n",
       "      <td>3014</td>\n",
       "      <td>0.235567</td>\n",
       "    </tr>\n",
       "    <tr>\n",
       "      <th>Ж</th>\n",
       "      <td>2891</td>\n",
       "      <td>0.142165</td>\n",
       "    </tr>\n",
       "    <tr>\n",
       "      <th rowspan=\"2\" valign=\"top\">Рыбинск</th>\n",
       "      <th>Ж</th>\n",
       "      <td>1357</td>\n",
       "      <td>0.099484</td>\n",
       "    </tr>\n",
       "    <tr>\n",
       "      <th>М</th>\n",
       "      <td>1306</td>\n",
       "      <td>0.227412</td>\n",
       "    </tr>\n",
       "    <tr>\n",
       "      <th rowspan=\"2\" valign=\"top\">Ростов</th>\n",
       "      <th>Ж</th>\n",
       "      <td>744</td>\n",
       "      <td>0.123656</td>\n",
       "    </tr>\n",
       "    <tr>\n",
       "      <th>М</th>\n",
       "      <td>687</td>\n",
       "      <td>0.257642</td>\n",
       "    </tr>\n",
       "  </tbody>\n",
       "</table>\n",
       "</div>"
      ],
      "text/plain": [
       "                  user_id     churn\n",
       "city      gender                   \n",
       "Ярославль М          3014  0.235567\n",
       "          Ж          2891  0.142165\n",
       "Рыбинск   Ж          1357  0.099484\n",
       "          М          1306  0.227412\n",
       "Ростов    Ж           744  0.123656\n",
       "          М           687  0.257642"
      ]
     },
     "execution_count": 20,
     "metadata": {},
     "output_type": "execute_result"
    }
   ],
   "source": [
    "df.groupby(['city','gender'])\\\n",
    ".agg({'user_id':'count', 'churn':'mean'})\\\n",
    ".sort_values(by='user_id', ascending=False)"
   ]
  },
  {
   "cell_type": "markdown",
   "id": "5f01aea8",
   "metadata": {},
   "source": [
    "После разбивки в разрезе городов и по гендернему признаку, стало понятно сдедующее:  \n",
    "1) Мужчины примерно в 2 раза чаще уходят в отток, чем женщины  \n",
    "2) Соотношение по количеству между полами сопоставимое  \n",
    "3) В Ярославле большая часть клиентов"
   ]
  },
  {
   "cell_type": "code",
   "execution_count": 21,
   "id": "c3e418f0",
   "metadata": {},
   "outputs": [
    {
     "data": {
      "text/html": [
       "<div>\n",
       "<style scoped>\n",
       "    .dataframe tbody tr th:only-of-type {\n",
       "        vertical-align: middle;\n",
       "    }\n",
       "\n",
       "    .dataframe tbody tr th {\n",
       "        vertical-align: top;\n",
       "    }\n",
       "\n",
       "    .dataframe thead th {\n",
       "        text-align: right;\n",
       "    }\n",
       "</style>\n",
       "<table border=\"1\" class=\"dataframe\">\n",
       "  <thead>\n",
       "    <tr style=\"text-align: right;\">\n",
       "      <th></th>\n",
       "      <th>user_id</th>\n",
       "      <th>churn</th>\n",
       "    </tr>\n",
       "    <tr>\n",
       "      <th>credit_card</th>\n",
       "      <th></th>\n",
       "      <th></th>\n",
       "    </tr>\n",
       "  </thead>\n",
       "  <tbody>\n",
       "    <tr>\n",
       "      <th>1</th>\n",
       "      <td>6803</td>\n",
       "      <td>0.147435</td>\n",
       "    </tr>\n",
       "    <tr>\n",
       "      <th>0</th>\n",
       "      <td>3196</td>\n",
       "      <td>0.256258</td>\n",
       "    </tr>\n",
       "  </tbody>\n",
       "</table>\n",
       "</div>"
      ],
      "text/plain": [
       "             user_id     churn\n",
       "credit_card                   \n",
       "1               6803  0.147435\n",
       "0               3196  0.256258"
      ]
     },
     "execution_count": 21,
     "metadata": {},
     "output_type": "execute_result"
    }
   ],
   "source": [
    "df.groupby('credit_card')\\\n",
    ".agg({'user_id':'count', 'churn':'mean'})\\\n",
    ".sort_values(by='user_id', ascending=False)"
   ]
  },
  {
   "cell_type": "markdown",
   "id": "88eb0927",
   "metadata": {},
   "source": [
    "Клиенты с кредитной картой почти в 2 раза реже уходят в отток. Скорее всего такой продукт действует как привязка к банку для постоянного гашения задолженности."
   ]
  },
  {
   "cell_type": "code",
   "execution_count": 22,
   "id": "8c2ad797",
   "metadata": {},
   "outputs": [
    {
     "data": {
      "text/html": [
       "<div>\n",
       "<style scoped>\n",
       "    .dataframe tbody tr th:only-of-type {\n",
       "        vertical-align: middle;\n",
       "    }\n",
       "\n",
       "    .dataframe tbody tr th {\n",
       "        vertical-align: top;\n",
       "    }\n",
       "\n",
       "    .dataframe thead th {\n",
       "        text-align: right;\n",
       "    }\n",
       "</style>\n",
       "<table border=\"1\" class=\"dataframe\">\n",
       "  <thead>\n",
       "    <tr style=\"text-align: right;\">\n",
       "      <th></th>\n",
       "      <th>user_id</th>\n",
       "      <th>churn</th>\n",
       "    </tr>\n",
       "    <tr>\n",
       "      <th>equity</th>\n",
       "      <th></th>\n",
       "      <th></th>\n",
       "    </tr>\n",
       "  </thead>\n",
       "  <tbody>\n",
       "    <tr>\n",
       "      <th>0</th>\n",
       "      <td>2591</td>\n",
       "      <td>0.034736</td>\n",
       "    </tr>\n",
       "    <tr>\n",
       "      <th>5</th>\n",
       "      <td>1918</td>\n",
       "      <td>0.300834</td>\n",
       "    </tr>\n",
       "    <tr>\n",
       "      <th>4</th>\n",
       "      <td>1850</td>\n",
       "      <td>0.251351</td>\n",
       "    </tr>\n",
       "    <tr>\n",
       "      <th>3</th>\n",
       "      <td>1543</td>\n",
       "      <td>0.209332</td>\n",
       "    </tr>\n",
       "    <tr>\n",
       "      <th>2</th>\n",
       "      <td>1052</td>\n",
       "      <td>0.157795</td>\n",
       "    </tr>\n",
       "    <tr>\n",
       "      <th>1</th>\n",
       "      <td>774</td>\n",
       "      <td>0.120155</td>\n",
       "    </tr>\n",
       "    <tr>\n",
       "      <th>6</th>\n",
       "      <td>161</td>\n",
       "      <td>0.360248</td>\n",
       "    </tr>\n",
       "    <tr>\n",
       "      <th>7</th>\n",
       "      <td>80</td>\n",
       "      <td>0.462500</td>\n",
       "    </tr>\n",
       "    <tr>\n",
       "      <th>8</th>\n",
       "      <td>17</td>\n",
       "      <td>0.352941</td>\n",
       "    </tr>\n",
       "    <tr>\n",
       "      <th>9</th>\n",
       "      <td>13</td>\n",
       "      <td>0.538462</td>\n",
       "    </tr>\n",
       "  </tbody>\n",
       "</table>\n",
       "</div>"
      ],
      "text/plain": [
       "        user_id     churn\n",
       "equity                   \n",
       "0          2591  0.034736\n",
       "5          1918  0.300834\n",
       "4          1850  0.251351\n",
       "3          1543  0.209332\n",
       "2          1052  0.157795\n",
       "1           774  0.120155\n",
       "6           161  0.360248\n",
       "7            80  0.462500\n",
       "8            17  0.352941\n",
       "9            13  0.538462"
      ]
     },
     "execution_count": 22,
     "metadata": {},
     "output_type": "execute_result"
    }
   ],
   "source": [
    "df.groupby('equity')\\\n",
    ".agg({'user_id':'count', 'churn':'mean'})\\\n",
    ".sort_values(by='user_id', ascending=False)"
   ]
  },
  {
   "cell_type": "markdown",
   "id": "aee15c32",
   "metadata": {},
   "source": [
    "Прослеживается тенденция к оттоку с увеличением объектов собственности. Видимо необходиость пользоваться продуктами банка, часто отпадает у тех, кто уже обзавёлся квартирами, машинами и т.д."
   ]
  },
  {
   "cell_type": "code",
   "execution_count": 23,
   "id": "17499010",
   "metadata": {},
   "outputs": [
    {
     "data": {
      "text/html": [
       "<div>\n",
       "<style scoped>\n",
       "    .dataframe tbody tr th:only-of-type {\n",
       "        vertical-align: middle;\n",
       "    }\n",
       "\n",
       "    .dataframe tbody tr th {\n",
       "        vertical-align: top;\n",
       "    }\n",
       "\n",
       "    .dataframe thead th {\n",
       "        text-align: right;\n",
       "    }\n",
       "</style>\n",
       "<table border=\"1\" class=\"dataframe\">\n",
       "  <thead>\n",
       "    <tr style=\"text-align: right;\">\n",
       "      <th></th>\n",
       "      <th>user_id</th>\n",
       "      <th>churn</th>\n",
       "    </tr>\n",
       "    <tr>\n",
       "      <th>count_products</th>\n",
       "      <th></th>\n",
       "      <th></th>\n",
       "    </tr>\n",
       "  </thead>\n",
       "  <tbody>\n",
       "    <tr>\n",
       "      <th>2</th>\n",
       "      <td>5108</td>\n",
       "      <td>0.191660</td>\n",
       "    </tr>\n",
       "    <tr>\n",
       "      <th>1</th>\n",
       "      <td>3340</td>\n",
       "      <td>0.070359</td>\n",
       "    </tr>\n",
       "    <tr>\n",
       "      <th>3</th>\n",
       "      <td>1046</td>\n",
       "      <td>0.284895</td>\n",
       "    </tr>\n",
       "    <tr>\n",
       "      <th>4</th>\n",
       "      <td>474</td>\n",
       "      <td>0.632911</td>\n",
       "    </tr>\n",
       "    <tr>\n",
       "      <th>5</th>\n",
       "      <td>30</td>\n",
       "      <td>0.300000</td>\n",
       "    </tr>\n",
       "    <tr>\n",
       "      <th>0</th>\n",
       "      <td>1</td>\n",
       "      <td>1.000000</td>\n",
       "    </tr>\n",
       "  </tbody>\n",
       "</table>\n",
       "</div>"
      ],
      "text/plain": [
       "                user_id     churn\n",
       "count_products                   \n",
       "2                  5108  0.191660\n",
       "1                  3340  0.070359\n",
       "3                  1046  0.284895\n",
       "4                   474  0.632911\n",
       "5                    30  0.300000\n",
       "0                     1  1.000000"
      ]
     },
     "execution_count": 23,
     "metadata": {},
     "output_type": "execute_result"
    }
   ],
   "source": [
    "df.groupby('count_products')\\\n",
    ".agg({'user_id':'count', 'churn':'mean'})\\\n",
    ".sort_values(by='user_id', ascending=False)"
   ]
  },
  {
   "cell_type": "markdown",
   "id": "df3155a7",
   "metadata": {},
   "source": [
    "Чем больше продуктов - тем чаще клиенты уходят в отток."
   ]
  },
  {
   "cell_type": "code",
   "execution_count": 24,
   "id": "8233b2ad",
   "metadata": {
    "scrolled": true
   },
   "outputs": [],
   "source": [
    "def plots(data, hue):\n",
    "    for column in ['city','gender', 'credit_card', 'equity', 'count_products']:\n",
    "        sns.countplot(data=data, x=column, hue=hue, order=df[column].value_counts().index)\n",
    "        sns.set(rc={'figure.figsize':(10,5)})\n",
    "        plt.title(f'Распределение по {column}', fontsize = 10)\n",
    "        plt.show()"
   ]
  },
  {
   "cell_type": "code",
   "execution_count": 42,
   "id": "7ba69cd6",
   "metadata": {},
   "outputs": [
    {
     "data": {
      "image/png": "[encoded data removed]",
      "text/plain": [
       "<Figure size 720x360 with 1 Axes>"
      ]
     },
     "metadata": {},
     "output_type": "display_data"
    },
    {
     "data": {
      "image/png": "[encoded data removed]",
      "text/plain": [
       "<Figure size 720x360 with 1 Axes>"
      ]
     },
     "metadata": {},
     "output_type": "display_data"
    },
    {
     "data": {
      "image/png": "[encoded data removed]",
      "text/plain": [
       "<Figure size 720x360 with 1 Axes>"
      ]
     },
     "metadata": {},
     "output_type": "display_data"
    },
    {
     "data": {
      "image/png": "[encoded data removed]",
      "text/plain": [
       "<Figure size 720x360 with 1 Axes>"
      ]
     },
     "metadata": {},
     "output_type": "display_data"
    },
    {
     "data": {
      "image/png": "[encoded data removed]",
      "text/plain": [
       "<Figure size 720x360 with 1 Axes>"
      ]
     },
     "metadata": {},
     "output_type": "display_data"
    }
   ],
   "source": [
    "plots(df, df['churn'])"
   ]
  },
  {
   "cell_type": "markdown",
   "id": "50e133c5",
   "metadata": {},
   "source": [
    "Выводы:  \n",
    "- чем больше продуктов - тем чаще клиенты уходят в отток  \n",
    "- прослеживается тенденция к оттоку с увеличением объектов собственности  \n",
    "- мужчины примерно в 2 раза чаще уходят в отток, чем женщины  \n",
    "- соотношение по количеству клиентов между полами сопоставимое "
   ]
  },
  {
   "cell_type": "markdown",
   "id": "4ae5da12",
   "metadata": {},
   "source": [
    "### 3.2 Оценим остатки на балансе для действующих и бывших клиентов."
   ]
  },
  {
   "cell_type": "code",
   "execution_count": 26,
   "id": "e890b45a",
   "metadata": {},
   "outputs": [
    {
     "name": "stdout",
     "output_type": "stream",
     "text": [
      "Доля баланса действующих клиентов: 0.68\n",
      "Доля баланса ушедших клиентов: 0.32\n"
     ]
    }
   ],
   "source": [
    "gender_df = df.groupby(['churn'])\\\n",
    ".agg({'balance':'sum'})\\\n",
    ".reset_index()\n",
    "total = gender_df['balance'].sum()\n",
    "\n",
    "print('Доля баланса действующих клиентов:', round(gender_df['balance'][0] / total, 2))\n",
    "print('Доля баланса ушедших клиентов:', round(gender_df['balance'][1] / total, 2))"
   ]
  },
  {
   "cell_type": "code",
   "execution_count": 27,
   "id": "0b92871c",
   "metadata": {},
   "outputs": [
    {
     "data": {
      "image/png": "[encoded data removed]",
      "text/plain": [
       "<Figure size 720x360 with 1 Axes>"
      ]
     },
     "metadata": {},
     "output_type": "display_data"
    }
   ],
   "source": [
    "fig1 = df.groupby('churn')\\\n",
    ".agg({'balance':'sum'})\\\n",
    ".plot(kind='pie', subplots=True)\n",
    "plt.title('Баланс по действующим и отточным')\n",
    "\n",
    "plt.show()"
   ]
  },
  {
   "cell_type": "markdown",
   "id": "2e041133",
   "metadata": {},
   "source": [
    "Остатки на счетах действующих клиентов превышают более, чем в 2 раза."
   ]
  },
  {
   "cell_type": "markdown",
   "id": "d2bde806",
   "metadata": {},
   "source": [
    "### 3.3 Обратим внимание на средний возраст клиентов, которые сформировали отток."
   ]
  },
  {
   "cell_type": "code",
   "execution_count": 28,
   "id": "55a1fcaa",
   "metadata": {},
   "outputs": [
    {
     "data": {
      "text/html": [
       "<div>\n",
       "<style scoped>\n",
       "    .dataframe tbody tr th:only-of-type {\n",
       "        vertical-align: middle;\n",
       "    }\n",
       "\n",
       "    .dataframe tbody tr th {\n",
       "        vertical-align: top;\n",
       "    }\n",
       "\n",
       "    .dataframe thead th {\n",
       "        text-align: right;\n",
       "    }\n",
       "</style>\n",
       "<table border=\"1\" class=\"dataframe\">\n",
       "  <thead>\n",
       "    <tr style=\"text-align: right;\">\n",
       "      <th></th>\n",
       "      <th>age</th>\n",
       "    </tr>\n",
       "    <tr>\n",
       "      <th>gender</th>\n",
       "      <th></th>\n",
       "    </tr>\n",
       "  </thead>\n",
       "  <tbody>\n",
       "    <tr>\n",
       "      <th>Ж</th>\n",
       "      <td>45.571114</td>\n",
       "    </tr>\n",
       "    <tr>\n",
       "      <th>М</th>\n",
       "      <td>40.113241</td>\n",
       "    </tr>\n",
       "  </tbody>\n",
       "</table>\n",
       "</div>"
      ],
      "text/plain": [
       "              age\n",
       "gender           \n",
       "Ж       45.571114\n",
       "М       40.113241"
      ]
     },
     "execution_count": 28,
     "metadata": {},
     "output_type": "execute_result"
    }
   ],
   "source": [
    "df.pivot_table(index='gender', values='age', aggfunc='mean')"
   ]
  },
  {
   "cell_type": "markdown",
   "id": "232af596",
   "metadata": {},
   "source": [
    "От 40 до 46 лет наибольшее количество покинувших банк."
   ]
  },
  {
   "cell_type": "markdown",
   "id": "6d083774",
   "metadata": {},
   "source": [
    "### 3.4 Построим матрицу корреляции показателей."
   ]
  },
  {
   "cell_type": "code",
   "execution_count": 29,
   "id": "b650dc77",
   "metadata": {},
   "outputs": [
    {
     "data": {
      "image/png": "[encoded data removed]",
      "text/plain": [
       "<Figure size 720x720 with 2 Axes>"
      ]
     },
     "metadata": {},
     "output_type": "display_data"
    }
   ],
   "source": [
    "df_corr = df.corr()\n",
    "\n",
    "plt.figure(figsize=(10,10))\n",
    "sns.heatmap(df_corr, annot=True, square=True)\n",
    "\n",
    "plt.show()"
   ]
  },
  {
   "cell_type": "markdown",
   "id": "5cc48c1a",
   "metadata": {},
   "source": [
    "Сильная корреляция между:  \n",
    "- Кредитными картами и количеством продуктов  \n",
    "- Колисетвом предметов залога и количеством продуктов  \n",
    "- Зарплатой и балансом  \n",
    "- Предметами залога и оттоком"
   ]
  },
  {
   "cell_type": "markdown",
   "id": "646bf93d",
   "metadata": {},
   "source": [
    "Выводы:  \n",
    "- чем больше продуктов - тем чаще клиенты уходят в отток  \n",
    "- прослеживается тенденция к оттоку с увеличением объектов собственности  \n",
    "- мужчины примерно в 2 раза чаще уходят в отток, чем женщины  \n",
    "- соотношение по количеству клиентов между полами сопоставимое \n",
    "- максимальная корреляция между показателями всего 0.43 между количеством продуктов и предметов собственности.  \n",
    "- отток формируют в основном люди средних лет от 40 до 46 лет и чаще мужчины."
   ]
  },
  {
   "cell_type": "markdown",
   "id": "af5b7412",
   "metadata": {},
   "source": [
    "## 4. Сегментация клиентов"
   ]
  },
  {
   "cell_type": "markdown",
   "id": "826d9a18",
   "metadata": {},
   "source": [
    "### 4.1 Узнаем долю  клиентов в разбивке по количеству продуктов "
   ]
  },
  {
   "cell_type": "code",
   "execution_count": 30,
   "id": "b28d6204",
   "metadata": {},
   "outputs": [
    {
     "data": {
      "text/plain": [
       "array([2, 3, 1, 4, 5, 0])"
      ]
     },
     "execution_count": 30,
     "metadata": {},
     "output_type": "execute_result"
    }
   ],
   "source": [
    "df['count_products'].unique()"
   ]
  },
  {
   "cell_type": "code",
   "execution_count": 31,
   "id": "b1b7bc17",
   "metadata": {},
   "outputs": [
    {
     "data": {
      "text/html": [
       "<div>\n",
       "<style scoped>\n",
       "    .dataframe tbody tr th:only-of-type {\n",
       "        vertical-align: middle;\n",
       "    }\n",
       "\n",
       "    .dataframe tbody tr th {\n",
       "        vertical-align: top;\n",
       "    }\n",
       "\n",
       "    .dataframe thead th {\n",
       "        text-align: right;\n",
       "    }\n",
       "</style>\n",
       "<table border=\"1\" class=\"dataframe\">\n",
       "  <thead>\n",
       "    <tr style=\"text-align: right;\">\n",
       "      <th></th>\n",
       "      <th>user_id</th>\n",
       "    </tr>\n",
       "    <tr>\n",
       "      <th>count_products</th>\n",
       "      <th></th>\n",
       "    </tr>\n",
       "  </thead>\n",
       "  <tbody>\n",
       "    <tr>\n",
       "      <th>0</th>\n",
       "      <td>1</td>\n",
       "    </tr>\n",
       "    <tr>\n",
       "      <th>1</th>\n",
       "      <td>3327</td>\n",
       "    </tr>\n",
       "    <tr>\n",
       "      <th>2</th>\n",
       "      <td>5096</td>\n",
       "    </tr>\n",
       "    <tr>\n",
       "      <th>3</th>\n",
       "      <td>1046</td>\n",
       "    </tr>\n",
       "    <tr>\n",
       "      <th>4</th>\n",
       "      <td>474</td>\n",
       "    </tr>\n",
       "    <tr>\n",
       "      <th>5</th>\n",
       "      <td>30</td>\n",
       "    </tr>\n",
       "  </tbody>\n",
       "</table>\n",
       "</div>"
      ],
      "text/plain": [
       "                user_id\n",
       "count_products         \n",
       "0                     1\n",
       "1                  3327\n",
       "2                  5096\n",
       "3                  1046\n",
       "4                   474\n",
       "5                    30"
      ]
     },
     "execution_count": 31,
     "metadata": {},
     "output_type": "execute_result"
    }
   ],
   "source": [
    "df.groupby('count_products')\\\n",
    ".agg({'user_id':'nunique'})"
   ]
  },
  {
   "cell_type": "markdown",
   "id": "e247c234",
   "metadata": {},
   "source": [
    "Исключим из дальнейшего анализа клиента с 0 и 5 продуктами. Можем считать выбросом 31 клиента из 10 000."
   ]
  },
  {
   "cell_type": "code",
   "execution_count": 32,
   "id": "fb9e115d",
   "metadata": {},
   "outputs": [
    {
     "data": {
      "text/plain": [
       "array([2, 3, 1, 4])"
      ]
     },
     "execution_count": 32,
     "metadata": {},
     "output_type": "execute_result"
    }
   ],
   "source": [
    "df = df.query('count_products != 0 & count_products != 5')\n",
    "df['count_products'].unique()"
   ]
  },
  {
   "cell_type": "code",
   "execution_count": 33,
   "id": "e535665e",
   "metadata": {},
   "outputs": [
    {
     "data": {
      "image/png": "[encoded data removed]",
      "text/plain": [
       "<Figure size 720x360 with 1 Axes>"
      ]
     },
     "metadata": {},
     "output_type": "display_data"
    }
   ],
   "source": [
    "fig1 = df.groupby('count_products')\\\n",
    ".agg({'user_id':'nunique'})\\\n",
    ".plot(kind='pie', subplots=True)\n",
    "plt.title('Продукты по количеству клиентов')\n",
    "\n",
    "plt.show()"
   ]
  },
  {
   "cell_type": "markdown",
   "id": "d99741f1",
   "metadata": {},
   "source": [
    "Большинство клиентом пользуется 2-мя продуктами банка и совсем немногие обзавелись 4-мя."
   ]
  },
  {
   "cell_type": "markdown",
   "id": "8d23a35e",
   "metadata": {},
   "source": [
    "### 4.2 Посмотрим на количество пользователей по продуктам с учётом признаков"
   ]
  },
  {
   "cell_type": "code",
   "execution_count": 34,
   "id": "1648a1ad",
   "metadata": {
    "scrolled": true
   },
   "outputs": [],
   "source": [
    "def plots(data, hue):\n",
    "    for column in ['city','gender', 'credit_card', 'equity', 'age_category']:\n",
    "        sns.countplot(data=data, x=column, hue=hue, order=df[column].value_counts().index)\n",
    "        sns.set(rc={'figure.figsize':(10,5)})\n",
    "        plt.title(f'Распределение по {column}', fontsize = 10)\n",
    "        plt.show()"
   ]
  },
  {
   "cell_type": "code",
   "execution_count": 35,
   "id": "f9f1341b",
   "metadata": {},
   "outputs": [
    {
     "data": {
      "image/png": "[encoded data removed]",
      "text/plain": [
       "<Figure size 720x360 with 1 Axes>"
      ]
     },
     "metadata": {},
     "output_type": "display_data"
    },
    {
     "data": {
      "image/png": "[encoded data removed]",
      "text/plain": [
       "<Figure size 720x360 with 1 Axes>"
      ]
     },
     "metadata": {},
     "output_type": "display_data"
    },
    {
     "data": {
      "image/png": "[encoded data removed]",
      "text/plain": [
       "<Figure size 720x360 with 1 Axes>"
      ]
     },
     "metadata": {},
     "output_type": "display_data"
    },
    {
     "data": {
      "image/png": "[encoded data removed]",
      "text/plain": [
       "<Figure size 720x360 with 1 Axes>"
      ]
     },
     "metadata": {},
     "output_type": "display_data"
    },
    {
     "data": {
      "image/png": "[encoded data removed]",
      "text/plain": [
       "<Figure size 720x360 with 1 Axes>"
      ]
     },
     "metadata": {},
     "output_type": "display_data"
    }
   ],
   "source": [
    "plots(df, df['count_products'])"
   ]
  },
  {
   "cell_type": "markdown",
   "id": "a9114b3a",
   "metadata": {},
   "source": [
    "### 4.3 Разделим пользователей по сегментам"
   ]
  },
  {
   "cell_type": "markdown",
   "id": "a7c63366",
   "metadata": {},
   "source": [
    "Разделим пользователей по сегментам в зависимости от количества продуктов.   "
   ]
  },
  {
   "cell_type": "code",
   "execution_count": 36,
   "id": "f3e28ca5",
   "metadata": {},
   "outputs": [
    {
     "data": {
      "text/html": [
       "<div>\n",
       "<style scoped>\n",
       "    .dataframe tbody tr th:only-of-type {\n",
       "        vertical-align: middle;\n",
       "    }\n",
       "\n",
       "    .dataframe tbody tr th {\n",
       "        vertical-align: top;\n",
       "    }\n",
       "\n",
       "    .dataframe thead th {\n",
       "        text-align: right;\n",
       "    }\n",
       "</style>\n",
       "<table border=\"1\" class=\"dataframe\">\n",
       "  <thead>\n",
       "    <tr style=\"text-align: right;\">\n",
       "      <th></th>\n",
       "      <th></th>\n",
       "      <th>user_id</th>\n",
       "      <th>churn</th>\n",
       "    </tr>\n",
       "    <tr>\n",
       "      <th>count_products</th>\n",
       "      <th>gender</th>\n",
       "      <th></th>\n",
       "      <th></th>\n",
       "    </tr>\n",
       "  </thead>\n",
       "  <tbody>\n",
       "    <tr>\n",
       "      <th rowspan=\"2\" valign=\"top\">2</th>\n",
       "      <th>Ж</th>\n",
       "      <td>2666</td>\n",
       "      <td>0.128282</td>\n",
       "    </tr>\n",
       "    <tr>\n",
       "      <th>М</th>\n",
       "      <td>2442</td>\n",
       "      <td>0.260852</td>\n",
       "    </tr>\n",
       "    <tr>\n",
       "      <th rowspan=\"2\" valign=\"top\">1</th>\n",
       "      <th>М</th>\n",
       "      <td>1807</td>\n",
       "      <td>0.094632</td>\n",
       "    </tr>\n",
       "    <tr>\n",
       "      <th>Ж</th>\n",
       "      <td>1533</td>\n",
       "      <td>0.041748</td>\n",
       "    </tr>\n",
       "    <tr>\n",
       "      <th rowspan=\"2\" valign=\"top\">3</th>\n",
       "      <th>Ж</th>\n",
       "      <td>599</td>\n",
       "      <td>0.212020</td>\n",
       "    </tr>\n",
       "    <tr>\n",
       "      <th>М</th>\n",
       "      <td>447</td>\n",
       "      <td>0.382550</td>\n",
       "    </tr>\n",
       "    <tr>\n",
       "      <th rowspan=\"2\" valign=\"top\">4</th>\n",
       "      <th>М</th>\n",
       "      <td>296</td>\n",
       "      <td>0.675676</td>\n",
       "    </tr>\n",
       "    <tr>\n",
       "      <th>Ж</th>\n",
       "      <td>178</td>\n",
       "      <td>0.561798</td>\n",
       "    </tr>\n",
       "  </tbody>\n",
       "</table>\n",
       "</div>"
      ],
      "text/plain": [
       "                       user_id     churn\n",
       "count_products gender                   \n",
       "2              Ж          2666  0.128282\n",
       "               М          2442  0.260852\n",
       "1              М          1807  0.094632\n",
       "               Ж          1533  0.041748\n",
       "3              Ж           599  0.212020\n",
       "               М           447  0.382550\n",
       "4              М           296  0.675676\n",
       "               Ж           178  0.561798"
      ]
     },
     "execution_count": 36,
     "metadata": {},
     "output_type": "execute_result"
    }
   ],
   "source": [
    "df.groupby(['count_products','gender'])\\\n",
    ".agg({'user_id':'count', 'churn':'mean'})\\\n",
    ".sort_values(by='user_id', ascending=False)"
   ]
  },
  {
   "cell_type": "code",
   "execution_count": 37,
   "id": "2d03d5b8",
   "metadata": {},
   "outputs": [
    {
     "data": {
      "text/html": [
       "<div>\n",
       "<style scoped>\n",
       "    .dataframe tbody tr th:only-of-type {\n",
       "        vertical-align: middle;\n",
       "    }\n",
       "\n",
       "    .dataframe tbody tr th {\n",
       "        vertical-align: top;\n",
       "    }\n",
       "\n",
       "    .dataframe thead th {\n",
       "        text-align: right;\n",
       "    }\n",
       "</style>\n",
       "<table border=\"1\" class=\"dataframe\">\n",
       "  <thead>\n",
       "    <tr style=\"text-align: right;\">\n",
       "      <th>count_products</th>\n",
       "      <th>1</th>\n",
       "      <th>2</th>\n",
       "      <th>3</th>\n",
       "      <th>4</th>\n",
       "    </tr>\n",
       "    <tr>\n",
       "      <th>age_category</th>\n",
       "      <th></th>\n",
       "      <th></th>\n",
       "      <th></th>\n",
       "      <th></th>\n",
       "    </tr>\n",
       "  </thead>\n",
       "  <tbody>\n",
       "    <tr>\n",
       "      <th>18-29</th>\n",
       "      <td>382</td>\n",
       "      <td>546</td>\n",
       "      <td>89</td>\n",
       "      <td>57</td>\n",
       "    </tr>\n",
       "    <tr>\n",
       "      <th>30-36</th>\n",
       "      <td>925</td>\n",
       "      <td>1289</td>\n",
       "      <td>226</td>\n",
       "      <td>151</td>\n",
       "    </tr>\n",
       "    <tr>\n",
       "      <th>37-45</th>\n",
       "      <td>981</td>\n",
       "      <td>1388</td>\n",
       "      <td>268</td>\n",
       "      <td>139</td>\n",
       "    </tr>\n",
       "    <tr>\n",
       "      <th>46-55</th>\n",
       "      <td>558</td>\n",
       "      <td>893</td>\n",
       "      <td>181</td>\n",
       "      <td>83</td>\n",
       "    </tr>\n",
       "    <tr>\n",
       "      <th>56-65</th>\n",
       "      <td>356</td>\n",
       "      <td>742</td>\n",
       "      <td>180</td>\n",
       "      <td>43</td>\n",
       "    </tr>\n",
       "    <tr>\n",
       "      <th>&gt;65</th>\n",
       "      <td>138</td>\n",
       "      <td>250</td>\n",
       "      <td>102</td>\n",
       "      <td>1</td>\n",
       "    </tr>\n",
       "  </tbody>\n",
       "</table>\n",
       "</div>"
      ],
      "text/plain": [
       "count_products    1     2    3    4\n",
       "age_category                       \n",
       "18-29           382   546   89   57\n",
       "30-36           925  1289  226  151\n",
       "37-45           981  1388  268  139\n",
       "46-55           558   893  181   83\n",
       "56-65           356   742  180   43\n",
       ">65             138   250  102    1"
      ]
     },
     "execution_count": 37,
     "metadata": {},
     "output_type": "execute_result"
    }
   ],
   "source": [
    "df.pivot_table(index='age_category', columns='count_products', values='user_id', aggfunc='count')"
   ]
  },
  {
   "cell_type": "code",
   "execution_count": 38,
   "id": "6ff6313a",
   "metadata": {
    "scrolled": true
   },
   "outputs": [],
   "source": [
    "def boxplots():\n",
    "    for column in ['age', 'equity', 'score', 'salary']:\n",
    "        sns.boxplot(x = 'count_products', y = df[column], data = df).set(\n",
    "        title=(f'Распределение {column} по продуктам'))\n",
    "        plt.show()"
   ]
  },
  {
   "cell_type": "code",
   "execution_count": 39,
   "id": "8c943451",
   "metadata": {},
   "outputs": [
    {
     "data": {
      "image/png": "[encoded data removed]",
      "text/plain": [
       "<Figure size 720x360 with 1 Axes>"
      ]
     },
     "metadata": {},
     "output_type": "display_data"
    },
    {
     "data": {
      "image/png": "[encoded data removed]",
      "text/plain": [
       "<Figure size 720x360 with 1 Axes>"
      ]
     },
     "metadata": {},
     "output_type": "display_data"
    },
    {
     "data": {
      "image/png": "[encoded data removed]",
      "text/plain": [
       "<Figure size 720x360 with 1 Axes>"
      ]
     },
     "metadata": {},
     "output_type": "display_data"
    },
    {
     "data": {
      "image/png": "[encoded data removed]",
      "text/plain": [
       "<Figure size 720x360 with 1 Axes>"
      ]
     },
     "metadata": {},
     "output_type": "display_data"
    }
   ],
   "source": [
    "boxplots()"
   ]
  },
  {
   "cell_type": "markdown",
   "id": "ed637d69",
   "metadata": {},
   "source": [
    "Можем увидеть, что в 3-ю категорию попадают более возрастные клиенты. Однако в 1-ой наибольшее количество выбросов. Возможно - это связано с тем, что пенсионеры редко используют что либо кроме обычной карты. Ожидаемо наибольшие медианные значения среди клиентов с 3 и 4 продуктами. Именно этим клиентам банк больше доверяет, так как у них есть достаточное залоговое обеспечение."
   ]
  },
  {
   "cell_type": "markdown",
   "id": "0cb5568b",
   "metadata": {},
   "source": [
    "Описание сегментов:  \n",
    "- сегмент 1. Чаще мужчина, чем женщина, среднего возраста (от 37 до 45). Характеризуется достаточно высоким уровнем медианной зарплаты и хорошим скоринговым баллом. Так же по этому сегменту наименьший показатель объектов в собственности. Такие клиенты для банка высокопотенциальные и ещё многим не успели воспользоваться.  \n",
    "- сегмент 2. Чаще женщина, чем мужчина, среднего возраста (от 37 до 45). Эта группа самая многочисленная и занимает 2-ое место по соотношению клиентов, ушедших в отток, после 1-ой группы. Медианная зарпалата на уровне со 3-ей и 4-ой группы и ниже 1-ой, но с больших количеством аномально больших значений. Клиенты данной категории уже обзавелись объектами собственности, можно предположить, что за счёт приобретений на кредитные средства банка.  \n",
    "- сегмент 3. Женщин  более, чем на 20% больше чем мужчин. Уровень среднего скорингового балла ниже, чем в предыдущих двух группах. Есть негативная тенденция к большему оттоку пользователей. Однако положительная динамика прослеживается в количестве объектов недвижимости данной группы. Возможно, что клиенты этого сегмента воспользовались не одним кредитным продуктом банка.  \n",
    "- сегмент 4. Большинство данного сегмента уходят в отток. Совсем небольшое количество клиентов без кредитной карты и в целом складывается ощущение, что перепробовали почти все продукты перед оттоком. С другой стороны, большинство попадает в возрастную категорию помладше предыдущих (30-36 лет). И есть существенный перекос в сторону мужчин по количеству клиентов, а это совпадает с общей тенденцией - мужчины гораздо чаще уходят в отток, чем женщины."
   ]
  },
  {
   "cell_type": "markdown",
   "id": "d813150e",
   "metadata": {},
   "source": [
    "## 5. Статистические гипотезы"
   ]
  },
  {
   "cell_type": "markdown",
   "id": "2c034814",
   "metadata": {},
   "source": [
    "### 5.1 Определим стат. критерий. Сформируем нулевую и альтернативную гипотезу №1"
   ]
  },
  {
   "cell_type": "markdown",
   "id": "1d5f35dd",
   "metadata": {},
   "source": [
    "Уровень статистической сзначимости установим на уровне 5%.\n",
    "\n",
    "Нулевая гипотеза: средняя зарплата клиентов с одним и двумя продуктами одинаковая.  \n",
    "Альтернативная гипотеза: средняя зарплата клиентов с одним и двумя продуктами разная."
   ]
  },
  {
   "cell_type": "code",
   "execution_count": 40,
   "id": "77e33634",
   "metadata": {},
   "outputs": [
    {
     "name": "stdout",
     "output_type": "stream",
     "text": [
      "p-значение:  4.4573512522390504e-57\n",
      "Отвергаем нулевую гипотезу\n"
     ]
    }
   ],
   "source": [
    "alpha = .05\n",
    "results = st.stats.ttest_ind(\n",
    "    df[df['count_products']==2]['salary'], df[df['count_products']==1]['salary']\n",
    "    )\n",
    "print('p-значение: ', results.pvalue)\n",
    "if results.pvalue < alpha:\n",
    "    print(\"Отвергаем нулевую гипотезу\")\n",
    "else:\n",
    "    print(\"Не получилось отвергнуть нулевую гипотезу\")"
   ]
  },
  {
   "cell_type": "markdown",
   "id": "d3754c88",
   "metadata": {},
   "source": [
    "### 5.1 Определим стат. критерий. Сформируем нулевую и альтернативную гипотезу №2"
   ]
  },
  {
   "cell_type": "markdown",
   "id": "52b6b9ef",
   "metadata": {},
   "source": [
    "Уровень статистической сзначимости установим на уровне 5%. \n",
    "\n",
    "Нулевая гипотеза: среднее количество объектов собственности клиентов с мужского и женского пола одинаковое.  \n",
    "Альтернативная гипотеза: среднее количество объектов собственности клиентов с мужского и женского пола разное."
   ]
  },
  {
   "cell_type": "code",
   "execution_count": 41,
   "id": "c83c8f89",
   "metadata": {},
   "outputs": [
    {
     "name": "stdout",
     "output_type": "stream",
     "text": [
      "p-значение:  0.02786067621769642\n",
      "Отвергаем нулевую гипотезу\n"
     ]
    }
   ],
   "source": [
    "alpha = .05\n",
    "results = st.stats.ttest_ind(\n",
    "    df[df['gender']=='М']['equity'], df[df['gender']=='Ж']['equity']\n",
    "    )\n",
    "print('p-значение: ', results.pvalue)\n",
    "if results.pvalue < alpha:\n",
    "    print(\"Отвергаем нулевую гипотезу\")\n",
    "else:\n",
    "    print(\"Не получилось отвергнуть нулевую гипотезу\")"
   ]
  },
  {
   "cell_type": "markdown",
   "id": "79f46b92",
   "metadata": {},
   "source": [
    "Вывод:  \n",
    "1) количество объектов собственности клиентов с мужского и женского пола разное  \n",
    "2) зарплата клиентов с одним и двумя продуктами разная"
   ]
  },
  {
   "cell_type": "markdown",
   "id": "79505824",
   "metadata": {},
   "source": [
    "## 6. Сформулируем выводы и реккомендации в разрезе сегментов."
   ]
  },
  {
   "cell_type": "markdown",
   "id": "e99f6edc",
   "metadata": {},
   "source": [
    "Сегмент №1  \n",
    "По данному сегменту наилучшее соотношение оставшихся клиентов. Данный сегмент характеризуется высоким скоринговым рейтингом - свыше 850 баллов и большим разбросом по возрасту. Будем ориентироваться на показатели данного сегмента, как предпочтительного для банка. Мужчин больше, чем женщин. Возраст от 37 до 45. Характеризуется достаточно высоким уровнем медианной зарплаты. Так же по этому сегменту наименьший показатель объектов в собственности. Такие клиенты для банка высокопотенциальные и ещё многим не успели воспользоваться.\n",
    "Сегмент №2  \n",
    "Этот сегмент самый многочисленный по числу клиентов - 5096 из всей выборки. Он так же занимает 2-ое место по соотношению оставшихся клиентов. Возраста чаще встречаются от 37 до 45. Медианная зарплата на среднем уровне относительно других сегментов. Есть положительная динамика в увеличении объектов собственности.   \n",
    "Сегмент №3  \n",
    "Значительно меньшее число клиентов имеют 3 продукта. В среднем показатели скорингового балла у данной категории ниже, чем у других. Возможно среди таких клиентов есть те, кто довольно сильно награжал себя кредитными продуктами и допускал просрочку. Уровень средних зарплат по сегменту низкий.  \n",
    "Сегмент №4    \n",
    "Среди этих клиентов отточных больше, чем оставшихся. Очевидно, человеку уже почти нечем воспользоваться и он уходит в отток. Высокий скоринговый балл коррелируется с высоким доходом и скорее всего у таких клиентов уже есть выплаченные кредиты в банке. Так же, прослеживается. Совсем небольшое количество клиентов без кредитной карты и в целом складывается ощущение, что перепробовали почти все продукты перед оттоком. С другой стороны, большинство попадает в возрастную категорию ниже предыдущих сегментов -  30-36 лет. И есть существенный перекос в сторону мужчин по количеству клиентов, а это совпадает с общей тенденцией - мужчины гораздо чаще уходят в отток, чем женщины."
   ]
  },
  {
   "cell_type": "markdown",
   "id": "03dc9c02",
   "metadata": {},
   "source": [
    "Основные реккомендации по итогам анализа:  \n",
    "1) Обратить внимание на мужской контингент и возможно провести маркетинговый акции, нацеленные именно  на их удержание.  \n",
    "2) Обращать внимание на клиентов с 3 и 4 продуктами. Их стоит реанимировать, предложив льготы по уже действующим продуктам.  \n",
    "3) Вполне возможно использование потенциала привлечения более возрастных клиентов от 45 лет и выше. Их значительно меньше на общем фоне."
   ]
  },
  {
   "cell_type": "markdown",
   "id": "47042f62",
   "metadata": {},
   "source": [
    "Ссылка на дашборд:  \n",
    "https://public.tableau.com/app/profile/egor7452/viz/users_16781341687490/Dashboard1  "
   ]
  }
 ],
 "metadata": {
  "ExecuteTimeLog": [
   {
    "duration": 47,
    "start_time": "2023-03-07T14:01:46.657Z"
   },
   {
    "duration": 58,
    "start_time": "2023-03-07T14:06:02.972Z"
   },
   {
    "duration": 41,
    "start_time": "2023-03-07T14:06:18.126Z"
   },
   {
    "duration": 48,
    "start_time": "2023-03-07T14:06:44.600Z"
   },
   {
    "duration": 44,
    "start_time": "2023-03-07T14:08:36.514Z"
   },
   {
    "duration": 51,
    "start_time": "2023-03-09T12:20:45.112Z"
   },
   {
    "duration": 53,
    "start_time": "2023-03-09T12:21:03.035Z"
   }
  ],
  "kernelspec": {
   "display_name": "Python 3 (ipykernel)",
   "language": "python",
   "name": "python3"
  },
  "language_info": {
   "codemirror_mode": {
    "name": "ipython",
    "version": 3
   },
   "file_extension": ".py",
   "mimetype": "text/x-python",
   "name": "python",
   "nbconvert_exporter": "python",
   "pygments_lexer": "ipython3",
   "version": "3.9.7"
  },
  "toc": {
   "base_numbering": 1,
   "nav_menu": {},
   "number_sections": true,
   "sideBar": true,
   "skip_h1_title": true,
   "title_cell": "Table of Contents",
   "title_sidebar": "Contents",
   "toc_cell": false,
   "toc_position": {},
   "toc_section_display": true,
   "toc_window_display": false
  }
 },
 "nbformat": 4,
 "nbformat_minor": 5
}
